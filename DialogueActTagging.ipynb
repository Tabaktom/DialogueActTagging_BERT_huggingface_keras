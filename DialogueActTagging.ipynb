{
 "cells": [
  {
   "cell_type": "markdown",
   "metadata": {
    "colab_type": "text",
    "id": "9_ZORURKg-fp"
   },
   "source": [
    "# Lab 11: Dialogue Act Tagging\n",
    "\n",
    "Dialogue act (DA) tagging is an important step in the process of developing dialog systems. DA tagging is a problem usually solved by supervised machine learning approaches that all require large amounts of hand labeled data. A wide range of techniques have been investigated for DA tagging. In this lab, we explore two approaches to DA classification. We are using the Switchboard Dialog Act Corpus for training.\n",
    "Corpus can be downloaded from http://compprag.christopherpotts.net/swda.html.\n"
   ]
  },
  {
   "cell_type": "markdown",
   "metadata": {
    "colab_type": "text",
    "id": "ziKyA9R4gyw9"
   },
   "source": [
    "The downloaded dataset should be kept in a data folder in the same directory as this file. "
   ]
  },
  {
   "cell_type": "code",
   "execution_count": 0,
   "metadata": {
    "colab": {
     "base_uri": "https://localhost:8080/",
     "height": 1000
    },
    "colab_type": "code",
    "id": "jmTpKt_uefe5",
    "outputId": "cb0a6cbd-50a3-4613-986f-5172ffcf875b"
   },
   "outputs": [
    {
     "name": "stdout",
     "output_type": "stream",
     "text": [
      "Collecting tensorflow-gpu==1.15.2\n",
      "\u001b[?25l  Downloading https://files.pythonhosted.org/packages/32/ca/58e40e5077fa2a92004f398d705a288e958434f123938f4ce75ffe25b64b/tensorflow_gpu-1.15.2-cp36-cp36m-manylinux2010_x86_64.whl (411.0MB)\n",
      "\u001b[K     |████████████████████████████████| 411.0MB 34kB/s \n",
      "\u001b[?25hCollecting gast==0.2.2\n",
      "  Downloading https://files.pythonhosted.org/packages/4e/35/11749bf99b2d4e3cceb4d55ca22590b0d7c2c62b9de38ac4a4a7f4687421/gast-0.2.2.tar.gz\n",
      "Requirement already satisfied: absl-py>=0.7.0 in /usr/local/lib/python3.6/dist-packages (from tensorflow-gpu==1.15.2) (0.9.0)\n",
      "Requirement already satisfied: six>=1.10.0 in /usr/local/lib/python3.6/dist-packages (from tensorflow-gpu==1.15.2) (1.12.0)\n",
      "Requirement already satisfied: keras-preprocessing>=1.0.5 in /usr/local/lib/python3.6/dist-packages (from tensorflow-gpu==1.15.2) (1.1.0)\n",
      "Requirement already satisfied: wrapt>=1.11.1 in /usr/local/lib/python3.6/dist-packages (from tensorflow-gpu==1.15.2) (1.12.1)\n",
      "Requirement already satisfied: opt-einsum>=2.3.2 in /usr/local/lib/python3.6/dist-packages (from tensorflow-gpu==1.15.2) (3.2.0)\n",
      "Requirement already satisfied: protobuf>=3.6.1 in /usr/local/lib/python3.6/dist-packages (from tensorflow-gpu==1.15.2) (3.10.0)\n",
      "Collecting tensorflow-estimator==1.15.1\n",
      "\u001b[?25l  Downloading https://files.pythonhosted.org/packages/de/62/2ee9cd74c9fa2fa450877847ba560b260f5d0fb70ee0595203082dafcc9d/tensorflow_estimator-1.15.1-py2.py3-none-any.whl (503kB)\n",
      "\u001b[K     |████████████████████████████████| 512kB 65.0MB/s \n",
      "\u001b[?25hRequirement already satisfied: grpcio>=1.8.6 in /usr/local/lib/python3.6/dist-packages (from tensorflow-gpu==1.15.2) (1.28.1)\n",
      "Collecting tensorboard<1.16.0,>=1.15.0\n",
      "\u001b[?25l  Downloading https://files.pythonhosted.org/packages/1e/e9/d3d747a97f7188f48aa5eda486907f3b345cd409f0a0850468ba867db246/tensorboard-1.15.0-py3-none-any.whl (3.8MB)\n",
      "\u001b[K     |████████████████████████████████| 3.8MB 55.2MB/s \n",
      "\u001b[?25hRequirement already satisfied: numpy<2.0,>=1.16.0 in /usr/local/lib/python3.6/dist-packages (from tensorflow-gpu==1.15.2) (1.18.2)\n",
      "Requirement already satisfied: wheel>=0.26; python_version >= \"3\" in /usr/local/lib/python3.6/dist-packages (from tensorflow-gpu==1.15.2) (0.34.2)\n",
      "Requirement already satisfied: astor>=0.6.0 in /usr/local/lib/python3.6/dist-packages (from tensorflow-gpu==1.15.2) (0.8.1)\n",
      "Requirement already satisfied: termcolor>=1.1.0 in /usr/local/lib/python3.6/dist-packages (from tensorflow-gpu==1.15.2) (1.1.0)\n",
      "Requirement already satisfied: keras-applications>=1.0.8 in /usr/local/lib/python3.6/dist-packages (from tensorflow-gpu==1.15.2) (1.0.8)\n",
      "Requirement already satisfied: google-pasta>=0.1.6 in /usr/local/lib/python3.6/dist-packages (from tensorflow-gpu==1.15.2) (0.2.0)\n",
      "Requirement already satisfied: setuptools in /usr/local/lib/python3.6/dist-packages (from protobuf>=3.6.1->tensorflow-gpu==1.15.2) (46.1.3)\n",
      "Requirement already satisfied: werkzeug>=0.11.15 in /usr/local/lib/python3.6/dist-packages (from tensorboard<1.16.0,>=1.15.0->tensorflow-gpu==1.15.2) (1.0.1)\n",
      "Requirement already satisfied: markdown>=2.6.8 in /usr/local/lib/python3.6/dist-packages (from tensorboard<1.16.0,>=1.15.0->tensorflow-gpu==1.15.2) (3.2.1)\n",
      "Requirement already satisfied: h5py in /usr/local/lib/python3.6/dist-packages (from keras-applications>=1.0.8->tensorflow-gpu==1.15.2) (2.10.0)\n",
      "Building wheels for collected packages: gast\n",
      "  Building wheel for gast (setup.py) ... \u001b[?25l\u001b[?25hdone\n",
      "  Created wheel for gast: filename=gast-0.2.2-cp36-none-any.whl size=7540 sha256=716e98de987dddbb02704c5c316fb46be7a0f5bce26127bb3a051bc4d0a7e847\n",
      "  Stored in directory: /root/.cache/pip/wheels/5c/2e/7e/a1d4d4fcebe6c381f378ce7743a3ced3699feb89bcfbdadadd\n",
      "Successfully built gast\n",
      "\u001b[31mERROR: tensorflow 2.2.0rc2 has requirement gast==0.3.3, but you'll have gast 0.2.2 which is incompatible.\u001b[0m\n",
      "\u001b[31mERROR: tensorflow 2.2.0rc2 has requirement tensorboard<2.3.0,>=2.2.0, but you'll have tensorboard 1.15.0 which is incompatible.\u001b[0m\n",
      "\u001b[31mERROR: tensorflow 2.2.0rc2 has requirement tensorflow-estimator<2.3.0,>=2.2.0rc0, but you'll have tensorflow-estimator 1.15.1 which is incompatible.\u001b[0m\n",
      "Installing collected packages: gast, tensorflow-estimator, tensorboard, tensorflow-gpu\n",
      "  Found existing installation: gast 0.3.3\n",
      "    Uninstalling gast-0.3.3:\n",
      "      Successfully uninstalled gast-0.3.3\n",
      "  Found existing installation: tensorflow-estimator 2.2.0rc0\n",
      "    Uninstalling tensorflow-estimator-2.2.0rc0:\n",
      "      Successfully uninstalled tensorflow-estimator-2.2.0rc0\n",
      "  Found existing installation: tensorboard 2.2.0\n",
      "    Uninstalling tensorboard-2.2.0:\n",
      "      Successfully uninstalled tensorboard-2.2.0\n",
      "Successfully installed gast-0.2.2 tensorboard-1.15.0 tensorflow-estimator-1.15.1 tensorflow-gpu-1.15.2\n",
      "--2020-04-16 07:18:34--  http://compprag.christopherpotts.net/code-data/swda.zip\n",
      "Resolving compprag.christopherpotts.net (compprag.christopherpotts.net)... 64.90.36.20\n",
      "Connecting to compprag.christopherpotts.net (compprag.christopherpotts.net)|64.90.36.20|:80... connected.\n",
      "HTTP request sent, awaiting response... 200 OK\n",
      "Length: 14040987 (13M) [application/zip]\n",
      "Saving to: ‘swda.zip’\n",
      "\n",
      "swda.zip            100%[===================>]  13.39M  9.32MB/s    in 1.4s    \n",
      "\n",
      "2020-04-16 07:18:36 (9.32 MB/s) - ‘swda.zip’ saved [14040987/14040987]\n",
      "\n",
      "Archive:  swda.zip\n",
      "   creating: swda/\n",
      "  inflating: swda/.DS_Store          \n",
      "   creating: __MACOSX/\n",
      "   creating: __MACOSX/swda/\n",
      "  inflating: __MACOSX/swda/._.DS_Store  \n",
      "   creating: swda/sw00utt/\n",
      "  inflating: swda/sw00utt/sw_0001_4325.utt.csv  \n",
      "   creating: __MACOSX/swda/sw00utt/\n",
      "  inflating: __MACOSX/swda/sw00utt/._sw_0001_4325.utt.csv  \n",
      "  inflating: swda/sw00utt/sw_0002_4330.utt.csv  \n",
      "  inflating: swda/sw00utt/sw_0003_4103.utt.csv  \n",
      "  inflating: swda/sw00utt/sw_0004_4327.utt.csv  \n",
      "  inflating: swda/sw00utt/sw_0005_4646.utt.csv  \n",
      "  inflating: swda/sw00utt/sw_0006_4108.utt.csv  \n",
      "  inflating: swda/sw00utt/sw_0007_4171.utt.csv  \n",
      "  inflating: swda/sw00utt/sw_0008_4321.utt.csv  \n",
      "  inflating: swda/sw00utt/sw_0009_4329.utt.csv  \n",
      "  inflating: swda/sw00utt/sw_0010_4356.utt.csv  \n",
      "  inflating: swda/sw00utt/sw_0011_4358.utt.csv  \n",
      "  inflating: swda/sw00utt/sw_0012_4360.utt.csv  \n",
      "  inflating: swda/sw00utt/sw_0013_4617.utt.csv  \n",
      "  inflating: swda/sw00utt/sw_0014_4619.utt.csv  \n",
      "  inflating: swda/sw00utt/sw_0015_4877.utt.csv  \n",
      "  inflating: swda/sw00utt/sw_0016_3389.utt.csv  \n",
      "  inflating: swda/sw00utt/sw_0017_4036.utt.csv  \n",
      "  inflating: swda/sw00utt/sw_0018_4082.utt.csv  \n",
      "  inflating: swda/sw00utt/sw_0019_4104.utt.csv  \n",
      "  inflating: swda/sw00utt/sw_0020_4109.utt.csv  \n",
      "  inflating: swda/sw00utt/sw_0021_4168.utt.csv  \n",
      "  inflating: swda/sw00utt/sw_0022_4320.utt.csv  \n",
      "  inflating: swda/sw00utt/sw_0023_4341.utt.csv  \n",
      "  inflating: swda/sw00utt/sw_0024_4688.utt.csv  \n",
      "  inflating: swda/sw00utt/sw_0025_2451.utt.csv  \n",
      "  inflating: swda/sw00utt/sw_0026_3902.utt.csv  \n",
      "  inflating: swda/sw00utt/sw_0027_4096.utt.csv  \n",
      "  inflating: swda/sw00utt/sw_0028_4133.utt.csv  \n",
      "  inflating: swda/sw00utt/sw_0029_4152.utt.csv  \n",
      "  inflating: swda/sw00utt/sw_0030_4166.utt.csv  \n",
      "  inflating: swda/sw00utt/sw_0031_4319.utt.csv  \n",
      "  inflating: swda/sw00utt/sw_0032_4333.utt.csv  \n",
      "  inflating: swda/sw00utt/sw_0033_4336.utt.csv  \n",
      "  inflating: swda/sw00utt/sw_0034_4345.utt.csv  \n",
      "  inflating: swda/sw00utt/sw_0035_4372.utt.csv  \n",
      "  inflating: swda/sw00utt/sw_0036_4379.utt.csv  \n",
      "  inflating: swda/sw00utt/sw_0037_4382.utt.csv  \n",
      "  inflating: swda/sw00utt/sw_0038_4611.utt.csv  \n",
      "  inflating: swda/sw00utt/sw_0039_4628.utt.csv  \n",
      "  inflating: swda/sw00utt/sw_0040_2095.utt.csv  \n",
      "  inflating: swda/sw00utt/sw_0041_4048.utt.csv  \n",
      "  inflating: swda/sw00utt/sw_0042_4060.utt.csv  \n",
      "  inflating: swda/sw00utt/sw_0043_4148.utt.csv  \n",
      "  inflating: swda/sw00utt/sw_0044_4177.utt.csv  \n",
      "  inflating: swda/sw00utt/sw_0045_4312.utt.csv  \n",
      "  inflating: swda/sw00utt/sw_0046_4316.utt.csv  \n",
      "  inflating: swda/sw00utt/sw_0047_4339.utt.csv  \n",
      "  inflating: swda/sw00utt/sw_0048_4340.utt.csv  \n",
      "  inflating: swda/sw00utt/sw_0049_4353.utt.csv  \n",
      "  inflating: swda/sw00utt/sw_0050_4362.utt.csv  \n",
      "  inflating: swda/sw00utt/sw_0051_4364.utt.csv  \n",
      "  inflating: swda/sw00utt/sw_0052_4378.utt.csv  \n",
      "  inflating: swda/sw00utt/sw_0053_2184.utt.csv  \n",
      "  inflating: swda/sw00utt/sw_0054_2789.utt.csv  \n",
      "  inflating: swda/sw00utt/sw_0055_3156.utt.csv  \n",
      "  inflating: swda/sw00utt/sw_0056_3351.utt.csv  \n",
      "  inflating: swda/sw00utt/sw_0057_3506.utt.csv  \n",
      "  inflating: swda/sw00utt/sw_0058_3707.utt.csv  \n",
      "  inflating: swda/sw00utt/sw_0059_4028.utt.csv  \n",
      "  inflating: swda/sw00utt/sw_0060_4038.utt.csv  \n",
      "  inflating: swda/sw00utt/sw_0061_4151.utt.csv  \n",
      "  inflating: swda/sw00utt/sw_0062_4158.utt.csv  \n",
      "  inflating: swda/sw00utt/sw_0063_4334.utt.csv  \n",
      "  inflating: swda/sw00utt/sw_0064_4346.utt.csv  \n",
      "  inflating: swda/sw00utt/sw_0065_4349.utt.csv  \n",
      "  inflating: swda/sw00utt/sw_0066_2593.utt.csv  \n",
      "  inflating: swda/sw00utt/sw_0067_2945.utt.csv  \n",
      "  inflating: swda/sw00utt/sw_0068_3075.utt.csv  \n",
      "  inflating: swda/sw00utt/sw_0069_3144.utt.csv  \n",
      "  inflating: swda/sw00utt/sw_0070_3435.utt.csv  \n",
      "  inflating: swda/sw00utt/sw_0071_3658.utt.csv  \n",
      "  inflating: swda/sw00utt/sw_0072_3876.utt.csv  \n",
      "  inflating: swda/sw00utt/sw_0073_4049.utt.csv  \n",
      "  inflating: swda/sw00utt/sw_0074_4127.utt.csv  \n",
      "  inflating: swda/sw00utt/sw_0075_4129.utt.csv  \n",
      "  inflating: swda/sw00utt/sw_0076_4153.utt.csv  \n",
      "  inflating: swda/sw00utt/sw_0077_4155.utt.csv  \n",
      "  inflating: swda/sw00utt/sw_0078_4181.utt.csv  \n",
      "  inflating: swda/sw00utt/sw_0079_4318.utt.csv  \n",
      "  inflating: swda/sw00utt/sw_0080_4366.utt.csv  \n",
      "  inflating: swda/sw00utt/sw_0081_4380.utt.csv  \n",
      "  inflating: swda/sw00utt/sw_0082_4626.utt.csv  \n",
      "  inflating: swda/sw00utt/sw_0083_4830.utt.csv  \n",
      "  inflating: swda/sw00utt/sw_0084_2109.utt.csv  \n",
      "  inflating: swda/sw00utt/sw_0085_2395.utt.csv  \n",
      "  inflating: swda/sw00utt/sw_0086_2546.utt.csv  \n",
      "  inflating: swda/sw00utt/sw_0087_2775.utt.csv  \n",
      "  inflating: swda/sw00utt/sw_0088_3073.utt.csv  \n",
      "  inflating: swda/sw00utt/sw_0089_3086.utt.csv  \n",
      "  inflating: swda/sw00utt/sw_0090_3133.utt.csv  \n",
      "  inflating: swda/sw00utt/sw_0091_3135.utt.csv  \n",
      "  inflating: swda/sw00utt/sw_0092_3154.utt.csv  \n",
      "  inflating: swda/sw00utt/sw_0093_3227.utt.csv  \n",
      "  inflating: swda/sw00utt/sw_0094_3315.utt.csv  \n",
      "  inflating: swda/sw00utt/sw_0095_3445.utt.csv  \n",
      "  inflating: swda/sw00utt/sw_0096_3580.utt.csv  \n",
      "  inflating: swda/sw00utt/sw_0097_3798.utt.csv  \n",
      "  inflating: swda/sw00utt/sw_0098_3830.utt.csv  \n",
      "  inflating: swda/sw00utt/sw_0099_3917.utt.csv  \n",
      "   creating: swda/sw01utt/\n",
      "  inflating: swda/sw01utt/sw_0100_3925.utt.csv  \n",
      "  inflating: swda/sw01utt/sw_0101_4019.utt.csv  \n",
      "  inflating: swda/sw01utt/sw_0102_4033.utt.csv  \n",
      "  inflating: swda/sw01utt/sw_0103_4074.utt.csv  \n",
      "  inflating: swda/sw01utt/sw_0104_4101.utt.csv  \n",
      "  inflating: swda/sw01utt/sw_0105_4123.utt.csv  \n",
      "  inflating: swda/sw01utt/sw_0106_4137.utt.csv  \n",
      "  inflating: swda/sw01utt/sw_0107_4150.utt.csv  \n",
      "  inflating: swda/sw01utt/sw_0108_4175.utt.csv  \n",
      "  inflating: swda/sw01utt/sw_0109_4342.utt.csv  \n",
      "  inflating: swda/sw01utt/sw_0110_4880.utt.csv  \n",
      "  inflating: swda/sw01utt/sw_0111_2018.utt.csv  \n",
      "  inflating: swda/sw01utt/sw_0112_2061.utt.csv  \n",
      "  inflating: swda/sw01utt/sw_0113_2093.utt.csv  \n",
      "  inflating: swda/sw01utt/sw_0114_2107.utt.csv  \n",
      "  inflating: swda/sw01utt/sw_0115_2370.utt.csv  \n",
      "  inflating: swda/sw01utt/sw_0116_2406.utt.csv  \n",
      "  inflating: swda/sw01utt/sw_0117_2837.utt.csv  \n",
      "  inflating: swda/sw01utt/sw_0118_3080.utt.csv  \n",
      "  inflating: swda/sw01utt/sw_0119_3083.utt.csv  \n",
      "  inflating: swda/sw01utt/sw_0120_3113.utt.csv  \n",
      "  inflating: swda/sw01utt/sw_0121_3140.utt.csv  \n",
      "  inflating: swda/sw01utt/sw_0122_3161.utt.csv  \n",
      "  inflating: swda/sw01utt/sw_0123_3186.utt.csv  \n",
      "  inflating: swda/sw01utt/sw_0124_3201.utt.csv  \n",
      "  inflating: swda/sw01utt/sw_0125_3306.utt.csv  \n",
      "  inflating: swda/sw01utt/sw_0126_3349.utt.csv  \n",
      "  inflating: swda/sw01utt/sw_0127_3411.utt.csv  \n",
      "  inflating: swda/sw01utt/sw_0128_3441.utt.csv  \n",
      "  inflating: swda/sw01utt/sw_0129_3476.utt.csv  \n",
      "  inflating: swda/sw01utt/sw_0130_3514.utt.csv  \n",
      "  inflating: swda/sw01utt/sw_0131_3561.utt.csv  \n",
      "  inflating: swda/sw01utt/sw_0132_3682.utt.csv  \n",
      "  inflating: swda/sw01utt/sw_0133_3796.utt.csv  \n",
      "  inflating: swda/sw01utt/sw_0134_3887.utt.csv  \n",
      "  inflating: swda/sw01utt/sw_0135_4090.utt.csv  \n",
      "  inflating: swda/sw01utt/sw_0136_4099.utt.csv  \n",
      "  inflating: swda/sw01utt/sw_0137_4370.utt.csv  \n",
      "  inflating: swda/sw01utt/sw_0138_4890.utt.csv  \n",
      "  inflating: swda/sw01utt/sw_0139_4908.utt.csv  \n",
      "  inflating: swda/sw01utt/sw_0140_4928.utt.csv  \n",
      "  inflating: swda/sw01utt/sw_0141_2060.utt.csv  \n",
      "  inflating: swda/sw01utt/sw_0142_2145.utt.csv  \n",
      "  inflating: swda/sw01utt/sw_0143_2290.utt.csv  \n",
      "  inflating: swda/sw01utt/sw_0144_2399.utt.csv  \n",
      "  inflating: swda/sw01utt/sw_0145_2429.utt.csv  \n",
      "  inflating: swda/sw01utt/sw_0146_2477.utt.csv  \n",
      "  inflating: swda/sw01utt/sw_0147_2539.utt.csv  \n",
      "  inflating: swda/sw01utt/sw_0148_2604.utt.csv  \n",
      "  inflating: swda/sw01utt/sw_0149_2611.utt.csv  \n",
      "  inflating: swda/sw01utt/sw_0150_2628.utt.csv  \n",
      "  inflating: swda/sw01utt/sw_0151_2772.utt.csv  \n",
      "  inflating: swda/sw01utt/sw_0152_3108.utt.csv  \n",
      "  inflating: swda/sw01utt/sw_0153_3138.utt.csv  \n",
      "  inflating: swda/sw01utt/sw_0154_3142.utt.csv  \n",
      "  inflating: swda/sw01utt/sw_0155_3219.utt.csv  \n",
      "  inflating: swda/sw01utt/sw_0156_3252.utt.csv  \n",
      "  inflating: swda/sw01utt/sw_0157_3304.utt.csv  \n",
      "  inflating: swda/sw01utt/sw_0158_3327.utt.csv  \n",
      "  inflating: swda/sw01utt/sw_0159_3369.utt.csv  \n",
      "  inflating: swda/sw01utt/sw_0160_3467.utt.csv  \n",
      "  inflating: swda/sw01utt/sw_0161_3781.utt.csv  \n",
      "  inflating: swda/sw01utt/sw_0162_3801.utt.csv  \n",
      "  inflating: swda/sw01utt/sw_0163_3821.utt.csv  \n",
      "  inflating: swda/sw01utt/sw_0164_3862.utt.csv  \n",
      "  inflating: swda/sw01utt/sw_0165_4079.utt.csv  \n",
      "  inflating: swda/sw01utt/sw_0166_4519.utt.csv  \n",
      "  inflating: swda/sw01utt/sw_0167_4736.utt.csv  \n",
      "  inflating: swda/sw01utt/sw_0168_4765.utt.csv  \n",
      "  inflating: swda/sw01utt/sw_0169_4831.utt.csv  \n",
      "  inflating: swda/sw01utt/sw_0170_4868.utt.csv  \n",
      "  inflating: swda/sw01utt/sw_0171_2028.utt.csv  \n",
      "  inflating: swda/sw01utt/sw_0172_2305.utt.csv  \n",
      "  inflating: swda/sw01utt/sw_0173_2548.utt.csv  \n",
      "  inflating: swda/sw01utt/sw_0174_2708.utt.csv  \n",
      "  inflating: swda/sw01utt/sw_0175_2729.utt.csv  \n",
      "  inflating: swda/sw01utt/sw_0176_2749.utt.csv  \n",
      "  inflating: swda/sw01utt/sw_0177_2759.utt.csv  \n",
      "  inflating: swda/sw01utt/sw_0178_3038.utt.csv  \n",
      "  inflating: swda/sw01utt/sw_0179_3120.utt.csv  \n",
      "  inflating: swda/sw01utt/sw_0180_3134.utt.csv  \n",
      "  inflating: swda/sw01utt/sw_0181_3146.utt.csv  \n",
      "  inflating: swda/sw01utt/sw_0182_3152.utt.csv  \n",
      "  inflating: swda/sw01utt/sw_0183_3169.utt.csv  \n",
      "  inflating: swda/sw01utt/sw_0184_3171.utt.csv  \n",
      "  inflating: swda/sw01utt/sw_0185_3174.utt.csv  \n",
      "  inflating: swda/sw01utt/sw_0186_3188.utt.csv  \n",
      "  inflating: swda/sw01utt/sw_0187_3242.utt.csv  \n",
      "  inflating: swda/sw01utt/sw_0188_3251.utt.csv  \n",
      "  inflating: swda/sw01utt/sw_0189_3266.utt.csv  \n",
      "  inflating: swda/sw01utt/sw_0190_3324.utt.csv  \n",
      "  inflating: swda/sw01utt/sw_0191_3427.utt.csv  \n",
      "  inflating: swda/sw01utt/sw_0192_3495.utt.csv  \n",
      "  inflating: swda/sw01utt/sw_0193_3508.utt.csv  \n",
      "  inflating: swda/sw01utt/sw_0194_3595.utt.csv  \n",
      "  inflating: swda/sw01utt/sw_0195_3763.utt.csv  \n",
      "  inflating: swda/sw01utt/sw_0196_3838.utt.csv  \n",
      "  inflating: swda/sw01utt/sw_0197_3883.utt.csv  \n",
      "  inflating: swda/sw01utt/sw_0198_3962.utt.csv  \n",
      "  inflating: swda/sw01utt/sw_0199_4004.utt.csv  \n",
      "   creating: swda/sw02utt/\n",
      "  inflating: swda/sw02utt/sw_0200_4159.utt.csv  \n",
      "  inflating: swda/sw02utt/sw_0201_4311.utt.csv  \n",
      "  inflating: swda/sw02utt/sw_0202_4376.utt.csv  \n",
      "  inflating: swda/sw02utt/sw_0203_4603.utt.csv  \n",
      "  inflating: swda/sw02utt/sw_0204_4698.utt.csv  \n",
      "  inflating: swda/sw02utt/sw_0205_4725.utt.csv  \n",
      "  inflating: swda/sw02utt/sw_0206_4859.utt.csv  \n",
      "  inflating: swda/sw02utt/sw_0207_2039.utt.csv  \n",
      "  inflating: swda/sw02utt/sw_0208_2094.utt.csv  \n",
      "  inflating: swda/sw02utt/sw_0209_2102.utt.csv  \n",
      "  inflating: swda/sw02utt/sw_0210_2113.utt.csv  \n",
      "  inflating: swda/sw02utt/sw_0211_2163.utt.csv  \n",
      "  inflating: swda/sw02utt/sw_0212_2275.utt.csv  \n",
      "  inflating: swda/sw02utt/sw_0213_2285.utt.csv  \n",
      "  inflating: swda/sw02utt/sw_0214_2302.utt.csv  \n",
      "  inflating: swda/sw02utt/sw_0215_2314.utt.csv  \n",
      "  inflating: swda/sw02utt/sw_0216_2336.utt.csv  \n",
      "  inflating: swda/sw02utt/sw_0217_2421.utt.csv  \n",
      "  inflating: swda/sw02utt/sw_0218_2465.utt.csv  \n",
      "  inflating: swda/sw02utt/sw_0219_2472.utt.csv  \n",
      "  inflating: swda/sw02utt/sw_0220_2549.utt.csv  \n",
      "  inflating: swda/sw02utt/sw_0221_2566.utt.csv  \n",
      "  inflating: swda/sw02utt/sw_0222_2676.utt.csv  \n",
      "  inflating: swda/sw02utt/sw_0223_2703.utt.csv  \n",
      "  inflating: swda/sw02utt/sw_0224_2818.utt.csv  \n",
      "  inflating: swda/sw02utt/sw_0225_2877.utt.csv  \n",
      "  inflating: swda/sw02utt/sw_0226_3081.utt.csv  \n",
      "  inflating: swda/sw02utt/sw_0227_3093.utt.csv  \n",
      "  inflating: swda/sw02utt/sw_0228_3115.utt.csv  \n",
      "  inflating: swda/sw02utt/sw_0229_3130.utt.csv  \n",
      "  inflating: swda/sw02utt/sw_0230_3148.utt.csv  \n",
      "  inflating: swda/sw02utt/sw_0231_3150.utt.csv  \n",
      "  inflating: swda/sw02utt/sw_0232_3159.utt.csv  \n",
      "  inflating: swda/sw02utt/sw_0233_3182.utt.csv  \n",
      "  inflating: swda/sw02utt/sw_0234_3195.utt.csv  \n",
      "  inflating: swda/sw02utt/sw_0235_3232.utt.csv  \n",
      "  inflating: swda/sw02utt/sw_0236_3235.utt.csv  \n",
      "  inflating: swda/sw02utt/sw_0237_3279.utt.csv  \n",
      "  inflating: swda/sw02utt/sw_0238_3364.utt.csv  \n",
      "  inflating: swda/sw02utt/sw_0239_3367.utt.csv  \n",
      "  inflating: swda/sw02utt/sw_0240_3387.utt.csv  \n",
      "  inflating: swda/sw02utt/sw_0241_3403.utt.csv  \n",
      "  inflating: swda/sw02utt/sw_0242_3503.utt.csv  \n",
      "  inflating: swda/sw02utt/sw_0243_3513.utt.csv  \n",
      "  inflating: swda/sw02utt/sw_0244_3526.utt.csv  \n",
      "  inflating: swda/sw02utt/sw_0245_3565.utt.csv  \n",
      "  inflating: swda/sw02utt/sw_0246_3615.utt.csv  \n",
      "  inflating: swda/sw02utt/sw_0247_3660.utt.csv  \n",
      "  inflating: swda/sw02utt/sw_0248_3697.utt.csv  \n",
      "  inflating: swda/sw02utt/sw_0249_3728.utt.csv  \n",
      "  inflating: swda/sw02utt/sw_0250_3850.utt.csv  \n",
      "  inflating: swda/sw02utt/sw_0251_4026.utt.csv  \n",
      "  inflating: swda/sw02utt/sw_0252_4071.utt.csv  \n",
      "  inflating: swda/sw02utt/sw_0253_4072.utt.csv  \n",
      "  inflating: swda/sw02utt/sw_0254_4138.utt.csv  \n",
      "  inflating: swda/sw02utt/sw_0255_4548.utt.csv  \n",
      "  inflating: swda/sw02utt/sw_0256_4728.utt.csv  \n",
      "  inflating: swda/sw02utt/sw_0257_4876.utt.csv  \n",
      "  inflating: swda/sw02utt/sw_0258_2008.utt.csv  \n",
      "  inflating: swda/sw02utt/sw_0259_2020.utt.csv  \n",
      "  inflating: swda/sw02utt/sw_0260_2073.utt.csv  \n",
      "  inflating: swda/sw02utt/sw_0261_2120.utt.csv  \n",
      "  inflating: swda/sw02utt/sw_0262_2137.utt.csv  \n",
      "  inflating: swda/sw02utt/sw_0263_2226.utt.csv  \n",
      "  inflating: swda/sw02utt/sw_0264_2252.utt.csv  \n",
      "  inflating: swda/sw02utt/sw_0265_2264.utt.csv  \n",
      "  inflating: swda/sw02utt/sw_0266_2299.utt.csv  \n",
      "  inflating: swda/sw02utt/sw_0267_2362.utt.csv  \n",
      "  inflating: swda/sw02utt/sw_0268_2366.utt.csv  \n",
      "  inflating: swda/sw02utt/sw_0269_2382.utt.csv  \n",
      "  inflating: swda/sw02utt/sw_0270_2397.utt.csv  \n",
      "  inflating: swda/sw02utt/sw_0271_2435.utt.csv  \n",
      "  inflating: swda/sw02utt/sw_0272_2479.utt.csv  \n",
      "  inflating: swda/sw02utt/sw_0273_2485.utt.csv  \n",
      "  inflating: swda/sw02utt/sw_0274_2527.utt.csv  \n",
      "  inflating: swda/sw02utt/sw_0275_2540.utt.csv  \n",
      "  inflating: swda/sw02utt/sw_0276_2565.utt.csv  \n",
      "  inflating: swda/sw02utt/sw_0277_2598.utt.csv  \n",
      "  inflating: swda/sw02utt/sw_0278_2599.utt.csv  \n",
      "  inflating: swda/sw02utt/sw_0279_2602.utt.csv  \n",
      "  inflating: swda/sw02utt/sw_0280_2648.utt.csv  \n",
      "  inflating: swda/sw02utt/sw_0281_2657.utt.csv  \n",
      "  inflating: swda/sw02utt/sw_0282_2672.utt.csv  \n",
      "  inflating: swda/sw02utt/sw_0283_2710.utt.csv  \n",
      "  inflating: swda/sw02utt/sw_0284_2743.utt.csv  \n",
      "  inflating: swda/sw02utt/sw_0285_2756.utt.csv  \n",
      "  inflating: swda/sw02utt/sw_0286_2785.utt.csv  \n",
      "  inflating: swda/sw02utt/sw_0287_2819.utt.csv  \n",
      "  inflating: swda/sw02utt/sw_0288_2828.utt.csv  \n",
      "  inflating: swda/sw02utt/sw_0289_2832.utt.csv  \n",
      "  inflating: swda/sw02utt/sw_0290_2851.utt.csv  \n",
      "  inflating: swda/sw02utt/sw_0291_2876.utt.csv  \n",
      "  inflating: swda/sw02utt/sw_0292_3023.utt.csv  \n",
      "  inflating: swda/sw02utt/sw_0293_3069.utt.csv  \n",
      "  inflating: swda/sw02utt/sw_0294_3088.utt.csv  \n",
      "  inflating: swda/sw02utt/sw_0295_3200.utt.csv  \n",
      "  inflating: swda/sw02utt/sw_0296_3202.utt.csv  \n",
      "  inflating: swda/sw02utt/sw_0297_3223.utt.csv  \n",
      "  inflating: swda/sw02utt/sw_0298_3245.utt.csv  \n",
      "  inflating: swda/sw02utt/sw_0299_3254.utt.csv  \n",
      "   creating: swda/sw03utt/\n",
      "  inflating: swda/sw03utt/sw_0300_3268.utt.csv  \n",
      "  inflating: swda/sw03utt/sw_0301_3269.utt.csv  \n",
      "  inflating: swda/sw03utt/sw_0302_3309.utt.csv  \n",
      "  inflating: swda/sw03utt/sw_0303_3313.utt.csv  \n",
      "  inflating: swda/sw03utt/sw_0304_3338.utt.csv  \n",
      "  inflating: swda/sw03utt/sw_0305_3343.utt.csv  \n",
      "  inflating: swda/sw03utt/sw_0306_3345.utt.csv  \n",
      "  inflating: swda/sw03utt/sw_0307_3375.utt.csv  \n",
      "  inflating: swda/sw03utt/sw_0308_3646.utt.csv  \n",
      "  inflating: swda/sw03utt/sw_0309_3663.utt.csv  \n",
      "  inflating: swda/sw03utt/sw_0310_3699.utt.csv  \n",
      "  inflating: swda/sw03utt/sw_0311_3776.utt.csv  \n",
      "  inflating: swda/sw03utt/sw_0312_3784.utt.csv  \n",
      "  inflating: swda/sw03utt/sw_0313_3825.utt.csv  \n",
      "  inflating: swda/sw03utt/sw_0314_3983.utt.csv  \n",
      "  inflating: swda/sw03utt/sw_0315_3993.utt.csv  \n",
      "  inflating: swda/sw03utt/sw_0316_4051.utt.csv  \n",
      "  inflating: swda/sw03utt/sw_0317_4064.utt.csv  \n",
      "  inflating: swda/sw03utt/sw_0318_4565.utt.csv  \n",
      "  inflating: swda/sw03utt/sw_0319_4642.utt.csv  \n",
      "  inflating: swda/sw03utt/sw_0320_4720.utt.csv  \n",
      "  inflating: swda/sw03utt/sw_0321_4902.utt.csv  \n",
      "  inflating: swda/sw03utt/sw_0322_4936.utt.csv  \n",
      "  inflating: swda/sw03utt/sw_0323_2022.utt.csv  \n",
      "  inflating: swda/sw03utt/sw_0324_2154.utt.csv  \n",
      "  inflating: swda/sw03utt/sw_0325_2171.utt.csv  \n",
      "  inflating: swda/sw03utt/sw_0326_2249.utt.csv  \n",
      "  inflating: swda/sw03utt/sw_0327_2253.utt.csv  \n",
      "  inflating: swda/sw03utt/sw_0328_2349.utt.csv  \n",
      "  inflating: swda/sw03utt/sw_0329_2372.utt.csv  \n",
      "  inflating: swda/sw03utt/sw_0330_2466.utt.csv  \n",
      "  inflating: swda/sw03utt/sw_0331_2488.utt.csv  \n",
      "  inflating: swda/sw03utt/sw_0332_2571.utt.csv  \n",
      "  inflating: swda/sw03utt/sw_0333_2584.utt.csv  \n",
      "  inflating: swda/sw03utt/sw_0334_2587.utt.csv  \n",
      "  inflating: swda/sw03utt/sw_0335_2589.utt.csv  \n",
      "  inflating: swda/sw03utt/sw_0336_2603.utt.csv  \n",
      "  inflating: swda/sw03utt/sw_0337_2608.utt.csv  \n",
      "  inflating: swda/sw03utt/sw_0338_2641.utt.csv  \n",
      "  inflating: swda/sw03utt/sw_0339_2669.utt.csv  \n",
      "  inflating: swda/sw03utt/sw_0340_2678.utt.csv  \n",
      "  inflating: swda/sw03utt/sw_0341_2932.utt.csv  \n",
      "  inflating: swda/sw03utt/sw_0342_2956.utt.csv  \n",
      "  inflating: swda/sw03utt/sw_0343_2965.utt.csv  \n",
      "  inflating: swda/sw03utt/sw_0344_3020.utt.csv  \n",
      "  inflating: swda/sw03utt/sw_0345_3021.utt.csv  \n",
      "  inflating: swda/sw03utt/sw_0346_3047.utt.csv  \n",
      "  inflating: swda/sw03utt/sw_0347_3052.utt.csv  \n",
      "  inflating: swda/sw03utt/sw_0348_3062.utt.csv  \n",
      "  inflating: swda/sw03utt/sw_0349_3082.utt.csv  \n",
      "  inflating: swda/sw03utt/sw_0350_3103.utt.csv  \n",
      "  inflating: swda/sw03utt/sw_0351_3207.utt.csv  \n",
      "  inflating: swda/sw03utt/sw_0352_3236.utt.csv  \n",
      "  inflating: swda/sw03utt/sw_0353_3239.utt.csv  \n",
      "  inflating: swda/sw03utt/sw_0354_3286.utt.csv  \n",
      "  inflating: swda/sw03utt/sw_0355_3300.utt.csv  \n",
      "  inflating: swda/sw03utt/sw_0356_3303.utt.csv  \n",
      "  inflating: swda/sw03utt/sw_0357_3360.utt.csv  \n",
      "  inflating: swda/sw03utt/sw_0358_3362.utt.csv  \n",
      "  inflating: swda/sw03utt/sw_0359_3393.utt.csv  \n",
      "  inflating: swda/sw03utt/sw_0360_3397.utt.csv  \n",
      "  inflating: swda/sw03utt/sw_0361_3398.utt.csv  \n",
      "  inflating: swda/sw03utt/sw_0362_3447.utt.csv  \n",
      "  inflating: swda/sw03utt/sw_0363_3487.utt.csv  \n",
      "  inflating: swda/sw03utt/sw_0364_3491.utt.csv  \n",
      "  inflating: swda/sw03utt/sw_0365_3515.utt.csv  \n",
      "  inflating: swda/sw03utt/sw_0366_3517.utt.csv  \n",
      "  inflating: swda/sw03utt/sw_0367_3524.utt.csv  \n",
      "  inflating: swda/sw03utt/sw_0368_3541.utt.csv  \n",
      "  inflating: swda/sw03utt/sw_0369_3584.utt.csv  \n",
      "  inflating: swda/sw03utt/sw_0370_3636.utt.csv  \n",
      "  inflating: swda/sw03utt/sw_0371_3688.utt.csv  \n",
      "  inflating: swda/sw03utt/sw_0372_3725.utt.csv  \n",
      "  inflating: swda/sw03utt/sw_0373_4013.utt.csv  \n",
      "  inflating: swda/sw03utt/sw_0374_4032.utt.csv  \n",
      "  inflating: swda/sw03utt/sw_0375_4050.utt.csv  \n",
      "  inflating: swda/sw03utt/sw_0376_4077.utt.csv  \n",
      "  inflating: swda/sw03utt/sw_0377_4130.utt.csv  \n",
      "  inflating: swda/sw03utt/sw_0378_4154.utt.csv  \n",
      "  inflating: swda/sw03utt/sw_0379_4483.utt.csv  \n",
      "  inflating: swda/sw03utt/sw_0380_4572.utt.csv  \n",
      "  inflating: swda/sw03utt/sw_0381_4784.utt.csv  \n",
      "  inflating: swda/sw03utt/sw_0382_4785.utt.csv  \n",
      "  inflating: swda/sw03utt/sw_0383_4812.utt.csv  \n",
      "  inflating: swda/sw03utt/sw_0384_2005.utt.csv  \n",
      "  inflating: swda/sw03utt/sw_0385_2012.utt.csv  \n",
      "  inflating: swda/sw03utt/sw_0386_2035.utt.csv  \n",
      "  inflating: swda/sw03utt/sw_0387_2067.utt.csv  \n",
      "  inflating: swda/sw03utt/sw_0388_2078.utt.csv  \n",
      "  inflating: swda/sw03utt/sw_0389_2157.utt.csv  \n",
      "  inflating: swda/sw03utt/sw_0390_2241.utt.csv  \n",
      "  inflating: swda/sw03utt/sw_0391_2259.utt.csv  \n",
      "  inflating: swda/sw03utt/sw_0392_2405.utt.csv  \n",
      "  inflating: swda/sw03utt/sw_0393_2407.utt.csv  \n",
      "  inflating: swda/sw03utt/sw_0394_2427.utt.csv  \n",
      "  inflating: swda/sw03utt/sw_0395_2442.utt.csv  \n",
      "  inflating: swda/sw03utt/sw_0396_2490.utt.csv  \n",
      "  inflating: swda/sw03utt/sw_0397_2492.utt.csv  \n",
      "  inflating: swda/sw03utt/sw_0398_2504.utt.csv  \n",
      "  inflating: swda/sw03utt/sw_0399_2526.utt.csv  \n",
      "   creating: swda/sw04utt/\n",
      "  inflating: swda/sw04utt/sw_0400_2558.utt.csv  \n",
      "  inflating: swda/sw04utt/sw_0401_2568.utt.csv  \n",
      "  inflating: swda/sw04utt/sw_0402_2634.utt.csv  \n",
      "   creating: __MACOSX/swda/sw04utt/\n",
      "  inflating: __MACOSX/swda/sw04utt/._sw_0402_2634.utt.csv  \n",
      "  inflating: swda/sw04utt/sw_0403_2650.utt.csv  \n",
      "  inflating: swda/sw04utt/sw_0404_2667.utt.csv  \n",
      "  inflating: swda/sw04utt/sw_0405_2717.utt.csv  \n",
      "  inflating: swda/sw04utt/sw_0406_2784.utt.csv  \n",
      "  inflating: swda/sw04utt/sw_0407_2826.utt.csv  \n",
      "  inflating: swda/sw04utt/sw_0408_2860.utt.csv  \n",
      "  inflating: swda/sw04utt/sw_0409_2866.utt.csv  \n",
      "  inflating: swda/sw04utt/sw_0410_2970.utt.csv  \n",
      "  inflating: swda/sw04utt/sw_0411_2998.utt.csv  \n",
      "  inflating: swda/sw04utt/sw_0412_3015.utt.csv  \n",
      "  inflating: swda/sw04utt/sw_0413_3041.utt.csv  \n",
      "  inflating: swda/sw04utt/sw_0414_3067.utt.csv  \n",
      "  inflating: swda/sw04utt/sw_0415_3168.utt.csv  \n",
      "  inflating: swda/sw04utt/sw_0416_3205.utt.csv  \n",
      "  inflating: swda/sw04utt/sw_0417_3237.utt.csv  \n",
      "  inflating: swda/sw04utt/sw_0418_3275.utt.csv  \n",
      "  inflating: swda/sw04utt/sw_0419_3284.utt.csv  \n",
      "  inflating: swda/sw04utt/sw_0420_3288.utt.csv  \n",
      "  inflating: swda/sw04utt/sw_0421_3311.utt.csv  \n",
      "  inflating: swda/sw04utt/sw_0422_3320.utt.csv  \n",
      "  inflating: swda/sw04utt/sw_0423_3325.utt.csv  \n",
      "  inflating: swda/sw04utt/sw_0424_3328.utt.csv  \n",
      "  inflating: swda/sw04utt/sw_0425_3382.utt.csv  \n",
      "  inflating: swda/sw04utt/sw_0426_3409.utt.csv  \n",
      "  inflating: swda/sw04utt/sw_0427_3509.utt.csv  \n",
      "  inflating: swda/sw04utt/sw_0428_3550.utt.csv  \n",
      "  inflating: swda/sw04utt/sw_0429_3607.utt.csv  \n",
      "  inflating: swda/sw04utt/sw_0430_3633.utt.csv  \n",
      "  inflating: swda/sw04utt/sw_0431_3655.utt.csv  \n",
      "  inflating: swda/sw04utt/sw_0432_3720.utt.csv  \n",
      "  inflating: swda/sw04utt/sw_0433_3727.utt.csv  \n",
      "  inflating: swda/sw04utt/sw_0434_3809.utt.csv  \n",
      "  inflating: swda/sw04utt/sw_0435_4008.utt.csv  \n",
      "  inflating: swda/sw04utt/sw_0436_4055.utt.csv  \n",
      "  inflating: swda/sw04utt/sw_0437_4092.utt.csv  \n",
      "  inflating: swda/sw04utt/sw_0438_4113.utt.csv  \n",
      "  inflating: swda/sw04utt/sw_0439_4314.utt.csv  \n",
      "  inflating: swda/sw04utt/sw_0440_4347.utt.csv  \n",
      "  inflating: swda/sw04utt/sw_0441_4608.utt.csv  \n",
      "  inflating: swda/sw04utt/sw_0442_4649.utt.csv  \n",
      "  inflating: swda/sw04utt/sw_0443_4679.utt.csv  \n",
      "  inflating: swda/sw04utt/sw_0444_4682.utt.csv  \n",
      "  inflating: swda/sw04utt/sw_0445_4697.utt.csv  \n",
      "  inflating: swda/sw04utt/sw_0446_4792.utt.csv  \n",
      "  inflating: swda/sw04utt/sw_0447_4801.utt.csv  \n",
      "  inflating: swda/sw04utt/sw_0448_4826.utt.csv  \n",
      "  inflating: swda/sw04utt/sw_0449_4858.utt.csv  \n",
      "  inflating: swda/sw04utt/sw_0450_4886.utt.csv  \n",
      "  inflating: swda/sw04utt/sw_0451_2062.utt.csv  \n",
      "  inflating: swda/sw04utt/sw_0452_2111.utt.csv  \n",
      "  inflating: swda/sw04utt/sw_0453_2139.utt.csv  \n",
      "  inflating: swda/sw04utt/sw_0454_2231.utt.csv  \n",
      "  inflating: swda/sw04utt/sw_0455_2247.utt.csv  \n",
      "  inflating: swda/sw04utt/sw_0456_2266.utt.csv  \n",
      "  inflating: swda/sw04utt/sw_0457_2304.utt.csv  \n",
      "  inflating: swda/sw04utt/sw_0458_2316.utt.csv  \n",
      "  inflating: swda/sw04utt/sw_0459_2330.utt.csv  \n",
      "  inflating: swda/sw04utt/sw_0460_2331.utt.csv  \n",
      "  inflating: swda/sw04utt/sw_0461_2436.utt.csv  \n",
      "  inflating: swda/sw04utt/sw_0462_2439.utt.csv  \n",
      "  inflating: swda/sw04utt/sw_0463_2469.utt.csv  \n",
      "  inflating: swda/sw04utt/sw_0464_2510.utt.csv  \n",
      "  inflating: swda/sw04utt/sw_0465_2525.utt.csv  \n",
      "  inflating: swda/sw04utt/sw_0466_2547.utt.csv  \n",
      "  inflating: swda/sw04utt/sw_0467_2554.utt.csv  \n",
      "  inflating: swda/sw04utt/sw_0468_2559.utt.csv  \n",
      "  inflating: swda/sw04utt/sw_0469_2615.utt.csv  \n",
      "  inflating: swda/sw04utt/sw_0470_2627.utt.csv  \n",
      "  inflating: swda/sw04utt/sw_0471_2640.utt.csv  \n",
      "  inflating: swda/sw04utt/sw_0472_2653.utt.csv  \n",
      "  inflating: swda/sw04utt/sw_0473_2658.utt.csv  \n",
      "  inflating: swda/sw04utt/sw_0474_2691.utt.csv  \n",
      "  inflating: swda/sw04utt/sw_0475_2761.utt.csv  \n",
      "  inflating: swda/sw04utt/sw_0476_2790.utt.csv  \n",
      "  inflating: swda/sw04utt/sw_0477_2868.utt.csv  \n",
      "  inflating: swda/sw04utt/sw_0478_2896.utt.csv  \n",
      "  inflating: swda/sw04utt/sw_0479_2910.utt.csv  \n",
      "  inflating: swda/sw04utt/sw_0480_3040.utt.csv  \n",
      "  inflating: swda/sw04utt/sw_0481_3045.utt.csv  \n",
      "  inflating: swda/sw04utt/sw_0482_3068.utt.csv  \n",
      "  inflating: swda/sw04utt/sw_0483_3070.utt.csv  \n",
      "  inflating: swda/sw04utt/sw_0484_3085.utt.csv  \n",
      "  inflating: swda/sw04utt/sw_0485_3099.utt.csv  \n",
      "  inflating: swda/sw04utt/sw_0486_3173.utt.csv  \n",
      "  inflating: swda/sw04utt/sw_0487_3206.utt.csv  \n",
      "  inflating: swda/sw04utt/sw_0488_3215.utt.csv  \n",
      "  inflating: swda/sw04utt/sw_0489_3238.utt.csv  \n",
      "  inflating: swda/sw04utt/sw_0490_3246.utt.csv  \n",
      "  inflating: swda/sw04utt/sw_0491_3256.utt.csv  \n",
      "  inflating: swda/sw04utt/sw_0492_3259.utt.csv  \n",
      "  inflating: swda/sw04utt/sw_0493_3296.utt.csv  \n",
      "  inflating: swda/sw04utt/sw_0494_3331.utt.csv  \n",
      "  inflating: swda/sw04utt/sw_0495_3334.utt.csv  \n",
      "  inflating: swda/sw04utt/sw_0496_3344.utt.csv  \n",
      "  inflating: swda/sw04utt/sw_0497_3354.utt.csv  \n",
      "  inflating: swda/sw04utt/sw_0498_3417.utt.csv  \n",
      "  inflating: swda/sw04utt/sw_0499_3420.utt.csv  \n",
      "   creating: swda/sw05utt/\n",
      "  inflating: swda/sw05utt/sw_0500_3425.utt.csv  \n",
      "  inflating: swda/sw05utt/sw_0501_3450.utt.csv  \n",
      "  inflating: swda/sw05utt/sw_0502_3525.utt.csv  \n",
      "  inflating: swda/sw05utt/sw_0503_3539.utt.csv  \n",
      "  inflating: swda/sw05utt/sw_0504_3549.utt.csv  \n",
      "  inflating: swda/sw05utt/sw_0505_3569.utt.csv  \n",
      "  inflating: swda/sw05utt/sw_0506_3576.utt.csv  \n",
      "  inflating: swda/sw05utt/sw_0507_3606.utt.csv  \n",
      "  inflating: swda/sw05utt/sw_0508_3628.utt.csv  \n",
      "  inflating: swda/sw05utt/sw_0509_3639.utt.csv  \n",
      "  inflating: swda/sw05utt/sw_0510_3680.utt.csv  \n",
      "  inflating: swda/sw05utt/sw_0511_3746.utt.csv  \n",
      "  inflating: swda/sw05utt/sw_0512_3811.utt.csv  \n",
      "  inflating: swda/sw05utt/sw_0513_3988.utt.csv  \n",
      "  inflating: swda/sw05utt/sw_0514_4174.utt.csv  \n",
      "  inflating: swda/sw05utt/sw_0515_4184.utt.csv  \n",
      "  inflating: swda/sw05utt/sw_0516_4618.utt.csv  \n",
      "  inflating: swda/sw05utt/sw_0517_4633.utt.csv  \n",
      "  inflating: swda/sw05utt/sw_0518_4691.utt.csv  \n",
      "  inflating: swda/sw05utt/sw_0519_4733.utt.csv  \n",
      "  inflating: swda/sw05utt/sw_0520_2010.utt.csv  \n",
      "  inflating: swda/sw05utt/sw_0521_2041.utt.csv  \n",
      "  inflating: swda/sw05utt/sw_0522_2072.utt.csv  \n",
      "  inflating: swda/sw05utt/sw_0523_2092.utt.csv  \n",
      "  inflating: swda/sw05utt/sw_0524_2124.utt.csv  \n",
      "  inflating: swda/sw05utt/sw_0525_2130.utt.csv  \n",
      "  inflating: swda/sw05utt/sw_0526_2160.utt.csv  \n",
      "  inflating: swda/sw05utt/sw_0527_2177.utt.csv  \n",
      "  inflating: swda/sw05utt/sw_0528_2260.utt.csv  \n",
      "  inflating: swda/sw05utt/sw_0529_2324.utt.csv  \n",
      "  inflating: swda/sw05utt/sw_0530_2334.utt.csv  \n",
      "  inflating: swda/sw05utt/sw_0531_2365.utt.csv  \n",
      "  inflating: swda/sw05utt/sw_0532_2455.utt.csv  \n",
      "  inflating: swda/sw05utt/sw_0533_2486.utt.csv  \n",
      "  inflating: swda/sw05utt/sw_0534_2499.utt.csv  \n",
      "  inflating: swda/sw05utt/sw_0535_2501.utt.csv  \n",
      "  inflating: swda/sw05utt/sw_0536_2502.utt.csv  \n",
      "  inflating: swda/sw05utt/sw_0537_2521.utt.csv  \n",
      "  inflating: swda/sw05utt/sw_0538_2545.utt.csv  \n",
      "  inflating: swda/sw05utt/sw_0539_2609.utt.csv  \n",
      "  inflating: swda/sw05utt/sw_0540_2619.utt.csv  \n",
      "  inflating: swda/sw05utt/sw_0541_2719.utt.csv  \n",
      "  inflating: swda/sw05utt/sw_0542_2782.utt.csv  \n",
      "  inflating: swda/sw05utt/sw_0543_2792.utt.csv  \n",
      "  inflating: swda/sw05utt/sw_0544_2800.utt.csv  \n",
      "  inflating: swda/sw05utt/sw_0545_2840.utt.csv  \n",
      "  inflating: swda/sw05utt/sw_0546_2913.utt.csv  \n",
      "  inflating: swda/sw05utt/sw_0547_3051.utt.csv  \n",
      "  inflating: swda/sw05utt/sw_0548_3074.utt.csv  \n",
      "  inflating: swda/sw05utt/sw_0549_3111.utt.csv  \n",
      "  inflating: swda/sw05utt/sw_0550_3124.utt.csv  \n",
      "  inflating: swda/sw05utt/sw_0551_3155.utt.csv  \n",
      "  inflating: swda/sw05utt/sw_0552_3187.utt.csv  \n",
      "  inflating: swda/sw05utt/sw_0553_3229.utt.csv  \n",
      "  inflating: swda/sw05utt/sw_0554_3260.utt.csv  \n",
      "  inflating: swda/sw05utt/sw_0555_3294.utt.csv  \n",
      "  inflating: swda/sw05utt/sw_0556_3317.utt.csv  \n",
      "  inflating: swda/sw05utt/sw_0557_3333.utt.csv  \n",
      "  inflating: swda/sw05utt/sw_0558_3342.utt.csv  \n",
      "  inflating: swda/sw05utt/sw_0559_3365.utt.csv  \n",
      "  inflating: swda/sw05utt/sw_0560_3377.utt.csv  \n",
      "  inflating: swda/sw05utt/sw_0561_3406.utt.csv  \n",
      "  inflating: swda/sw05utt/sw_0562_3443.utt.csv  \n",
      "  inflating: swda/sw05utt/sw_0563_3458.utt.csv  \n",
      "  inflating: swda/sw05utt/sw_0564_3497.utt.csv  \n",
      "  inflating: swda/sw05utt/sw_0565_3523.utt.csv  \n",
      "  inflating: swda/sw05utt/sw_0566_3551.utt.csv  \n",
      "  inflating: swda/sw05utt/sw_0567_3574.utt.csv  \n",
      "  inflating: swda/sw05utt/sw_0568_3586.utt.csv  \n",
      "  inflating: swda/sw05utt/sw_0569_3638.utt.csv  \n",
      "  inflating: swda/sw05utt/sw_0570_3691.utt.csv  \n",
      "  inflating: swda/sw05utt/sw_0571_3750.utt.csv  \n",
      "  inflating: swda/sw05utt/sw_0572_3768.utt.csv  \n",
      "  inflating: swda/sw05utt/sw_0573_4022.utt.csv  \n",
      "  inflating: swda/sw05utt/sw_0574_4023.utt.csv  \n",
      "  inflating: swda/sw05utt/sw_0575_4114.utt.csv  \n",
      "  inflating: swda/sw05utt/sw_0576_4363.utt.csv  \n",
      "  inflating: swda/sw05utt/sw_0577_4659.utt.csv  \n",
      "  inflating: swda/sw05utt/sw_0578_4796.utt.csv  \n",
      "  inflating: swda/sw05utt/sw_0579_4834.utt.csv  \n",
      "  inflating: swda/sw05utt/sw_0580_2015.utt.csv  \n",
      "  inflating: swda/sw05utt/sw_0581_2032.utt.csv  \n",
      "  inflating: swda/sw05utt/sw_0582_2051.utt.csv  \n",
      "  inflating: swda/sw05utt/sw_0583_2053.utt.csv  \n",
      "  inflating: swda/sw05utt/sw_0584_2220.utt.csv  \n",
      "  inflating: swda/sw05utt/sw_0585_2279.utt.csv  \n",
      "  inflating: swda/sw05utt/sw_0586_2295.utt.csv  \n",
      "  inflating: swda/sw05utt/sw_0587_2383.utt.csv  \n",
      "  inflating: swda/sw05utt/sw_0588_2423.utt.csv  \n",
      "  inflating: swda/sw05utt/sw_0589_2433.utt.csv  \n",
      "  inflating: swda/sw05utt/sw_0590_2445.utt.csv  \n",
      "  inflating: swda/sw05utt/sw_0591_2460.utt.csv  \n",
      "  inflating: swda/sw05utt/sw_0592_2533.utt.csv  \n",
      "  inflating: swda/sw05utt/sw_0593_2597.utt.csv  \n",
      "  inflating: swda/sw05utt/sw_0594_2617.utt.csv  \n",
      "  inflating: swda/sw05utt/sw_0595_2645.utt.csv  \n",
      "  inflating: swda/sw05utt/sw_0596_2734.utt.csv  \n",
      "  inflating: swda/sw05utt/sw_0597_2835.utt.csv  \n",
      "  inflating: swda/sw05utt/sw_0598_2858.utt.csv  \n",
      "  inflating: swda/sw05utt/sw_0599_2870.utt.csv  \n",
      "   creating: swda/sw06utt/\n",
      "  inflating: swda/sw06utt/sw_0600_2883.utt.csv  \n",
      "  inflating: swda/sw06utt/sw_0601_2893.utt.csv  \n",
      "  inflating: swda/sw06utt/sw_0602_2938.utt.csv  \n",
      "  inflating: swda/sw06utt/sw_0603_2962.utt.csv  \n",
      "  inflating: swda/sw06utt/sw_0604_2969.utt.csv  \n",
      "  inflating: swda/sw06utt/sw_0605_2989.utt.csv  \n",
      "  inflating: swda/sw06utt/sw_0606_3011.utt.csv  \n",
      "  inflating: swda/sw06utt/sw_0607_3012.utt.csv  \n",
      "  inflating: swda/sw06utt/sw_0608_3030.utt.csv  \n",
      "  inflating: swda/sw06utt/sw_0609_3049.utt.csv  \n",
      "  inflating: swda/sw06utt/sw_0610_3056.utt.csv  \n",
      "  inflating: swda/sw06utt/sw_0611_3072.utt.csv  \n",
      "  inflating: swda/sw06utt/sw_0612_3090.utt.csv  \n",
      "  inflating: swda/sw06utt/sw_0613_3096.utt.csv  \n",
      "  inflating: swda/sw06utt/sw_0614_3097.utt.csv  \n",
      "  inflating: swda/sw06utt/sw_0615_3131.utt.csv  \n",
      "  inflating: swda/sw06utt/sw_0616_3283.utt.csv  \n",
      "  inflating: swda/sw06utt/sw_0617_3353.utt.csv  \n",
      "  inflating: swda/sw06utt/sw_0618_3368.utt.csv  \n",
      "  inflating: swda/sw06utt/sw_0619_3399.utt.csv  \n",
      "  inflating: swda/sw06utt/sw_0620_3408.utt.csv  \n",
      "  inflating: swda/sw06utt/sw_0621_3449.utt.csv  \n",
      "  inflating: swda/sw06utt/sw_0622_3473.utt.csv  \n",
      "  inflating: swda/sw06utt/sw_0623_3537.utt.csv  \n",
      "  inflating: swda/sw06utt/sw_0624_3557.utt.csv  \n",
      "  inflating: swda/sw06utt/sw_0625_3573.utt.csv  \n",
      "  inflating: swda/sw06utt/sw_0626_3596.utt.csv  \n",
      "  inflating: swda/sw06utt/sw_0627_3651.utt.csv  \n",
      "  inflating: swda/sw06utt/sw_0628_3773.utt.csv  \n",
      "  inflating: swda/sw06utt/sw_0629_4056.utt.csv  \n",
      "  inflating: swda/sw06utt/sw_0630_4080.utt.csv  \n",
      "  inflating: swda/sw06utt/sw_0631_4149.utt.csv  \n",
      "  inflating: swda/sw06utt/sw_0632_4707.utt.csv  \n",
      "  inflating: swda/sw06utt/sw_0633_2024.utt.csv  \n",
      "  inflating: swda/sw06utt/sw_0634_2027.utt.csv  \n",
      "  inflating: swda/sw06utt/sw_0635_2065.utt.csv  \n",
      "  inflating: swda/sw06utt/sw_0636_2079.utt.csv  \n",
      "  inflating: swda/sw06utt/sw_0637_2104.utt.csv  \n",
      "  inflating: swda/sw06utt/sw_0638_2105.utt.csv  \n",
      "  inflating: swda/sw06utt/sw_0639_2187.utt.csv  \n",
      "  inflating: swda/sw06utt/sw_0640_2309.utt.csv  \n",
      "  inflating: swda/sw06utt/sw_0641_2313.utt.csv  \n",
      "  inflating: swda/sw06utt/sw_0642_2450.utt.csv  \n",
      "  inflating: swda/sw06utt/sw_0643_2452.utt.csv  \n",
      "  inflating: swda/sw06utt/sw_0644_2476.utt.csv  \n",
      "  inflating: swda/sw06utt/sw_0645_2537.utt.csv  \n",
      "  inflating: swda/sw06utt/sw_0646_2575.utt.csv  \n",
      "  inflating: swda/sw06utt/sw_0647_2579.utt.csv  \n",
      "  inflating: swda/sw06utt/sw_0648_2616.utt.csv  \n",
      "  inflating: swda/sw06utt/sw_0649_2620.utt.csv  \n",
      "  inflating: swda/sw06utt/sw_0650_2642.utt.csv  \n",
      "  inflating: swda/sw06utt/sw_0651_2766.utt.csv  \n",
      "  inflating: swda/sw06utt/sw_0652_2797.utt.csv  \n",
      "  inflating: swda/sw06utt/sw_0653_2806.utt.csv  \n",
      "  inflating: swda/sw06utt/sw_0654_2847.utt.csv  \n",
      "  inflating: swda/sw06utt/sw_0655_2849.utt.csv  \n",
      "  inflating: swda/sw06utt/sw_0656_2887.utt.csv  \n",
      "  inflating: swda/sw06utt/sw_0657_2900.utt.csv  \n",
      "  inflating: swda/sw06utt/sw_0658_2992.utt.csv  \n",
      "  inflating: swda/sw06utt/sw_0659_3143.utt.csv  \n",
      "  inflating: swda/sw06utt/sw_0660_3190.utt.csv  \n",
      "  inflating: swda/sw06utt/sw_0661_3194.utt.csv  \n",
      "  inflating: swda/sw06utt/sw_0662_3196.utt.csv  \n",
      "  inflating: swda/sw06utt/sw_0663_3225.utt.csv  \n",
      "  inflating: swda/sw06utt/sw_0664_3330.utt.csv  \n",
      "  inflating: swda/sw06utt/sw_0665_3355.utt.csv  \n",
      "  inflating: swda/sw06utt/sw_0666_3359.utt.csv  \n",
      "  inflating: swda/sw06utt/sw_0667_3372.utt.csv  \n",
      "  inflating: swda/sw06utt/sw_0668_3373.utt.csv  \n",
      "  inflating: swda/sw06utt/sw_0669_3381.utt.csv  \n",
      "  inflating: swda/sw06utt/sw_0670_3386.utt.csv  \n",
      "  inflating: swda/sw06utt/sw_0671_3421.utt.csv  \n",
      "  inflating: swda/sw06utt/sw_0672_3453.utt.csv  \n",
      "  inflating: swda/sw06utt/sw_0673_3504.utt.csv  \n",
      "  inflating: swda/sw06utt/sw_0674_3666.utt.csv  \n",
      "  inflating: swda/sw06utt/sw_0675_3675.utt.csv  \n",
      "  inflating: swda/sw06utt/sw_0676_3804.utt.csv  \n",
      "  inflating: swda/sw06utt/sw_0677_3805.utt.csv  \n",
      "  inflating: swda/sw06utt/sw_0678_3845.utt.csv  \n",
      "  inflating: swda/sw06utt/sw_0679_3898.utt.csv  \n",
      "  inflating: swda/sw06utt/sw_0680_3926.utt.csv  \n",
      "  inflating: swda/sw06utt/sw_0681_4147.utt.csv  \n",
      "  inflating: swda/sw06utt/sw_0682_4660.utt.csv  \n",
      "  inflating: swda/sw06utt/sw_0683_4675.utt.csv  \n",
      "  inflating: swda/sw06utt/sw_0684_4723.utt.csv  \n",
      "  inflating: swda/sw06utt/sw_0685_4726.utt.csv  \n",
      "  inflating: swda/sw06utt/sw_0686_4829.utt.csv  \n",
      "  inflating: swda/sw06utt/sw_0687_2085.utt.csv  \n",
      "  inflating: swda/sw06utt/sw_0688_2181.utt.csv  \n",
      "  inflating: swda/sw06utt/sw_0689_2197.utt.csv  \n",
      "  inflating: swda/sw06utt/sw_0690_2268.utt.csv  \n",
      "  inflating: swda/sw06utt/sw_0691_2283.utt.csv  \n",
      "  inflating: swda/sw06utt/sw_0692_2287.utt.csv  \n",
      "  inflating: swda/sw06utt/sw_0693_2300.utt.csv  \n",
      "  inflating: swda/sw06utt/sw_0694_2380.utt.csv  \n",
      "  inflating: swda/sw06utt/sw_0695_2424.utt.csv  \n",
      "  inflating: swda/sw06utt/sw_0696_2431.utt.csv  \n",
      "  inflating: swda/sw06utt/sw_0697_2514.utt.csv  \n",
      "  inflating: swda/sw06utt/sw_0698_2515.utt.csv  \n",
      "  inflating: swda/sw06utt/sw_0699_2519.utt.csv  \n",
      "   creating: swda/sw07utt/\n",
      "  inflating: swda/sw07utt/sw_0700_2586.utt.csv  \n",
      "  inflating: swda/sw07utt/sw_0701_2631.utt.csv  \n",
      "  inflating: swda/sw07utt/sw_0702_2652.utt.csv  \n",
      "  inflating: swda/sw07utt/sw_0703_2661.utt.csv  \n",
      "  inflating: swda/sw07utt/sw_0704_2690.utt.csv  \n",
      "  inflating: swda/sw07utt/sw_0705_2713.utt.csv  \n",
      "  inflating: swda/sw07utt/sw_0706_2751.utt.csv  \n",
      "  inflating: swda/sw07utt/sw_0707_2755.utt.csv  \n",
      "  inflating: swda/sw07utt/sw_0708_2927.utt.csv  \n",
      "  inflating: swda/sw07utt/sw_0709_2952.utt.csv  \n",
      "  inflating: swda/sw07utt/sw_0710_2996.utt.csv  \n",
      "  inflating: swda/sw07utt/sw_0711_3007.utt.csv  \n",
      "  inflating: swda/sw07utt/sw_0712_3029.utt.csv  \n",
      "  inflating: swda/sw07utt/sw_0713_3036.utt.csv  \n",
      "  inflating: swda/sw07utt/sw_0714_3039.utt.csv  \n",
      "  inflating: swda/sw07utt/sw_0715_3092.utt.csv  \n",
      "  inflating: swda/sw07utt/sw_0716_3105.utt.csv  \n",
      "  inflating: swda/sw07utt/sw_0717_3384.utt.csv  \n",
      "  inflating: swda/sw07utt/sw_0718_3543.utt.csv  \n",
      "  inflating: swda/sw07utt/sw_0719_3587.utt.csv  \n",
      "  inflating: swda/sw07utt/sw_0720_3696.utt.csv  \n",
      "  inflating: swda/sw07utt/sw_0721_3777.utt.csv  \n",
      "  inflating: swda/sw07utt/sw_0722_3791.utt.csv  \n",
      "  inflating: swda/sw07utt/sw_0723_3797.utt.csv  \n",
      "  inflating: swda/sw07utt/sw_0724_3802.utt.csv  \n",
      "  inflating: swda/sw07utt/sw_0725_3911.utt.csv  \n",
      "  inflating: swda/sw07utt/sw_0726_4443.utt.csv  \n",
      "  inflating: swda/sw07utt/sw_0727_4605.utt.csv  \n",
      "  inflating: swda/sw07utt/sw_0728_4759.utt.csv  \n",
      "  inflating: swda/sw07utt/sw_0729_4840.utt.csv  \n",
      "  inflating: swda/sw07utt/sw_0730_4905.utt.csv  \n",
      "  inflating: swda/sw07utt/sw_0731_4917.utt.csv  \n",
      "  inflating: swda/sw07utt/sw_0732_4927.utt.csv  \n",
      "  inflating: swda/sw07utt/sw_0733_4940.utt.csv  \n",
      "  inflating: swda/sw07utt/sw_0734_2019.utt.csv  \n",
      "  inflating: swda/sw07utt/sw_0735_2025.utt.csv  \n",
      "  inflating: swda/sw07utt/sw_0736_2071.utt.csv  \n",
      "  inflating: swda/sw07utt/sw_0737_2110.utt.csv  \n",
      "  inflating: swda/sw07utt/sw_0738_2178.utt.csv  \n",
      "  inflating: swda/sw07utt/sw_0739_2180.utt.csv  \n",
      "  inflating: swda/sw07utt/sw_0740_2185.utt.csv  \n",
      "  inflating: swda/sw07utt/sw_0741_2221.utt.csv  \n",
      "  inflating: swda/sw07utt/sw_0742_2235.utt.csv  \n",
      "  inflating: swda/sw07utt/sw_0743_2265.utt.csv  \n",
      "  inflating: swda/sw07utt/sw_0744_2376.utt.csv  \n",
      "  inflating: swda/sw07utt/sw_0745_2387.utt.csv  \n",
      "  inflating: swda/sw07utt/sw_0746_2448.utt.csv  \n",
      "  inflating: swda/sw07utt/sw_0747_2585.utt.csv  \n",
      "  inflating: swda/sw07utt/sw_0748_2663.utt.csv  \n",
      "  inflating: swda/sw07utt/sw_0749_2726.utt.csv  \n",
      "  inflating: swda/sw07utt/sw_0750_2736.utt.csv  \n",
      "  inflating: swda/sw07utt/sw_0751_2793.utt.csv  \n",
      "  inflating: swda/sw07utt/sw_0752_2963.utt.csv  \n",
      "  inflating: swda/sw07utt/sw_0753_3000.utt.csv  \n",
      "  inflating: swda/sw07utt/sw_0754_3003.utt.csv  \n",
      "  inflating: swda/sw07utt/sw_0755_3018.utt.csv  \n",
      "  inflating: swda/sw07utt/sw_0756_3063.utt.csv  \n",
      "  inflating: swda/sw07utt/sw_0757_3071.utt.csv  \n",
      "  inflating: swda/sw07utt/sw_0758_3087.utt.csv  \n",
      "  inflating: swda/sw07utt/sw_0759_3191.utt.csv  \n",
      "  inflating: swda/sw07utt/sw_0760_3291.utt.csv  \n",
      "  inflating: swda/sw07utt/sw_0761_3340.utt.csv  \n",
      "  inflating: swda/sw07utt/sw_0762_3371.utt.csv  \n",
      "  inflating: swda/sw07utt/sw_0763_3402.utt.csv  \n",
      "  inflating: swda/sw07utt/sw_0764_3431.utt.csv  \n",
      "  inflating: swda/sw07utt/sw_0765_3535.utt.csv  \n",
      "  inflating: swda/sw07utt/sw_0766_3556.utt.csv  \n",
      "  inflating: swda/sw07utt/sw_0767_3591.utt.csv  \n",
      "  inflating: swda/sw07utt/sw_0768_3626.utt.csv  \n",
      "  inflating: swda/sw07utt/sw_0769_3659.utt.csv  \n",
      "  inflating: swda/sw07utt/sw_0770_3681.utt.csv  \n",
      "  inflating: swda/sw07utt/sw_0771_3870.utt.csv  \n",
      "  inflating: swda/sw07utt/sw_0772_4752.utt.csv  \n",
      "  inflating: swda/sw07utt/sw_0773_4821.utt.csv  \n",
      "  inflating: swda/sw07utt/sw_0774_4856.utt.csv  \n",
      "  inflating: swda/sw07utt/sw_0775_2006.utt.csv  \n",
      "  inflating: swda/sw07utt/sw_0776_2086.utt.csv  \n",
      "  inflating: swda/sw07utt/sw_0777_2122.utt.csv  \n",
      "  inflating: swda/sw07utt/sw_0778_2248.utt.csv  \n",
      "  inflating: swda/sw07utt/sw_0779_2301.utt.csv  \n",
      "  inflating: swda/sw07utt/sw_0780_2393.utt.csv  \n",
      "  inflating: swda/sw07utt/sw_0781_2482.utt.csv  \n",
      "  inflating: swda/sw07utt/sw_0782_2570.utt.csv  \n",
      "  inflating: swda/sw07utt/sw_0783_2622.utt.csv  \n",
      "  inflating: swda/sw07utt/sw_0784_2630.utt.csv  \n",
      "  inflating: swda/sw07utt/sw_0785_2647.utt.csv  \n",
      "  inflating: swda/sw07utt/sw_0786_2875.utt.csv  \n",
      "  inflating: swda/sw07utt/sw_0787_2926.utt.csv  \n",
      "  inflating: swda/sw07utt/sw_0788_2984.utt.csv  \n",
      "  inflating: swda/sw07utt/sw_0789_2999.utt.csv  \n",
      "  inflating: swda/sw07utt/sw_0790_3002.utt.csv  \n",
      "  inflating: swda/sw07utt/sw_0791_3050.utt.csv  \n",
      "  inflating: swda/sw07utt/sw_0792_3065.utt.csv  \n",
      "  inflating: swda/sw07utt/sw_0793_3095.utt.csv  \n",
      "  inflating: swda/sw07utt/sw_0794_3234.utt.csv  \n",
      "  inflating: swda/sw07utt/sw_0795_3429.utt.csv  \n",
      "  inflating: swda/sw07utt/sw_0796_3464.utt.csv  \n",
      "  inflating: swda/sw07utt/sw_0797_3563.utt.csv  \n",
      "  inflating: swda/sw07utt/sw_0798_3736.utt.csv  \n",
      "  inflating: swda/sw07utt/sw_0799_3828.utt.csv  \n",
      "   creating: swda/sw08utt/\n",
      "  inflating: swda/sw08utt/sw_0800_3841.utt.csv  \n",
      "  inflating: swda/sw08utt/sw_0801_3908.utt.csv  \n",
      "  inflating: swda/sw08utt/sw_0802_3971.utt.csv  \n",
      "  inflating: swda/sw08utt/sw_0803_4037.utt.csv  \n",
      "  inflating: swda/sw08utt/sw_0804_4165.utt.csv  \n",
      "  inflating: swda/sw08utt/sw_0805_4758.utt.csv  \n",
      "  inflating: swda/sw08utt/sw_0806_4774.utt.csv  \n",
      "  inflating: swda/sw08utt/sw_0807_4799.utt.csv  \n",
      "  inflating: swda/sw08utt/sw_0808_2038.utt.csv  \n",
      "  inflating: swda/sw08utt/sw_0809_2040.utt.csv  \n",
      "  inflating: swda/sw08utt/sw_0810_2232.utt.csv  \n",
      "  inflating: swda/sw08utt/sw_0811_2278.utt.csv  \n",
      "  inflating: swda/sw08utt/sw_0812_2289.utt.csv  \n",
      "  inflating: swda/sw08utt/sw_0813_2296.utt.csv  \n",
      "  inflating: swda/sw08utt/sw_0814_2308.utt.csv  \n",
      "  inflating: swda/sw08utt/sw_0815_2354.utt.csv  \n",
      "  inflating: swda/sw08utt/sw_0816_2368.utt.csv  \n",
      "  inflating: swda/sw08utt/sw_0817_2379.utt.csv  \n",
      "  inflating: swda/sw08utt/sw_0818_2528.utt.csv  \n",
      "  inflating: swda/sw08utt/sw_0819_2594.utt.csv  \n",
      "  inflating: swda/sw08utt/sw_0820_2638.utt.csv  \n",
      "  inflating: swda/sw08utt/sw_0821_2711.utt.csv  \n",
      "  inflating: swda/sw08utt/sw_0822_2776.utt.csv  \n",
      "  inflating: swda/sw08utt/sw_0823_2827.utt.csv  \n",
      "  inflating: swda/sw08utt/sw_0824_2944.utt.csv  \n",
      "  inflating: swda/sw08utt/sw_0825_2953.utt.csv  \n",
      "  inflating: swda/sw08utt/sw_0826_2981.utt.csv  \n",
      "  inflating: swda/sw08utt/sw_0827_3019.utt.csv  \n",
      "  inflating: swda/sw08utt/sw_0828_3055.utt.csv  \n",
      "  inflating: swda/sw08utt/sw_0829_3228.utt.csv  \n",
      "  inflating: swda/sw08utt/sw_0830_3233.utt.csv  \n",
      "  inflating: swda/sw08utt/sw_0831_3253.utt.csv  \n",
      "  inflating: swda/sw08utt/sw_0832_3265.utt.csv  \n",
      "  inflating: swda/sw08utt/sw_0833_3281.utt.csv  \n",
      "  inflating: swda/sw08utt/sw_0834_3282.utt.csv  \n",
      "  inflating: swda/sw08utt/sw_0835_3319.utt.csv  \n",
      "  inflating: swda/sw08utt/sw_0836_3326.utt.csv  \n",
      "  inflating: swda/sw08utt/sw_0837_3379.utt.csv  \n",
      "  inflating: swda/sw08utt/sw_0838_3405.utt.csv  \n",
      "  inflating: swda/sw08utt/sw_0839_3424.utt.csv  \n",
      "  inflating: swda/sw08utt/sw_0840_3426.utt.csv  \n",
      "  inflating: swda/sw08utt/sw_0841_3530.utt.csv  \n",
      "  inflating: swda/sw08utt/sw_0842_3657.utt.csv  \n",
      "  inflating: swda/sw08utt/sw_0843_3738.utt.csv  \n",
      "  inflating: swda/sw08utt/sw_0844_3743.utt.csv  \n",
      "  inflating: swda/sw08utt/sw_0845_3754.utt.csv  \n",
      "  inflating: swda/sw08utt/sw_0846_3956.utt.csv  \n",
      "  inflating: swda/sw08utt/sw_0847_3985.utt.csv  \n",
      "  inflating: swda/sw08utt/sw_0848_4666.utt.csv  \n",
      "  inflating: swda/sw08utt/sw_0849_4709.utt.csv  \n",
      "  inflating: swda/sw08utt/sw_0850_4721.utt.csv  \n",
      "  inflating: swda/sw08utt/sw_0851_4802.utt.csv  \n",
      "  inflating: swda/sw08utt/sw_0852_2090.utt.csv  \n",
      "  inflating: swda/sw08utt/sw_0853_2125.utt.csv  \n",
      "  inflating: swda/sw08utt/sw_0854_2168.utt.csv  \n",
      "  inflating: swda/sw08utt/sw_0855_2191.utt.csv  \n",
      "  inflating: swda/sw08utt/sw_0856_2342.utt.csv  \n",
      "  inflating: swda/sw08utt/sw_0857_2483.utt.csv  \n",
      "  inflating: swda/sw08utt/sw_0858_2506.utt.csv  \n",
      "  inflating: swda/sw08utt/sw_0859_2534.utt.csv  \n",
      "  inflating: swda/sw08utt/sw_0860_2614.utt.csv  \n",
      "  inflating: swda/sw08utt/sw_0861_2684.utt.csv  \n",
      "  inflating: swda/sw08utt/sw_0862_2707.utt.csv  \n",
      "  inflating: swda/sw08utt/sw_0863_2709.utt.csv  \n",
      "  inflating: swda/sw08utt/sw_0864_2716.utt.csv  \n",
      "  inflating: swda/sw08utt/sw_0865_2741.utt.csv  \n",
      "  inflating: swda/sw08utt/sw_0866_2768.utt.csv  \n",
      "  inflating: swda/sw08utt/sw_0867_2770.utt.csv  \n",
      "  inflating: swda/sw08utt/sw_0868_2788.utt.csv  \n",
      "  inflating: swda/sw08utt/sw_0869_2871.utt.csv  \n",
      "  inflating: swda/sw08utt/sw_0870_2888.utt.csv  \n",
      "  inflating: swda/sw08utt/sw_0871_2930.utt.csv  \n",
      "  inflating: swda/sw08utt/sw_0872_3034.utt.csv  \n",
      "  inflating: swda/sw08utt/sw_0873_3042.utt.csv  \n",
      "  inflating: swda/sw08utt/sw_0874_3059.utt.csv  \n",
      "  inflating: swda/sw08utt/sw_0875_3136.utt.csv  \n",
      "  inflating: swda/sw08utt/sw_0876_3158.utt.csv  \n",
      "  inflating: swda/sw08utt/sw_0877_3166.utt.csv  \n",
      "  inflating: swda/sw08utt/sw_0878_3189.utt.csv  \n",
      "  inflating: swda/sw08utt/sw_0879_3433.utt.csv  \n",
      "  inflating: swda/sw08utt/sw_0880_3439.utt.csv  \n",
      "  inflating: swda/sw08utt/sw_0881_3500.utt.csv  \n",
      "  inflating: swda/sw08utt/sw_0882_3554.utt.csv  \n",
      "  inflating: swda/sw08utt/sw_0883_3597.utt.csv  \n",
      "  inflating: swda/sw08utt/sw_0884_3676.utt.csv  \n",
      "  inflating: swda/sw08utt/sw_0885_3745.utt.csv  \n",
      "  inflating: swda/sw08utt/sw_0886_3760.utt.csv  \n",
      "  inflating: swda/sw08utt/sw_0887_3803.utt.csv  \n",
      "  inflating: swda/sw08utt/sw_0888_3813.utt.csv  \n",
      "  inflating: swda/sw08utt/sw_0889_3815.utt.csv  \n",
      "  inflating: swda/sw08utt/sw_0890_3903.utt.csv  \n",
      "  inflating: swda/sw08utt/sw_0891_3921.utt.csv  \n",
      "  inflating: swda/sw08utt/sw_0892_3979.utt.csv  \n",
      "  inflating: swda/sw08utt/sw_0893_4630.utt.csv  \n",
      "  inflating: swda/sw08utt/sw_0894_4703.utt.csv  \n",
      "  inflating: swda/sw08utt/sw_0895_4788.utt.csv  \n",
      "  inflating: swda/sw08utt/sw_0896_4814.utt.csv  \n",
      "  inflating: swda/sw08utt/sw_0897_2244.utt.csv  \n",
      "  inflating: swda/sw08utt/sw_0898_2303.utt.csv  \n",
      "  inflating: swda/sw08utt/sw_0899_2325.utt.csv  \n",
      "   creating: swda/sw09utt/\n",
      "  inflating: swda/sw09utt/.DS_Store  \n",
      "   creating: __MACOSX/swda/sw09utt/\n",
      "  inflating: __MACOSX/swda/sw09utt/._.DS_Store  \n",
      "  inflating: swda/sw09utt/sw_0900_2339.utt.csv  \n",
      "  inflating: swda/sw09utt/sw_0901_2418.utt.csv  \n",
      "  inflating: swda/sw09utt/sw_0902_2552.utt.csv  \n",
      "  inflating: swda/sw09utt/sw_0903_2576.utt.csv  \n",
      "  inflating: swda/sw09utt/sw_0904_2767.utt.csv  \n",
      "  inflating: __MACOSX/swda/sw09utt/._sw_0904_2767.utt.csv  \n",
      "  inflating: swda/sw09utt/sw_0905_2780.utt.csv  \n",
      "  inflating: swda/sw09utt/sw_0906_2803.utt.csv  \n",
      "  inflating: swda/sw09utt/sw_0907_2830.utt.csv  \n",
      "  inflating: swda/sw09utt/sw_0908_2844.utt.csv  \n",
      "  inflating: swda/sw09utt/sw_0909_2879.utt.csv  \n",
      "  inflating: swda/sw09utt/sw_0910_2955.utt.csv  \n",
      "  inflating: swda/sw09utt/sw_0911_3121.utt.csv  \n",
      "  inflating: swda/sw09utt/sw_0912_3267.utt.csv  \n",
      "  inflating: swda/sw09utt/sw_0913_3361.utt.csv  \n",
      "  inflating: swda/sw09utt/sw_0914_3448.utt.csv  \n",
      "  inflating: swda/sw09utt/sw_0915_3624.utt.csv  \n",
      "  inflating: swda/sw09utt/sw_0916_3642.utt.csv  \n",
      "  inflating: swda/sw09utt/sw_0917_3694.utt.csv  \n",
      "  inflating: swda/sw09utt/sw_0918_3716.utt.csv  \n",
      "  inflating: swda/sw09utt/sw_0919_3723.utt.csv  \n",
      "  inflating: swda/sw09utt/sw_0920_3747.utt.csv  \n",
      "  inflating: swda/sw09utt/sw_0921_3810.utt.csv  \n",
      "  inflating: swda/sw09utt/sw_0922_3946.utt.csv  \n",
      "  inflating: swda/sw09utt/sw_0923_4615.utt.csv  \n",
      "  inflating: swda/sw09utt/sw_0924_4655.utt.csv  \n",
      "  inflating: swda/sw09utt/sw_0925_4681.utt.csv  \n",
      "  inflating: swda/sw09utt/sw_0926_2149.utt.csv  \n",
      "  inflating: swda/sw09utt/sw_0927_2228.utt.csv  \n",
      "  inflating: swda/sw09utt/sw_0928_2234.utt.csv  \n",
      "  inflating: swda/sw09utt/sw_0929_2344.utt.csv  \n",
      "  inflating: swda/sw09utt/sw_0930_2446.utt.csv  \n",
      "  inflating: swda/sw09utt/sw_0931_2467.utt.csv  \n",
      "  inflating: swda/sw09utt/sw_0932_2610.utt.csv  \n",
      "  inflating: swda/sw09utt/sw_0933_2662.utt.csv  \n",
      "  inflating: swda/sw09utt/sw_0934_2744.utt.csv  \n",
      "  inflating: swda/sw09utt/sw_0935_2774.utt.csv  \n",
      "  inflating: swda/sw09utt/sw_0936_2917.utt.csv  \n",
      "  inflating: swda/sw09utt/sw_0937_2950.utt.csv  \n",
      "  inflating: swda/sw09utt/sw_0938_2983.utt.csv  \n",
      "  inflating: swda/sw09utt/sw_0939_2994.utt.csv  \n",
      "  inflating: swda/sw09utt/sw_0940_2995.utt.csv  \n",
      "  inflating: swda/sw09utt/sw_0941_3014.utt.csv  \n",
      "  inflating: swda/sw09utt/sw_0942_3025.utt.csv  \n",
      "  inflating: swda/sw09utt/sw_0943_3028.utt.csv  \n",
      "  inflating: swda/sw09utt/sw_0944_3064.utt.csv  \n",
      "  inflating: swda/sw09utt/sw_0945_3076.utt.csv  \n",
      "  inflating: swda/sw09utt/sw_0946_3107.utt.csv  \n",
      "  inflating: swda/sw09utt/sw_0947_3118.utt.csv  \n",
      "  inflating: swda/sw09utt/sw_0948_3151.utt.csv  \n",
      "  inflating: swda/sw09utt/sw_0949_3216.utt.csv  \n",
      "  inflating: swda/sw09utt/sw_0950_3221.utt.csv  \n",
      "  inflating: swda/sw09utt/sw_0951_3383.utt.csv  \n",
      "  inflating: swda/sw09utt/sw_0952_3454.utt.csv  \n",
      "  inflating: swda/sw09utt/sw_0953_3457.utt.csv  \n",
      "  inflating: swda/sw09utt/sw_0954_3460.utt.csv  \n",
      "  inflating: swda/sw09utt/sw_0955_3489.utt.csv  \n",
      "  inflating: swda/sw09utt/sw_0956_3521.utt.csv  \n",
      "  inflating: swda/sw09utt/sw_0957_3709.utt.csv  \n",
      "  inflating: swda/sw09utt/sw_0958_3734.utt.csv  \n",
      "  inflating: swda/sw09utt/sw_0959_3735.utt.csv  \n",
      "  inflating: swda/sw09utt/sw_0960_3751.utt.csv  \n",
      "  inflating: swda/sw09utt/sw_0961_3770.utt.csv  \n",
      "  inflating: swda/sw09utt/sw_0962_3847.utt.csv  \n",
      "  inflating: swda/sw09utt/sw_0963_4716.utt.csv  \n",
      "  inflating: swda/sw09utt/sw_0964_2237.utt.csv  \n",
      "  inflating: swda/sw09utt/sw_0965_2263.utt.csv  \n",
      "  inflating: swda/sw09utt/sw_0966_2323.utt.csv  \n",
      "  inflating: swda/sw09utt/sw_0967_2340.utt.csv  \n",
      "  inflating: swda/sw09utt/sw_0968_2413.utt.csv  \n",
      "  inflating: swda/sw09utt/sw_0969_2578.utt.csv  \n",
      "  inflating: swda/sw09utt/sw_0970_2773.utt.csv  \n",
      "  inflating: swda/sw09utt/sw_0971_2839.utt.csv  \n",
      "  inflating: swda/sw09utt/sw_0972_2862.utt.csv  \n",
      "  inflating: swda/sw09utt/sw_0973_2934.utt.csv  \n",
      "  inflating: swda/sw09utt/sw_0974_2942.utt.csv  \n",
      "  inflating: swda/sw09utt/sw_0975_3009.utt.csv  \n",
      "  inflating: swda/sw09utt/sw_0976_3046.utt.csv  \n",
      "  inflating: swda/sw09utt/sw_0977_3104.utt.csv  \n",
      "  inflating: swda/sw09utt/sw_0978_3167.utt.csv  \n",
      "  inflating: swda/sw09utt/sw_0979_3181.utt.csv  \n",
      "  inflating: swda/sw09utt/sw_0980_3185.utt.csv  \n",
      "  inflating: swda/sw09utt/sw_0981_3204.utt.csv  \n",
      "  inflating: swda/sw09utt/sw_0982_3310.utt.csv  \n",
      "  inflating: swda/sw09utt/sw_0983_3363.utt.csv  \n",
      "  inflating: swda/sw09utt/sw_0984_3414.utt.csv  \n",
      "  inflating: swda/sw09utt/sw_0985_3428.utt.csv  \n",
      "  inflating: swda/sw09utt/sw_0986_3455.utt.csv  \n",
      "  inflating: swda/sw09utt/sw_0987_3518.utt.csv  \n",
      "  inflating: swda/sw09utt/sw_0988_3570.utt.csv  \n",
      "  inflating: swda/sw09utt/sw_0989_3692.utt.csv  \n",
      "  inflating: swda/sw09utt/sw_0990_3703.utt.csv  \n",
      "  inflating: swda/sw09utt/sw_0991_3855.utt.csv  \n",
      "  inflating: swda/sw09utt/sw_0992_3952.utt.csv  \n",
      "  inflating: swda/sw09utt/sw_0993_3965.utt.csv  \n",
      "  inflating: swda/sw09utt/sw_0994_4644.utt.csv  \n",
      "  inflating: swda/sw09utt/sw_0995_4735.utt.csv  \n",
      "  inflating: swda/sw09utt/sw_0996_4745.utt.csv  \n",
      "  inflating: swda/sw09utt/sw_0997_2155.utt.csv  \n",
      "  inflating: swda/sw09utt/sw_0998_2175.utt.csv  \n",
      "  inflating: swda/sw09utt/sw_0999_2227.utt.csv  \n",
      "   creating: swda/sw10utt/\n",
      "  inflating: swda/sw10utt/sw_1000_2292.utt.csv  \n",
      "  inflating: swda/sw10utt/sw_1001_2389.utt.csv  \n",
      "  inflating: swda/sw10utt/sw_1002_2426.utt.csv  \n",
      "  inflating: swda/sw10utt/sw_1003_2524.utt.csv  \n",
      "  inflating: swda/sw10utt/sw_1004_2562.utt.csv  \n",
      "  inflating: swda/sw10utt/sw_1005_2693.utt.csv  \n",
      "  inflating: swda/sw10utt/sw_1006_2967.utt.csv  \n",
      "  inflating: swda/sw10utt/sw_1007_2993.utt.csv  \n",
      "  inflating: swda/sw10utt/sw_1008_3016.utt.csv  \n",
      "  inflating: swda/sw10utt/sw_1009_3102.utt.csv  \n",
      "  inflating: swda/sw10utt/sw_1010_3226.utt.csv  \n",
      "  inflating: swda/sw10utt/sw_1011_3352.utt.csv  \n",
      "  inflating: swda/sw10utt/sw_1012_3527.utt.csv  \n",
      "  inflating: swda/sw10utt/sw_1013_4822.utt.csv  \n",
      "  inflating: swda/sw10utt/sw_1014_2101.utt.csv  \n",
      "  inflating: swda/sw10utt/sw_1015_2355.utt.csv  \n",
      "  inflating: swda/sw10utt/sw_1016_2471.utt.csv  \n",
      "  inflating: swda/sw10utt/sw_1017_2543.utt.csv  \n",
      "  inflating: swda/sw10utt/sw_1018_2692.utt.csv  \n",
      "  inflating: swda/sw10utt/sw_1019_2898.utt.csv  \n",
      "  inflating: swda/sw10utt/sw_1020_2935.utt.csv  \n",
      "  inflating: swda/sw10utt/sw_1021_2954.utt.csv  \n",
      "  inflating: swda/sw10utt/sw_1022_2982.utt.csv  \n",
      "  inflating: swda/sw10utt/sw_1023_3231.utt.csv  \n",
      "  inflating: swda/sw10utt/sw_1024_3247.utt.csv  \n",
      "  inflating: swda/sw10utt/sw_1025_3250.utt.csv  \n",
      "  inflating: swda/sw10utt/sw_1026_3280.utt.csv  \n",
      "  inflating: swda/sw10utt/sw_1027_3463.utt.csv  \n",
      "  inflating: swda/sw10utt/sw_1028_3496.utt.csv  \n",
      "  inflating: swda/sw10utt/sw_1029_3774.utt.csv  \n",
      "  inflating: swda/sw10utt/sw_1030_2064.utt.csv  \n",
      "  inflating: swda/sw10utt/sw_1031_2386.utt.csv  \n",
      "  inflating: swda/sw10utt/sw_1032_2557.utt.csv  \n",
      "  inflating: swda/sw10utt/sw_1033_2723.utt.csv  \n",
      "  inflating: swda/sw10utt/sw_1034_2924.utt.csv  \n",
      "  inflating: swda/sw10utt/sw_1035_2957.utt.csv  \n",
      "  inflating: swda/sw10utt/sw_1036_2960.utt.csv  \n",
      "  inflating: swda/sw10utt/sw_1037_3054.utt.csv  \n",
      "  inflating: swda/sw10utt/sw_1038_3061.utt.csv  \n",
      "  inflating: swda/sw10utt/sw_1039_3077.utt.csv  \n",
      "  inflating: swda/sw10utt/sw_1040_3244.utt.csv  \n",
      "  inflating: swda/sw10utt/sw_1041_3290.utt.csv  \n",
      "  inflating: swda/sw10utt/sw_1042_4078.utt.csv  \n",
      "  inflating: swda/sw10utt/sw_1043_2293.utt.csv  \n",
      "  inflating: swda/sw10utt/sw_1044_2457.utt.csv  \n",
      "  inflating: swda/sw10utt/sw_1045_2495.utt.csv  \n",
      "  inflating: swda/sw10utt/sw_1046_2621.utt.csv  \n",
      "  inflating: swda/sw10utt/sw_1047_2754.utt.csv  \n",
      "  inflating: swda/sw10utt/sw_1048_2794.utt.csv  \n",
      "  inflating: swda/sw10utt/sw_1049_2889.utt.csv  \n",
      "  inflating: swda/sw10utt/sw_1050_2968.utt.csv  \n",
      "  inflating: swda/sw10utt/sw_1051_3170.utt.csv  \n",
      "  inflating: swda/sw10utt/sw_1052_3198.utt.csv  \n",
      "  inflating: swda/sw10utt/sw_1053_3203.utt.csv  \n",
      "  inflating: swda/sw10utt/sw_1054_3208.utt.csv  \n",
      "  inflating: swda/sw10utt/sw_1055_3272.utt.csv  \n",
      "  inflating: swda/sw10utt/sw_1056_3276.utt.csv  \n",
      "  inflating: swda/sw10utt/sw_1057_3293.utt.csv  \n",
      "  inflating: swda/sw10utt/sw_1058_3711.utt.csv  \n",
      "  inflating: swda/sw10utt/sw_1059_3764.utt.csv  \n",
      "  inflating: swda/sw10utt/sw_1060_3852.utt.csv  \n",
      "  inflating: swda/sw10utt/sw_1061_4770.utt.csv  \n",
      "  inflating: swda/sw10utt/sw_1062_2190.utt.csv  \n",
      "  inflating: swda/sw10utt/sw_1063_2432.utt.csv  \n",
      "  inflating: swda/sw10utt/sw_1064_2478.utt.csv  \n",
      "  inflating: swda/sw10utt/sw_1065_2675.utt.csv  \n",
      "  inflating: swda/sw10utt/sw_1066_2679.utt.csv  \n",
      "  inflating: swda/sw10utt/sw_1067_2689.utt.csv  \n",
      "  inflating: swda/sw10utt/sw_1068_2834.utt.csv  \n",
      "  inflating: swda/sw10utt/sw_1069_2884.utt.csv  \n",
      "  inflating: swda/sw10utt/sw_1070_3013.utt.csv  \n",
      "  inflating: swda/sw10utt/sw_1071_3162.utt.csv  \n",
      "  inflating: swda/sw10utt/sw_1072_3270.utt.csv  \n",
      "  inflating: swda/sw10utt/sw_1073_3271.utt.csv  \n",
      "  inflating: swda/sw10utt/sw_1074_3647.utt.csv  \n",
      "  inflating: swda/sw10utt/sw_1075_3665.utt.csv  \n",
      "  inflating: swda/sw10utt/sw_1076_3686.utt.csv  \n",
      "  inflating: swda/sw10utt/sw_1077_2205.utt.csv  \n",
      "  inflating: swda/sw10utt/sw_1078_2437.utt.csv  \n",
      "  inflating: swda/sw10utt/sw_1079_2511.utt.csv  \n",
      "  inflating: swda/sw10utt/sw_1080_2812.utt.csv  \n",
      "  inflating: swda/sw10utt/sw_1081_2821.utt.csv  \n",
      "  inflating: swda/sw10utt/sw_1082_2854.utt.csv  \n",
      "  inflating: swda/sw10utt/sw_1083_2959.utt.csv  \n",
      "  inflating: swda/sw10utt/sw_1084_2991.utt.csv  \n",
      "  inflating: swda/sw10utt/sw_1085_3001.utt.csv  \n",
      "  inflating: swda/sw10utt/sw_1086_3057.utt.csv  \n",
      "  inflating: swda/sw10utt/sw_1087_3214.utt.csv  \n",
      "  inflating: swda/sw10utt/sw_1088_3230.utt.csv  \n",
      "  inflating: swda/sw10utt/sw_1089_3567.utt.csv  \n",
      "  inflating: swda/sw10utt/sw_1090_2353.utt.csv  \n",
      "  inflating: swda/sw10utt/sw_1091_2373.utt.csv  \n",
      "  inflating: swda/sw10utt/sw_1092_2623.utt.csv  \n",
      "  inflating: swda/sw10utt/sw_1093_3184.utt.csv  \n",
      "  inflating: swda/sw10utt/sw_1094_3255.utt.csv  \n",
      "  inflating: swda/sw10utt/sw_1095_3257.utt.csv  \n",
      "  inflating: swda/sw10utt/sw_1096_3346.utt.csv  \n",
      "  inflating: swda/sw10utt/sw_1097_3769.utt.csv  \n",
      "  inflating: swda/sw10utt/sw_1098_3788.utt.csv  \n",
      "  inflating: swda/sw10utt/sw_1099_2929.utt.csv  \n",
      "   creating: swda/sw11utt/\n",
      "  inflating: swda/sw11utt/sw_1100_3419.utt.csv  \n",
      "  inflating: swda/sw11utt/sw_1101_3693.utt.csv  \n",
      "  inflating: swda/sw11utt/sw_1102_2820.utt.csv  \n",
      "  inflating: swda/sw11utt/sw_1103_2915.utt.csv  \n",
      "  inflating: swda/sw11utt/sw_1104_2921.utt.csv  \n",
      "  inflating: swda/sw11utt/sw_1105_3175.utt.csv  \n",
      "  inflating: swda/sw11utt/sw_1106_3662.utt.csv  \n",
      "  inflating: swda/sw11utt/sw_1107_3332.utt.csv  \n",
      "  inflating: swda/sw11utt/sw_1108_3533.utt.csv  \n",
      "  inflating: swda/sw11utt/sw_1109_2842.utt.csv  \n",
      "  inflating: swda/sw11utt/sw_1110_2874.utt.csv  \n",
      "  inflating: swda/sw11utt/sw_1111_2897.utt.csv  \n",
      "  inflating: swda/sw11utt/sw_1112_3004.utt.csv  \n",
      "  inflating: swda/sw11utt/sw_1113_2909.utt.csv  \n",
      "  inflating: swda/sw11utt/sw_1114_2262.utt.csv  \n",
      "  inflating: swda/sw11utt/sw_1115_3451.utt.csv  \n",
      "   creating: swda/sw12utt/\n",
      "  inflating: swda/sw12utt/sw_1200_2121.utt.csv  \n",
      "  inflating: swda/sw12utt/sw_1201_2131.utt.csv  \n",
      "  inflating: swda/sw12utt/sw_1202_2151.utt.csv  \n",
      "  inflating: swda/sw12utt/sw_1203_2229.utt.csv  \n",
      "  inflating: swda/sw12utt/sw_1204_2434.utt.csv  \n",
      "  inflating: swda/sw12utt/sw_1205_2441.utt.csv  \n",
      "  inflating: swda/sw12utt/sw_1206_2461.utt.csv  \n",
      "  inflating: swda/sw12utt/sw_1207_2503.utt.csv  \n",
      "  inflating: swda/sw12utt/sw_1208_2724.utt.csv  \n",
      "  inflating: swda/sw12utt/sw_1209_2836.utt.csv  \n",
      "  inflating: swda/sw12utt/sw_1210_3756.utt.csv  \n",
      "   creating: swda/sw13utt/\n",
      "  inflating: swda/sw13utt/sw_1300_2335.utt.csv  \n",
      "  inflating: swda/sw13utt/sw_1301_2347.utt.csv  \n",
      "  inflating: swda/sw13utt/sw_1302_2505.utt.csv  \n",
      "  inflating: swda/sw13utt/sw_1303_2567.utt.csv  \n",
      "  inflating: swda/sw13utt/sw_1304_2632.utt.csv  \n",
      "  inflating: swda/sw13utt/sw_1305_2702.utt.csv  \n",
      "  inflating: swda/sw13utt/sw_1306_2733.utt.csv  \n",
      "  inflating: swda/sw13utt/sw_1307_2752.utt.csv  \n",
      "  inflating: swda/sw13utt/sw_1308_2753.utt.csv  \n",
      "  inflating: swda/sw13utt/sw_1309_2838.utt.csv  \n",
      "  inflating: swda/sw13utt/sw_1310_3035.utt.csv  \n",
      "  inflating: swda/sw13utt/sw_1311_3129.utt.csv  \n",
      "  inflating: swda/sw13utt/sw_1312_3469.utt.csv  \n",
      "  inflating: swda/sw13utt/sw_1313_3520.utt.csv  \n",
      "  inflating: swda/sw13utt/sw_1314_3528.utt.csv  \n",
      "  inflating: swda/sw13utt/sw_1315_3924.utt.csv  \n",
      "  inflating: swda/sw13utt/sw_1316_3936.utt.csv  \n",
      "  inflating: swda/sw13utt/sw_1317_3942.utt.csv  \n",
      "  inflating: swda/sw13utt/sw_1318_3968.utt.csv  \n",
      "  inflating: swda/sw13utt/sw_1319_3994.utt.csv  \n",
      "  inflating: swda/sw13utt/sw_1320_4002.utt.csv  \n",
      "  inflating: swda/sw13utt/sw_1321_4102.utt.csv  \n",
      "  inflating: swda/sw13utt/sw_1322_4157.utt.csv  \n",
      "  inflating: swda/sw13utt/sw_1323_4167.utt.csv  \n",
      "  inflating: swda/sw13utt/sw_1324_4179.utt.csv  \n",
      "  inflating: swda/sw13utt/sw_1325_4384.utt.csv  \n",
      "  inflating: swda/sw13utt/sw_1326_4622.utt.csv  \n",
      "  inflating: swda/sw13utt/sw_1327_4643.utt.csv  \n",
      "  inflating: swda/sw13utt/sw_1328_4771.utt.csv  \n",
      "  inflating: swda/swda-metadata.csv  \n",
      "  inflating: __MACOSX/swda/._swda-metadata.csv  \n"
     ]
    }
   ],
   "source": [
    "!pip install tensorflow-gpu==1.15.2\n",
    "!wget http://compprag.christopherpotts.net/code-data/swda.zip\n",
    "!unzip swda.zip"
   ]
  },
  {
   "cell_type": "code",
   "execution_count": 0,
   "metadata": {
    "colab": {
     "base_uri": "https://localhost:8080/",
     "height": 81
    },
    "colab_type": "code",
    "id": "7744z70or8-G",
    "outputId": "660038fd-7956-4a97-d0ea-358119b1f660"
   },
   "outputs": [
    {
     "name": "stderr",
     "output_type": "stream",
     "text": [
      "Using TensorFlow backend.\n"
     ]
    },
    {
     "data": {
      "text/html": [
       "<p style=\"color: red;\">\n",
       "The default version of TensorFlow in Colab will switch to TensorFlow 2.x on the 27th of March, 2020.<br>\n",
       "We recommend you <a href=\"https://www.tensorflow.org/guide/migrate\" target=\"_blank\">upgrade</a> now\n",
       "or ensure your notebook will continue to use TensorFlow 1.x via the <code>%tensorflow_version 1.x</code> magic:\n",
       "<a href=\"https://colab.research.google.com/notebooks/tensorflow_version.ipynb\" target=\"_blank\">more info</a>.</p>\n"
      ],
      "text/plain": [
       "<IPython.core.display.HTML object>"
      ]
     },
     "metadata": {
      "tags": []
     },
     "output_type": "display_data"
    }
   ],
   "source": [
    "import pandas as pd\n",
    "import glob\n",
    "from keras.preprocessing.sequence import pad_sequences\n",
    "from sklearn.model_selection import train_test_split\n",
    "import numpy as np\n",
    "import tensorflow.compat.v1 as tf\n",
    "import sklearn.metrics\n",
    "import tensorflow as tf\n",
    "import matplotlib.pyplot as plt\n",
    "from tqdm import tqdm_notebook as tqdm"
   ]
  },
  {
   "cell_type": "code",
   "execution_count": 0,
   "metadata": {
    "colab": {
     "base_uri": "https://localhost:8080/",
     "height": 962
    },
    "colab_type": "code",
    "id": "w0Uo-ulKoncj",
    "outputId": "5dfbe651-f8e8-4a40-8c36-f8392fe5e048"
   },
   "outputs": [
    {
     "name": "stderr",
     "output_type": "stream",
     "text": [
      "ERROR:root:Internal Python error in the inspect module.\n",
      "Below is the traceback from this internal error.\n",
      "\n"
     ]
    },
    {
     "name": "stdout",
     "output_type": "stream",
     "text": [
      "Traceback (most recent call last):\n",
      "  File \"/usr/local/lib/python3.6/dist-packages/IPython/core/interactiveshell.py\", line 2882, in run_code\n",
      "    exec(code_obj, self.user_global_ns, self.user_ns)\n",
      "  File \"<ipython-input-3-87f962e0e46f>\", line 6, in <module>\n",
      "    boost_ram()\n",
      "  File \"<ipython-input-3-87f962e0e46f>\", line 4, in boost_ram\n",
      "    a.append('1')\n",
      "KeyboardInterrupt\n",
      "\n",
      "During handling of the above exception, another exception occurred:\n",
      "\n",
      "Traceback (most recent call last):\n",
      "  File \"/usr/local/lib/python3.6/dist-packages/IPython/core/interactiveshell.py\", line 1823, in showtraceback\n",
      "    stb = value._render_traceback_()\n",
      "AttributeError: 'KeyboardInterrupt' object has no attribute '_render_traceback_'\n",
      "\n",
      "During handling of the above exception, another exception occurred:\n",
      "\n",
      "Traceback (most recent call last):\n",
      "  File \"/usr/local/lib/python3.6/dist-packages/IPython/core/ultratb.py\", line 1132, in get_records\n",
      "    return _fixed_getinnerframes(etb, number_of_lines_of_context, tb_offset)\n",
      "  File \"/usr/local/lib/python3.6/dist-packages/IPython/core/ultratb.py\", line 313, in wrapped\n",
      "    return f(*args, **kwargs)\n",
      "  File \"/usr/local/lib/python3.6/dist-packages/IPython/core/ultratb.py\", line 358, in _fixed_getinnerframes\n",
      "    records = fix_frame_records_filenames(inspect.getinnerframes(etb, context))\n",
      "  File \"/usr/lib/python3.6/inspect.py\", line 1490, in getinnerframes\n",
      "    frameinfo = (tb.tb_frame,) + getframeinfo(tb, context)\n",
      "  File \"/usr/lib/python3.6/inspect.py\", line 1452, in getframeinfo\n",
      "    lines, lnum = findsource(frame)\n",
      "  File \"/usr/local/lib/python3.6/dist-packages/IPython/core/ultratb.py\", line 223, in findsource\n",
      "    pat = re.compile(r'^(\\s*def\\s)|(.*(?<!\\w)lambda(:|\\s))|^(\\s*@)')\n",
      "  File \"/usr/lib/python3.6/re.py\", line 233, in compile\n",
      "    return _compile(pattern, flags)\n",
      "  File \"/usr/lib/python3.6/re.py\", line 301, in _compile\n",
      "    p = sre_compile.compile(pattern, flags)\n",
      "  File \"/usr/lib/python3.6/sre_compile.py\", line 566, in compile\n",
      "    code = _code(p, flags)\n",
      "  File \"/usr/lib/python3.6/sre_compile.py\", line 551, in _code\n",
      "    _compile(code, p.data, flags)\n",
      "  File \"/usr/lib/python3.6/sre_compile.py\", line 187, in _compile\n",
      "    _compile(code, av, flags)\n",
      "  File \"/usr/lib/python3.6/sre_compile.py\", line 146, in _compile\n",
      "    _compile(code, p, (flags | add_flags) & ~del_flags)\n",
      "  File \"/usr/lib/python3.6/sre_compile.py\", line 126, in _compile\n",
      "    _compile(code, av[2], flags)\n",
      "  File \"/usr/lib/python3.6/sre_compile.py\", line 79, in _compile\n",
      "    for op, av in pattern:\n",
      "KeyboardInterrupt\n"
     ]
    },
    {
     "ename": "KeyboardInterrupt",
     "evalue": "ignored",
     "output_type": "error",
     "traceback": [
      "\u001b[0;31m---------------------------------------------------------------------------\u001b[0m"
     ]
    }
   ],
   "source": [
    "def boost_ram():\n",
    "  a = []\n",
    "  while(1):\n",
    "    a.append('1')\n",
    "\n",
    "boost_ram()"
   ]
  },
  {
   "cell_type": "code",
   "execution_count": 0,
   "metadata": {
    "colab": {},
    "colab_type": "code",
    "id": "6E8axaw1hAbM"
   },
   "outputs": [],
   "source": [
    "f = glob.glob(\"swda/sw*/sw*.csv\")\n",
    "frames = []\n",
    "for i in range(0, len(f)):\n",
    "    frames.append(pd.read_csv(f[i]))\n",
    "\n",
    "result = pd.concat(frames, ignore_index=True)\n"
   ]
  },
  {
   "cell_type": "code",
   "execution_count": 0,
   "metadata": {
    "colab": {
     "base_uri": "https://localhost:8080/",
     "height": 34
    },
    "colab_type": "code",
    "id": "b7hKGF7EhM4s",
    "outputId": "1d6f4cb8-6cfc-4c8a-bb4e-5755bd48907b"
   },
   "outputs": [
    {
     "name": "stdout",
     "output_type": "stream",
     "text": [
      "Number of converations in the dataset: 223606\n"
     ]
    }
   ],
   "source": [
    "print(\"Number of converations in the dataset:\",len(result))\n"
   ]
  },
  {
   "cell_type": "markdown",
   "metadata": {
    "colab_type": "text",
    "id": "0ttyB2lQhc7B"
   },
   "source": [
    "The dataset has many different features, we are only using act_tag and text for this training.\n"
   ]
  },
  {
   "cell_type": "code",
   "execution_count": 0,
   "metadata": {
    "colab": {},
    "colab_type": "code",
    "id": "-jUifIdshhD0"
   },
   "outputs": [],
   "source": [
    "reduced_df = result[['act_tag','text']]\n"
   ]
  },
  {
   "cell_type": "markdown",
   "metadata": {
    "colab_type": "text",
    "id": "-iPmZvysqg2i"
   },
   "source": [
    "Reduce down the number of tags to 43 - converting the combined tags to their generic classes:"
   ]
  },
  {
   "cell_type": "code",
   "execution_count": 0,
   "metadata": {
    "colab": {},
    "colab_type": "code",
    "id": "MQuHm0jPt_lz"
   },
   "outputs": [],
   "source": [
    "# Imported from \"https://github.com/cgpotts/swda\"\n",
    "# Convert the combination tags to the generic 43 tags\n",
    "\n",
    "import re\n",
    "def damsl_act_tag(input):\n",
    "        \"\"\"\n",
    "        Seeks to duplicate the tag simplification described at the\n",
    "        Coders' Manual: http://www.stanford.edu/~jurafsky/ws97/manual.august1.html\n",
    "        \"\"\"\n",
    "        d_tags = []\n",
    "        tags = re.split(r\"\\s*[,;]\\s*\", input)\n",
    "        for tag in tags:\n",
    "            if tag in ('qy^d', 'qw^d', 'b^m'): pass\n",
    "            elif tag == 'nn^e': tag = 'ng'\n",
    "            elif tag == 'ny^e': tag = 'na'\n",
    "            else: \n",
    "                tag = re.sub(r'(.)\\^.*', r'\\1', tag)\n",
    "                tag = re.sub(r'[\\(\\)@*]', '', tag)            \n",
    "                if tag in ('qr', 'qy'):                         tag = 'qy'\n",
    "                elif tag in ('fe', 'ba'):                       tag = 'ba'\n",
    "                elif tag in ('oo', 'co', 'cc'):                 tag = 'oo_co_cc'\n",
    "                elif tag in ('fx', 'sv'):                       tag = 'sv'\n",
    "                elif tag in ('aap', 'am'):                      tag = 'aap_am'\n",
    "                elif tag in ('arp', 'nd'):                      tag = 'arp_nd'\n",
    "                elif tag in ('fo', 'o', 'fw', '\"', 'by', 'bc'): tag = 'fo_o_fw_\"_by_bc'            \n",
    "            d_tags.append(tag)\n",
    "        # Dan J says (p.c.) that it makes sense to take the first;\n",
    "        # there are only a handful of examples with 2 tags here.\n",
    "        return d_tags[0]"
   ]
  },
  {
   "cell_type": "code",
   "execution_count": 0,
   "metadata": {
    "colab": {
     "base_uri": "https://localhost:8080/",
     "height": 121
    },
    "colab_type": "code",
    "id": "S8N_PUCAblq3",
    "outputId": "376b9a49-2ca8-452c-b52c-b83fea221184"
   },
   "outputs": [
    {
     "name": "stderr",
     "output_type": "stream",
     "text": [
      "/usr/local/lib/python3.6/dist-packages/ipykernel_launcher.py:1: SettingWithCopyWarning: \n",
      "A value is trying to be set on a copy of a slice from a DataFrame.\n",
      "Try using .loc[row_indexer,col_indexer] = value instead\n",
      "\n",
      "See the caveats in the documentation: https://pandas.pydata.org/pandas-docs/stable/user_guide/indexing.html#returning-a-view-versus-a-copy\n",
      "  \"\"\"Entry point for launching an IPython kernel.\n"
     ]
    }
   ],
   "source": [
    "reduced_df[\"act_tag\"] = reduced_df[\"act_tag\"].apply(lambda x: damsl_act_tag(x))"
   ]
  },
  {
   "cell_type": "markdown",
   "metadata": {
    "colab_type": "text",
    "id": "0UNy0vvhhqpD"
   },
   "source": [
    "There are 43 tags in this dataset. Some of the tags are Yes-No-Question('qy'), Statement-non-opinion('sd') and Statement-opinion('sv'). Tags information can be found here http://compprag.christopherpotts.net/swda.html#tags. \n"
   ]
  },
  {
   "cell_type": "markdown",
   "metadata": {
    "colab_type": "text",
    "id": "9biiyP8UiGDe"
   },
   "source": [
    "To get unique tags:"
   ]
  },
  {
   "cell_type": "code",
   "execution_count": 0,
   "metadata": {
    "colab": {},
    "colab_type": "code",
    "id": "BrhW8gyLfQQK"
   },
   "outputs": [],
   "source": [
    "unique_tags = set()\n",
    "for tag in reduced_df['act_tag']:\n",
    "    unique_tags.add(tag)"
   ]
  },
  {
   "cell_type": "code",
   "execution_count": 0,
   "metadata": {
    "colab": {},
    "colab_type": "code",
    "id": "LMOX5KwgiPmu"
   },
   "outputs": [],
   "source": [
    "one_hot_encoding_dic = pd.get_dummies(list(unique_tags))\n"
   ]
  },
  {
   "cell_type": "code",
   "execution_count": 0,
   "metadata": {
    "colab": {},
    "colab_type": "code",
    "id": "ZPHPCxE3iPby"
   },
   "outputs": [],
   "source": [
    "tags_encoding = []\n",
    "for i in range(0, len(reduced_df)):\n",
    "    tags_encoding.append(one_hot_encoding_dic[reduced_df['act_tag'].iloc[i]])"
   ]
  },
  {
   "cell_type": "markdown",
   "metadata": {
    "colab_type": "text",
    "id": "LVI8QyVzjqWh"
   },
   "source": [
    "The tags are one hot encoded."
   ]
  },
  {
   "cell_type": "markdown",
   "metadata": {
    "colab_type": "text",
    "id": "SQJTiffPjUtu"
   },
   "source": [
    "To create sentence embeddings:"
   ]
  },
  {
   "cell_type": "code",
   "execution_count": 0,
   "metadata": {
    "colab": {},
    "colab_type": "code",
    "id": "PmkyD1TfjWGO"
   },
   "outputs": [],
   "source": [
    "sentences = []\n",
    "for i in range(0, len(reduced_df)):\n",
    "    sentences.append(reduced_df['text'].iloc[i].split(\" \"))\n"
   ]
  },
  {
   "cell_type": "code",
   "execution_count": 0,
   "metadata": {
    "colab": {},
    "colab_type": "code",
    "id": "MlD6L6e3jV-7"
   },
   "outputs": [],
   "source": [
    "wordvectors = {}\n",
    "index = 1\n",
    "for s in sentences:\n",
    "    for w in s:\n",
    "        if w not in wordvectors:\n",
    "            wordvectors[w] = index\n",
    "            index += 1"
   ]
  },
  {
   "cell_type": "code",
   "execution_count": 0,
   "metadata": {
    "colab": {},
    "colab_type": "code",
    "id": "e7_cjDHrjV1c"
   },
   "outputs": [],
   "source": [
    "# Max length of 137\n",
    "MAX_LENGTH = len(max(sentences, key=len))"
   ]
  },
  {
   "cell_type": "code",
   "execution_count": 0,
   "metadata": {
    "colab": {},
    "colab_type": "code",
    "id": "LX6DidEvjVWs"
   },
   "outputs": [],
   "source": [
    "sentence_embeddings = []\n",
    "for s in sentences:\n",
    "    sentence_emb = []\n",
    "    for w in s:\n",
    "        sentence_emb.append(wordvectors[w])\n",
    "    sentence_embeddings.append(sentence_emb)\n"
   ]
  },
  {
   "cell_type": "markdown",
   "metadata": {
    "colab_type": "text",
    "id": "Nr4iEyNTjmlu"
   },
   "source": [
    "Then we split the dataset into test and train."
   ]
  },
  {
   "cell_type": "code",
   "execution_count": 0,
   "metadata": {
    "colab": {},
    "colab_type": "code",
    "id": "GiNZ-iI_jnOF"
   },
   "outputs": [],
   "source": [
    "from sklearn.model_selection import train_test_split\n",
    "import numpy as np\n",
    "X_train, X_test, y_train, y_test = train_test_split(sentence_embeddings, np.array(tags_encoding))\n"
   ]
  },
  {
   "cell_type": "markdown",
   "metadata": {
    "colab_type": "text",
    "id": "_RqMeWe_jron"
   },
   "source": [
    "And pad the sentences with zero to make all sentences of equal length.\n"
   ]
  },
  {
   "cell_type": "code",
   "execution_count": 0,
   "metadata": {
    "colab": {},
    "colab_type": "code",
    "id": "yqD7DvzRGRY7"
   },
   "outputs": [],
   "source": [
    "MAX_LENGTH = 137"
   ]
  },
  {
   "cell_type": "code",
   "execution_count": 0,
   "metadata": {
    "colab": {},
    "colab_type": "code",
    "id": "Ai9cwv82jufe"
   },
   "outputs": [],
   "source": [
    "from keras.preprocessing.sequence import pad_sequences\n",
    " \n",
    "train_sentences_X = pad_sequences(X_train, maxlen=MAX_LENGTH, padding='post')\n",
    "test_sentences_X = pad_sequences(X_test, maxlen=MAX_LENGTH, padding='post')"
   ]
  },
  {
   "cell_type": "code",
   "execution_count": 0,
   "metadata": {
    "cellView": "code",
    "colab": {},
    "colab_type": "code",
    "id": "Z-AO0mle-fLO"
   },
   "outputs": [],
   "source": [
    "#@title Default title text\n",
    "#Split Train into Train and Validation - about 10% into validation - In order to validate the model as it is training"
   ]
  },
  {
   "cell_type": "markdown",
   "metadata": {
    "colab_type": "text",
    "id": "sQqOCdNLoAQn"
   },
   "source": []
  },
  {
   "cell_type": "code",
   "execution_count": 0,
   "metadata": {
    "colab": {},
    "colab_type": "code",
    "id": "517zYSQLXkbn"
   },
   "outputs": [],
   "source": [
    "\n",
    "\n",
    "train_input = train_sentences_X[:140000]\n",
    "val_input = train_sentences_X[140000:]\n",
    "\n",
    "train_labels = y_train[:140000]\n",
    "val_labels = y_train[140000:]\n"
   ]
  },
  {
   "cell_type": "markdown",
   "metadata": {
    "colab_type": "text",
    "id": "kHJbZDtk7N-3"
   },
   "source": [
    "# Model 1 - \n",
    "\n",
    "The first approach we'll try is to treat DA tagging as a standard multi-class text classification task, in the way you've done before with sentiment analysis and other tasks. Each utterance will be treated independently as a text to be classified with its DA tag label. This model has an architecture of:\n",
    "\n",
    "- Embedding  \n",
    "- BLSTM  \n",
    "- Fully Connected Layer\n",
    "- Softmax Activation"
   ]
  },
  {
   "cell_type": "markdown",
   "metadata": {
    "colab_type": "text",
    "id": "FItlHC1Fjz6y"
   },
   "source": [
    " The model architecture is as follows: Embedding Layer (to generate word embeddings) Next layer Bidirectional LSTM. Feed forward layer with number of neurons = number of tags. Softmax activation to get the probabilities.\n"
   ]
  },
  {
   "cell_type": "code",
   "execution_count": 0,
   "metadata": {
    "colab": {
     "base_uri": "https://localhost:8080/",
     "height": 34
    },
    "colab_type": "code",
    "id": "M97Sw5iv-lEU",
    "outputId": "f2dad82d-178d-41bf-968b-c36a19c941d5"
   },
   "outputs": [
    {
     "name": "stdout",
     "output_type": "stream",
     "text": [
      "VOCABSIZE: 43731, MAX_LENGTH: 137, EMBED_SIZE: 100, HIDDEN_SIZE:43\n"
     ]
    }
   ],
   "source": [
    "VOCAB_SIZE = len(wordvectors) # 43,731\n",
    "MAX_LENGTH = len(max(sentences, key=len))\n",
    "EMBED_SIZE = 100 # arbitary\n",
    "HIDDEN_SIZE = len(unique_tags) \n",
    "print('VOCABSIZE: {}, MAX_LENGTH: {}, EMBED_SIZE: {}, HIDDEN_SIZE:{}'.format(VOCAB_SIZE, MAX_LENGTH, EMBED_SIZE, HIDDEN_SIZE))"
   ]
  },
  {
   "cell_type": "code",
   "execution_count": 0,
   "metadata": {
    "colab": {
     "base_uri": "https://localhost:8080/",
     "height": 869
    },
    "colab_type": "code",
    "id": "LCaX-ptaj8G2",
    "outputId": "f4360619-d8b1-46aa-bdd9-ada7e5620a64"
   },
   "outputs": [
    {
     "name": "stdout",
     "output_type": "stream",
     "text": [
      "WARNING:tensorflow:From /usr/local/lib/python3.6/dist-packages/tensorflow_core/python/keras/initializers.py:119: calling RandomUniform.__init__ (from tensorflow.python.ops.init_ops) with dtype is deprecated and will be removed in a future version.\n",
      "Instructions for updating:\n",
      "Call initializer instance with the dtype argument instead of passing it to the constructor\n"
     ]
    },
    {
     "name": "stderr",
     "output_type": "stream",
     "text": [
      "WARNING:tensorflow:From /usr/local/lib/python3.6/dist-packages/tensorflow_core/python/keras/initializers.py:119: calling RandomUniform.__init__ (from tensorflow.python.ops.init_ops) with dtype is deprecated and will be removed in a future version.\n",
      "Instructions for updating:\n",
      "Call initializer instance with the dtype argument instead of passing it to the constructor\n"
     ]
    },
    {
     "name": "stdout",
     "output_type": "stream",
     "text": [
      "WARNING:tensorflow:From /usr/local/lib/python3.6/dist-packages/tensorflow_core/python/ops/resource_variable_ops.py:1630: calling BaseResourceVariable.__init__ (from tensorflow.python.ops.resource_variable_ops) with constraint is deprecated and will be removed in a future version.\n",
      "Instructions for updating:\n",
      "If using Keras pass *_constraint arguments to layers.\n"
     ]
    },
    {
     "name": "stderr",
     "output_type": "stream",
     "text": [
      "WARNING:tensorflow:From /usr/local/lib/python3.6/dist-packages/tensorflow_core/python/ops/resource_variable_ops.py:1630: calling BaseResourceVariable.__init__ (from tensorflow.python.ops.resource_variable_ops) with constraint is deprecated and will be removed in a future version.\n",
      "Instructions for updating:\n",
      "If using Keras pass *_constraint arguments to layers.\n"
     ]
    },
    {
     "name": "stdout",
     "output_type": "stream",
     "text": [
      "WARNING:tensorflow:From /usr/local/lib/python3.6/dist-packages/tensorflow_core/python/ops/init_ops.py:97: calling GlorotUniform.__init__ (from tensorflow.python.ops.init_ops) with dtype is deprecated and will be removed in a future version.\n",
      "Instructions for updating:\n",
      "Call initializer instance with the dtype argument instead of passing it to the constructor\n"
     ]
    },
    {
     "name": "stderr",
     "output_type": "stream",
     "text": [
      "WARNING:tensorflow:From /usr/local/lib/python3.6/dist-packages/tensorflow_core/python/ops/init_ops.py:97: calling GlorotUniform.__init__ (from tensorflow.python.ops.init_ops) with dtype is deprecated and will be removed in a future version.\n",
      "Instructions for updating:\n",
      "Call initializer instance with the dtype argument instead of passing it to the constructor\n"
     ]
    },
    {
     "name": "stdout",
     "output_type": "stream",
     "text": [
      "WARNING:tensorflow:From /usr/local/lib/python3.6/dist-packages/tensorflow_core/python/ops/init_ops.py:97: calling Orthogonal.__init__ (from tensorflow.python.ops.init_ops) with dtype is deprecated and will be removed in a future version.\n",
      "Instructions for updating:\n",
      "Call initializer instance with the dtype argument instead of passing it to the constructor\n"
     ]
    },
    {
     "name": "stderr",
     "output_type": "stream",
     "text": [
      "WARNING:tensorflow:From /usr/local/lib/python3.6/dist-packages/tensorflow_core/python/ops/init_ops.py:97: calling Orthogonal.__init__ (from tensorflow.python.ops.init_ops) with dtype is deprecated and will be removed in a future version.\n",
      "Instructions for updating:\n",
      "Call initializer instance with the dtype argument instead of passing it to the constructor\n"
     ]
    },
    {
     "name": "stdout",
     "output_type": "stream",
     "text": [
      "WARNING:tensorflow:From /usr/local/lib/python3.6/dist-packages/tensorflow_core/python/ops/init_ops.py:97: calling Zeros.__init__ (from tensorflow.python.ops.init_ops) with dtype is deprecated and will be removed in a future version.\n",
      "Instructions for updating:\n",
      "Call initializer instance with the dtype argument instead of passing it to the constructor\n"
     ]
    },
    {
     "name": "stderr",
     "output_type": "stream",
     "text": [
      "WARNING:tensorflow:From /usr/local/lib/python3.6/dist-packages/tensorflow_core/python/ops/init_ops.py:97: calling Zeros.__init__ (from tensorflow.python.ops.init_ops) with dtype is deprecated and will be removed in a future version.\n",
      "Instructions for updating:\n",
      "Call initializer instance with the dtype argument instead of passing it to the constructor\n"
     ]
    },
    {
     "name": "stdout",
     "output_type": "stream",
     "text": [
      "Model: \"sequential\"\n",
      "_________________________________________________________________\n",
      "Layer (type)                 Output Shape              Param #   \n",
      "=================================================================\n",
      "embedding (Embedding)        (None, 137, 100)          4373200   \n",
      "_________________________________________________________________\n",
      "bidirectional (Bidirectional (None, 137, 86)           49536     \n",
      "_________________________________________________________________\n",
      "bidirectional_1 (Bidirection (None, 86)                44720     \n",
      "_________________________________________________________________\n",
      "dense (Dense)                (None, 43)                3741      \n",
      "_________________________________________________________________\n",
      "activation (Activation)      (None, 43)                0         \n",
      "=================================================================\n",
      "Total params: 4,471,197\n",
      "Trainable params: 4,471,197\n",
      "Non-trainable params: 0\n",
      "_________________________________________________________________\n"
     ]
    }
   ],
   "source": [
    "from tensorflow.compat.v1.keras.models import Sequential\n",
    "from tensorflow.compat.v1.keras.layers import LSTM\n",
    "from tensorflow.compat.v1.keras.layers import Dense\n",
    "from tensorflow.compat.v1.keras.layers import Dropout, InputLayer, Bidirectional, TimeDistributed, Activation, Embedding\n",
    "from tensorflow.compat.v1.keras.optimizers import Adam\n",
    "\n",
    "#Building the network\n",
    "\n",
    "# Include 2 BLSTM layers, in order to capture both the forward and backward hidden states\n",
    "\n",
    "\n",
    "model = Sequential()\n",
    "# Embedding layer\n",
    "model.add(Embedding(VOCAB_SIZE+1,100, input_length=MAX_LENGTH))\n",
    "# Bidirectional 1\n",
    "model.add(Bidirectional(LSTM(HIDDEN_SIZE, return_sequences=True)))\n",
    "# Bidirectional 2\n",
    "model.add(Bidirectional(LSTM(HIDDEN_SIZE)))\n",
    "# Dense layer\n",
    "model.add(Dense(HIDDEN_SIZE, activation='relu'))\n",
    "# Activation\n",
    "model.add(Activation('softmax'))\n",
    "\n",
    "model.compile(loss='categorical_crossentropy',optimizer='adam',metrics=['accuracy'])\n",
    "model.summary()"
   ]
  },
  {
   "cell_type": "code",
   "execution_count": 0,
   "metadata": {
    "colab": {
     "base_uri": "https://localhost:8080/",
     "height": 152
    },
    "colab_type": "code",
    "id": "OeiLkgD3Arpl",
    "outputId": "db2799db-2bbe-4526-d9fc-1dae96f0d016"
   },
   "outputs": [
    {
     "name": "stdout",
     "output_type": "stream",
     "text": [
      "Train on 140000 samples, validate on 27704 samples\n",
      "Epoch 1/3\n",
      "140000/140000 [==============================] - 140s 1ms/sample - loss: 1.7107 - acc: 0.5713 - val_loss: 1.6181 - val_acc: 0.5972\n",
      "Epoch 2/3\n",
      "140000/140000 [==============================] - 140s 999us/sample - loss: 1.4895 - acc: 0.6307 - val_loss: 1.5262 - val_acc: 0.6138\n",
      "Epoch 3/3\n",
      "140000/140000 [==============================] - 140s 1ms/sample - loss: 1.4098 - acc: 0.6484 - val_loss: 1.4995 - val_acc: 0.6172\n"
     ]
    }
   ],
   "source": [
    "# Train the model - using validation \n",
    "history_model1= model.fit(x=train_input, y=train_labels, validation_data=(val_input,val_labels), epochs=3, verbose=1, batch_size=1000)"
   ]
  },
  {
   "cell_type": "code",
   "execution_count": 0,
   "metadata": {
    "colab": {
     "base_uri": "https://localhost:8080/",
     "height": 33
    },
    "colab_type": "code",
    "id": "2LkONUKQkSrL",
    "outputId": "0fcfdf5a-b033-4488-9f02-fe2ef68b1d34"
   },
   "outputs": [
    {
     "name": "stdout",
     "output_type": "stream",
     "text": [
      "55902/55902 [==============================] - 109s 2ms/sample - loss: 1.5079 - acc: 0.6146\n"
     ]
    }
   ],
   "source": [
    "score = model.evaluate(test_sentences_X, y_test, batch_size=100)"
   ]
  },
  {
   "cell_type": "code",
   "execution_count": 0,
   "metadata": {
    "colab": {
     "base_uri": "https://localhost:8080/",
     "height": 33
    },
    "colab_type": "code",
    "id": "Ab0ZL1dqkTY4",
    "outputId": "8e3a3e12-b044-433a-fd49-c885add3917e"
   },
   "outputs": [
    {
     "name": "stdout",
     "output_type": "stream",
     "text": [
      "Overall Accuracy: 61.46112680435181\n"
     ]
    }
   ],
   "source": [
    "print(\"Overall Accuracy:\", score[1]*100)\n"
   ]
  },
  {
   "cell_type": "code",
   "execution_count": 0,
   "metadata": {
    "colab": {
     "base_uri": "https://localhost:8080/",
     "height": 295
    },
    "colab_type": "code",
    "id": "Agn772VQa6K6",
    "outputId": "185cfc0e-0e57-40a1-dd9b-a18763438741"
   },
   "outputs": [
    {
     "data": {
      "image/png": "[encoded data removed]",
      "text/plain": [
       "<Figure size 432x288 with 1 Axes>"
      ]
     },
     "metadata": {
      "needs_background": "light",
      "tags": []
     },
     "output_type": "display_data"
    }
   ],
   "source": [
    "import matplotlib.pyplot as plt\n",
    "\n",
    "history_dict = history_model1.history\n",
    "\n",
    "acc = history_dict['acc']\n",
    "val_acc = history_dict['val_acc']\n",
    "loss = history_dict['loss']\n",
    "val_loss = history_dict['val_loss']\n",
    "\n",
    "epochs = range(1, len(acc) + 1)\n",
    "\n",
    "plt.plot(epochs, acc, 'bo', label='Training Accuracy')\n",
    "plt.plot(epochs, val_acc, 'b', label='Validation Accuracy')\n",
    "plt.title('Training and validation Accuracy')\n",
    "plt.xlabel('Epochs')\n",
    "plt.ylabel('Accuracy')\n",
    "plt.legend()\n",
    "\n",
    "plt.show()"
   ]
  },
  {
   "cell_type": "markdown",
   "metadata": {
    "colab_type": "text",
    "id": "LhMViQVSPY1J"
   },
   "source": [
    "## Evaluation\n",
    "\n",
    "\n",
    "The overall accuracy is 67%, an effective accuracy for this task."
   ]
  },
  {
   "cell_type": "markdown",
   "metadata": {
    "colab_type": "text",
    "id": "XHwoVCEwjEz7"
   },
   "source": [
    "In addition to overall accuracy, you need to look at the accuracy of some minority classes. Signal-non-understanding ('br') is a good indicator of \"other-repair\" or cases in which the other conversational participant attempts to repair the speaker's error. Summarize/reformulate ('bf') has been used in dialogue summarization. Report the accuracy for these classes and some frequent errors you notice the system makes in predicting them. What do you think the reasons are？"
   ]
  },
  {
   "cell_type": "markdown",
   "metadata": {
    "colab_type": "text",
    "id": "H7owA1f27se8"
   },
   "source": [
    "## Minority Classes"
   ]
  },
  {
   "cell_type": "code",
   "execution_count": 0,
   "metadata": {
    "colab": {},
    "colab_type": "code",
    "id": "UZ8BwgDxNcIr"
   },
   "outputs": [],
   "source": [
    "# Generate predictions for the test data\n",
    "predictions = model.predict(test_sentences_X)"
   ]
  },
  {
   "cell_type": "code",
   "execution_count": 0,
   "metadata": {
    "colab": {
     "base_uri": "https://localhost:8080/",
     "height": 1000
    },
    "colab_type": "code",
    "id": "5I26g20qQdzF",
    "outputId": "94ba6c71-4880-4bad-e8c4-47a8671ac751"
   },
   "outputs": [
    {
     "name": "stdout",
     "output_type": "stream",
     "text": [
      "[[3281    0    0 ...    0    0    0]\n",
      " [  17    0    0 ...    0    0    0]\n",
      " [  61    0    0 ...    0    0    0]\n",
      " ...\n",
      " [  11    0    0 ...    0    0    0]\n",
      " [  11    0    0 ...    0    0    0]\n",
      " [   8    0    0 ...    0    0    0]]\n",
      "              precision    recall  f1-score   support\n",
      "\n",
      "           0       0.37      0.71      0.48      4652\n",
      "           1       0.00      0.00      0.00       205\n",
      "           2       0.00      0.00      0.00       170\n",
      "           3       0.00      0.00      0.00       294\n",
      "           4       0.94      0.96      0.95       921\n",
      "           5       0.00      0.00      0.00       178\n",
      "           6       0.00      0.00      0.00       497\n",
      "           7       0.00      0.00      0.00        61\n",
      "           8       0.00      0.00      0.00        22\n",
      "           9       0.58      0.66      0.62      1249\n",
      "          10       0.00      0.00      0.00       164\n",
      "          11       0.00      0.00      0.00        32\n",
      "          12       0.00      0.00      0.00      4018\n",
      "          13       0.70      0.97      0.81      9524\n",
      "          14       0.00      0.00      0.00        90\n",
      "          15       0.00      0.00      0.00      1209\n",
      "          16       0.68      0.85      0.76     18801\n",
      "          17       0.00      0.00      0.00        80\n",
      "          18       0.00      0.00      0.00        50\n",
      "          19       0.00      0.00      0.00       229\n",
      "          20       0.53      0.50      0.51      6558\n",
      "          21       0.00      0.00      0.00       151\n",
      "          22       0.00      0.00      0.00       300\n",
      "          23       0.00      0.00      0.00       693\n",
      "          24       0.00      0.00      0.00        83\n",
      "          25       0.00      0.00      0.00        26\n",
      "          26       0.00      0.00      0.00        31\n",
      "          27       0.00      0.00      0.00        20\n",
      "          28       0.00      0.00      0.00        50\n",
      "          29       0.00      0.00      0.00       357\n",
      "          30       0.00      0.00      0.00        21\n",
      "          31       0.00      0.00      0.00       137\n",
      "          32       0.00      0.00      0.00        26\n",
      "          33       0.00      0.00      0.00       259\n",
      "          34       0.00      0.00      0.00        64\n",
      "          35       0.00      0.00      0.00       255\n",
      "          36       0.47      0.32      0.38      2746\n",
      "          37       0.00      0.00      0.00       168\n",
      "          38       0.00      0.00      0.00       783\n",
      "          39       0.00      0.00      0.00       307\n",
      "          40       0.00      0.00      0.00        25\n",
      "          41       0.00      0.00      0.00       367\n",
      "          42       0.00      0.00      0.00        29\n",
      "\n",
      "    accuracy                           0.61     55902\n",
      "   macro avg       0.10      0.12      0.10     55902\n",
      "weighted avg       0.49      0.61      0.54     55902\n",
      "\n"
     ]
    },
    {
     "name": "stderr",
     "output_type": "stream",
     "text": [
      "/usr/local/lib/python3.6/dist-packages/sklearn/metrics/_classification.py:1272: UndefinedMetricWarning: Precision and F-score are ill-defined and being set to 0.0 in labels with no predicted samples. Use `zero_division` parameter to control this behavior.\n",
      "  _warn_prf(average, modifier, msg_start, len(result))\n"
     ]
    }
   ],
   "source": [
    "# Build the confusion matrix off these predictions\n",
    "minority_balanced = sklearn.metrics.confusion_matrix(y_test.argmax(axis=1), predictions.argmax(axis=1))\n",
    "print(minority_balanced)\n",
    "class_report = sklearn.metrics.classification_report(y_test.argmax(axis=1), predictions.argmax(axis=1))\n",
    "print(class_report)"
   ]
  },
  {
   "cell_type": "code",
   "execution_count": 0,
   "metadata": {
    "colab": {
     "base_uri": "https://localhost:8080/",
     "height": 49
    },
    "colab_type": "code",
    "id": "muWtF2t0W0zd",
    "outputId": "02314c2b-0bf8-434f-aef2-8f9d2277868f"
   },
   "outputs": [
    {
     "name": "stdout",
     "output_type": "stream",
     "text": [
      "Summarize/reformulate Accuracy: 0.0\n",
      "Signal-non-understanding Accuracy: 0.0\n"
     ]
    }
   ],
   "source": [
    "# Calculate Accuracies for \"br\" and \"bf\"\n",
    "bf_index = 19\n",
    "br_index = 29\n",
    "print('Summarize/reformulate Accuracy: {}'.format(minority_balanced[bf_index][bf_index]/sum(minority_balanced[bf_index])))\n",
    "print('Signal-non-understanding Accuracy: {}'.format((minority_balanced[br_index][br_index]/sum(minority_balanced[br_index]))))\n"
   ]
  },
  {
   "cell_type": "markdown",
   "metadata": {
    "colab_type": "text",
    "id": "HdnpWLggZ-6z"
   },
   "source": [
    "\n",
    "Due to the reduced lack of training data for the minority classes, these minority classifiers will not be very confident in classification, as they have not been fully optimised. The frequent classifiers will be more optimised and will generate more confident scores for all examples, effectively crowding out the less confident minority classifiers. \n",
    "\n",
    "\n"
   ]
  },
  {
   "cell_type": "markdown",
   "metadata": {
    "colab_type": "text",
    "id": "BZ16sE5F7x9e"
   },
   "source": [
    "# Model 2 - Balanced Network"
   ]
  },
  {
   "cell_type": "markdown",
   "metadata": {
    "colab_type": "text",
    "id": "hKHbOs4WkFaP"
   },
   "source": [
    "\n",
    "One thing we can do to try to improve performance is therefore to balance the data more sensibly. As the dataset is highly imbalanced, we can simply weight up the minority classes proportionally to their underrepresentation while training. "
   ]
  },
  {
   "cell_type": "code",
   "execution_count": 0,
   "metadata": {
    "colab": {},
    "colab_type": "code",
    "id": "6L4kNdf6kGEa"
   },
   "outputs": [],
   "source": [
    "import numpy as np\n",
    "from sklearn.utils.class_weight import compute_class_weight\n",
    "\n",
    "y_integers = np.argmax(tags_encoding, axis=1)\n",
    "class_weights = compute_class_weight('balanced', np.unique(y_integers), y_integers)\n",
    "d_class_weights = dict(enumerate(class_weights))"
   ]
  },
  {
   "cell_type": "markdown",
   "metadata": {
    "colab_type": "text",
    "id": "zF1UM-ZMZoa1"
   },
   "source": [
    "## Define & Train the model"
   ]
  },
  {
   "cell_type": "code",
   "execution_count": 0,
   "metadata": {
    "colab": {
     "base_uri": "https://localhost:8080/",
     "height": 313
    },
    "colab_type": "code",
    "id": "xIRgRAzOPSAZ",
    "outputId": "fb7a4fe1-d735-45bd-c4ea-04fd383709c4"
   },
   "outputs": [
    {
     "name": "stdout",
     "output_type": "stream",
     "text": [
      "Model: \"sequential_1\"\n",
      "_________________________________________________________________\n",
      "Layer (type)                 Output Shape              Param #   \n",
      "=================================================================\n",
      "embedding_1 (Embedding)      (None, 137, 100)          4373200   \n",
      "_________________________________________________________________\n",
      "bidirectional_2 (Bidirection (None, 137, 86)           49536     \n",
      "_________________________________________________________________\n",
      "bidirectional_3 (Bidirection (None, 86)                44720     \n",
      "_________________________________________________________________\n",
      "dense_1 (Dense)              (None, 43)                3741      \n",
      "_________________________________________________________________\n",
      "activation_1 (Activation)    (None, 43)                0         \n",
      "=================================================================\n",
      "Total params: 4,471,197\n",
      "Trainable params: 4,471,197\n",
      "Non-trainable params: 0\n",
      "_________________________________________________________________\n"
     ]
    }
   ],
   "source": [
    "# Re-built the model for the balanced training\n",
    "\n",
    "model = Sequential()\n",
    "model.add(Embedding(VOCAB_SIZE+1,100, input_length=MAX_LENGTH))\n",
    "model.add(Bidirectional(LSTM(HIDDEN_SIZE, return_sequences=True)))\n",
    "model.add(Bidirectional(LSTM(HIDDEN_SIZE)))\n",
    "model.add(Dense(HIDDEN_SIZE, activation='relu'))\n",
    "model.add(Activation('softmax'))\n",
    "\n",
    "model.compile(loss='categorical_crossentropy',optimizer='adam',metrics=['accuracy'])\n",
    "\n",
    "model.summary()\n"
   ]
  },
  {
   "cell_type": "code",
   "execution_count": 0,
   "metadata": {
    "colab": {
     "base_uri": "https://localhost:8080/",
     "height": 713
    },
    "colab_type": "code",
    "id": "xB2McUREkL4B",
    "outputId": "87f31520-36d8-4250-f50d-0bc08b6bc740"
   },
   "outputs": [
    {
     "name": "stdout",
     "output_type": "stream",
     "text": [
      "Train on 140000 samples, validate on 27704 samples\n",
      "Epoch 1/20\n",
      "140000/140000 [==============================] - 143s 1ms/sample - loss: 3.2296 - acc: 0.1179 - val_loss: 2.9466 - val_acc: 0.1287\n",
      "Epoch 2/20\n",
      "140000/140000 [==============================] - 141s 1ms/sample - loss: 2.7678 - acc: 0.2764 - val_loss: 2.5037 - val_acc: 0.2931\n",
      "Epoch 3/20\n",
      "140000/140000 [==============================] - 140s 1ms/sample - loss: 2.4522 - acc: 0.3401 - val_loss: 2.5303 - val_acc: 0.3198\n",
      "Epoch 4/20\n",
      "140000/140000 [==============================] - 140s 1ms/sample - loss: 2.1761 - acc: 0.3870 - val_loss: 2.3202 - val_acc: 0.3327\n",
      "Epoch 5/20\n",
      "140000/140000 [==============================] - 140s 1ms/sample - loss: 1.9814 - acc: 0.4025 - val_loss: 2.1593 - val_acc: 0.3874\n",
      "Epoch 6/20\n",
      "140000/140000 [==============================] - 140s 1ms/sample - loss: 1.7835 - acc: 0.4329 - val_loss: 2.1350 - val_acc: 0.3636\n",
      "Epoch 7/20\n",
      "140000/140000 [==============================] - 140s 1000us/sample - loss: 1.6496 - acc: 0.4512 - val_loss: 1.9694 - val_acc: 0.4204\n",
      "Epoch 8/20\n",
      "140000/140000 [==============================] - 140s 997us/sample - loss: 1.5553 - acc: 0.4647 - val_loss: 2.0956 - val_acc: 0.3855\n",
      "Epoch 9/20\n",
      "140000/140000 [==============================] - 140s 1ms/sample - loss: 1.4485 - acc: 0.4802 - val_loss: 2.0333 - val_acc: 0.3586\n",
      "Epoch 10/20\n",
      "140000/140000 [==============================] - 140s 1ms/sample - loss: 1.3925 - acc: 0.4900 - val_loss: 2.0569 - val_acc: 0.3954\n",
      "Epoch 11/20\n",
      "140000/140000 [==============================] - 140s 1ms/sample - loss: 1.3524 - acc: 0.5036 - val_loss: 1.9960 - val_acc: 0.4105\n",
      "Epoch 12/20\n",
      "140000/140000 [==============================] - 141s 1ms/sample - loss: 1.3921 - acc: 0.4988 - val_loss: 2.0523 - val_acc: 0.3880\n",
      "Epoch 13/20\n",
      "140000/140000 [==============================] - 142s 1ms/sample - loss: 1.2721 - acc: 0.5305 - val_loss: 2.0732 - val_acc: 0.4001\n",
      "Epoch 14/20\n",
      "140000/140000 [==============================] - 141s 1ms/sample - loss: 1.2235 - acc: 0.5498 - val_loss: 2.0004 - val_acc: 0.4194\n",
      "Epoch 15/20\n",
      "140000/140000 [==============================] - 140s 1ms/sample - loss: 1.1864 - acc: 0.5587 - val_loss: 1.9672 - val_acc: 0.4246\n",
      "Epoch 16/20\n",
      "140000/140000 [==============================] - 140s 1ms/sample - loss: 1.1581 - acc: 0.5710 - val_loss: 1.9692 - val_acc: 0.4405\n",
      "Epoch 17/20\n",
      "140000/140000 [==============================] - 140s 1ms/sample - loss: 1.1647 - acc: 0.5678 - val_loss: 2.0418 - val_acc: 0.4114\n",
      "Epoch 18/20\n",
      "140000/140000 [==============================] - 141s 1ms/sample - loss: 1.1266 - acc: 0.5855 - val_loss: 1.9976 - val_acc: 0.4215\n",
      "Epoch 19/20\n",
      "140000/140000 [==============================] - 141s 1ms/sample - loss: 1.0997 - acc: 0.5942 - val_loss: 1.8788 - val_acc: 0.4509\n",
      "Epoch 20/20\n",
      "140000/140000 [==============================] - 142s 1ms/sample - loss: 1.1039 - acc: 0.5948 - val_loss: 1.8347 - val_acc: 0.4693\n"
     ]
    }
   ],
   "source": [
    "# Train the balanced network -  takes  time to achieve good accuracy\n",
    "history_model2 =model.fit(x=train_input, y=train_labels, validation_data=(val_input,val_labels), epochs=20, verbose=1, class_weight=d_class_weights, batch_size=1000)"
   ]
  },
  {
   "cell_type": "code",
   "execution_count": 0,
   "metadata": {
    "colab": {
     "base_uri": "https://localhost:8080/",
     "height": 295
    },
    "colab_type": "code",
    "id": "fs__uocKHzam",
    "outputId": "f420d756-fa5e-4591-f875-4d6c27f42a37"
   },
   "outputs": [
    {
     "data": {
      "image/png": "[encoded data removed]",
      "text/plain": [
       "<Figure size 432x288 with 1 Axes>"
      ]
     },
     "metadata": {
      "needs_background": "light",
      "tags": []
     },
     "output_type": "display_data"
    }
   ],
   "source": [
    "history_dict = history_model2.history\n",
    "\n",
    "acc = history_dict['acc']\n",
    "val_acc = history_dict['val_acc']\n",
    "loss = history_dict['loss']\n",
    "val_loss = history_dict['val_loss']\n",
    "\n",
    "epochs = range(1, len(acc) + 1)\n",
    "\n",
    "plt.plot(epochs, acc, 'bo', label='Training Accuracy')\n",
    "plt.plot(epochs, val_acc, 'b', label='Validation Accuracy')\n",
    "plt.title('Training and validation Accuracy')\n",
    "plt.xlabel('Epochs')\n",
    "plt.ylabel('Accuracy')\n",
    "plt.legend()\n",
    "\n",
    "plt.show()"
   ]
  },
  {
   "cell_type": "markdown",
   "metadata": {
    "colab_type": "text",
    "id": "DJPjlMclZtw2"
   },
   "source": [
    "## Test the model"
   ]
  },
  {
   "cell_type": "code",
   "execution_count": 0,
   "metadata": {
    "colab": {
     "base_uri": "https://localhost:8080/",
     "height": 33
    },
    "colab_type": "code",
    "id": "8UMAMGpJRINC",
    "outputId": "facbd13b-ed2a-4320-eda6-e75f5aab6b32"
   },
   "outputs": [
    {
     "name": "stdout",
     "output_type": "stream",
     "text": [
      "55902/55902 [==============================] - 109s 2ms/sample - loss: 1.8296 - acc: 0.4725\n"
     ]
    }
   ],
   "source": [
    "# Overall Accuracy\n",
    "score = model.evaluate(test_sentences_X, y_test, batch_size=100)"
   ]
  },
  {
   "cell_type": "code",
   "execution_count": 0,
   "metadata": {
    "colab": {
     "base_uri": "https://localhost:8080/",
     "height": 33
    },
    "colab_type": "code",
    "id": "0xzLIkTarjei",
    "outputId": "2b117d08-5b15-4252-c56e-5914d7aef440"
   },
   "outputs": [
    {
     "name": "stdout",
     "output_type": "stream",
     "text": [
      "Overall Accuracy: 47.2469687461853\n"
     ]
    }
   ],
   "source": [
    "print(\"Overall Accuracy:\", score[1]*100)"
   ]
  },
  {
   "cell_type": "code",
   "execution_count": 0,
   "metadata": {
    "colab": {},
    "colab_type": "code",
    "id": "qkULcz2igEW3"
   },
   "outputs": [],
   "source": [
    "# Generate predictions for the test data\n",
    "label_pred = model.predict(test_sentences_X, batch_size=100)"
   ]
  },
  {
   "cell_type": "markdown",
   "metadata": {
    "colab_type": "text",
    "id": "hq7i7giWZ4_l"
   },
   "source": [
    "## Balanced network evaluation"
   ]
  },
  {
   "cell_type": "markdown",
   "metadata": {
    "colab_type": "text",
    "id": "fM7VWweco0Et"
   },
   "source": [
    "Report the overall accuracy and the accuracy of  'br' and 'bf'  classes. Suggest other ways to handle imbalanced classes."
   ]
  },
  {
   "cell_type": "code",
   "execution_count": 0,
   "metadata": {
    "colab": {
     "base_uri": "https://localhost:8080/",
     "height": 927
    },
    "colab_type": "code",
    "id": "4jNfWmSNgRvT",
    "outputId": "d0a1b81b-22df-451e-89dd-6b56815d9388"
   },
   "outputs": [
    {
     "name": "stdout",
     "output_type": "stream",
     "text": [
      "              precision    recall  f1-score   support\n",
      "\n",
      "           0       0.56      0.46      0.51      4652\n",
      "           1       0.04      0.27      0.07       205\n",
      "           2       0.08      0.14      0.10       170\n",
      "           3       0.24      0.68      0.36       294\n",
      "           4       0.00      0.00      0.00       921\n",
      "           5       0.10      0.36      0.16       178\n",
      "           6       0.60      0.62      0.61       497\n",
      "           7       0.37      0.67      0.48        61\n",
      "           8       0.04      0.32      0.06        22\n",
      "           9       0.57      0.64      0.60      1249\n",
      "          10       0.55      0.54      0.54       164\n",
      "          11       0.00      0.00      0.00        32\n",
      "          12       0.77      0.71      0.74      4018\n",
      "          13       0.91      0.64      0.75      9524\n",
      "          14       0.10      0.36      0.15        90\n",
      "          15       0.64      0.43      0.51      1209\n",
      "          16       0.77      0.42      0.55     18801\n",
      "          17       0.03      0.30      0.06        80\n",
      "          18       0.32      0.70      0.44        50\n",
      "          19       0.02      0.17      0.04       229\n",
      "          20       0.34      0.39      0.37      6558\n",
      "          21       0.06      0.26      0.09       151\n",
      "          22       0.12      0.51      0.20       300\n",
      "          23       0.28      0.47      0.35       693\n",
      "          24       0.58      0.47      0.52        83\n",
      "          25       0.06      0.31      0.10        26\n",
      "          26       0.00      0.00      0.00        31\n",
      "          27       0.19      0.80      0.31        20\n",
      "          28       0.01      0.08      0.01        50\n",
      "          29       0.50      0.73      0.60       357\n",
      "          30       0.00      0.00      0.00        21\n",
      "          31       0.11      0.47      0.18       137\n",
      "          32       0.01      0.04      0.01        26\n",
      "          33       0.03      0.08      0.05       259\n",
      "          34       0.01      0.12      0.02        64\n",
      "          35       0.52      0.85      0.65       255\n",
      "          36       0.59      0.19      0.28      2746\n",
      "          37       0.02      0.05      0.03       168\n",
      "          38       0.14      0.69      0.23       783\n",
      "          39       0.07      0.21      0.11       307\n",
      "          40       0.05      0.68      0.10        25\n",
      "          41       0.28      0.66      0.39       367\n",
      "          42       0.00      0.00      0.00        29\n",
      "\n",
      "    accuracy                           0.47     55902\n",
      "   macro avg       0.25      0.38      0.26     55902\n",
      "weighted avg       0.64      0.47      0.52     55902\n",
      "\n",
      "Summarize/reformulate Accuracy: 0.17467248908296942\n",
      "Signal-non-understanding Accuracy: 0.7338935574229691\n"
     ]
    },
    {
     "name": "stderr",
     "output_type": "stream",
     "text": [
      "/usr/local/lib/python3.6/dist-packages/sklearn/metrics/_classification.py:1272: UndefinedMetricWarning: Precision and F-score are ill-defined and being set to 0.0 in labels with no predicted samples. Use `zero_division` parameter to control this behavior.\n",
      "  _warn_prf(average, modifier, msg_start, len(result))\n"
     ]
    }
   ],
   "source": [
    "# Build the confusion matrix off these predictions\n",
    "\n",
    "matrix_balanced = sklearn.metrics.confusion_matrix(y_test.argmax(axis=1), label_pred.argmax(axis=1))\n",
    "\n",
    "balanced_class_report = sklearn.metrics.classification_report(y_test.argmax(axis=1), label_pred.argmax(axis=1))\n",
    "print(balanced_class_report)\n",
    "# Calculate Accuracies for \"br\" and \"bf\"\n",
    "print('Summarize/reformulate Accuracy: {}'.format(matrix_balanced[bf_index][bf_index]/sum(matrix_balanced[bf_index])))\n",
    "print('Signal-non-understanding Accuracy: {}'.format((matrix_balanced[br_index][br_index]/sum(matrix_balanced[br_index]))))\n"
   ]
  },
  {
   "cell_type": "markdown",
   "metadata": {
    "colab_type": "text",
    "id": "Zi9GyVUvPcrF"
   },
   "source": [
    "\n",
    "\n",
    "### Accuracies\n",
    "\n",
    "\n",
    "\n",
    "### Explanation\n",
    "\n",
    "\n",
    "### Other ways to handle imbalanced classes\n",
    "\n",
    "\n",
    "- Remove samples from the majority classes to balance out the inbalanced dataset.\n",
    "\n",
    "- Utilise a generative model to produce samples of the minority classes using those classes' probability disitributions to balance out the imbalanced dataset. "
   ]
  },
  {
   "cell_type": "markdown",
   "metadata": {
    "colab_type": "text",
    "id": "fW4g5mQkkaFv"
   },
   "source": [
    "Can we improve things by using context information?  Next we try to build a model which predicts DA tag from the sequence of \n",
    "previous DA tags, plus the utterance representation. "
   ]
  },
  {
   "cell_type": "markdown",
   "metadata": {
    "colab_type": "text",
    "id": "WfrGWuZ6nk4y"
   },
   "source": [
    "# Using Context for Dialog Act Classification\n",
    "\n",
    "The second approach we will try is a hierarchical approach to DA tagging. We expect there is valuable sequential information among the DA tags. So in this section we apply a BiLSTM on top of the sentence CNN representation. The CNN model learns textual information in each utterance for DA classification, acting like the text classifier from Model 1 above. Then we use a bidirectional-LSTM (BLSTM) above that to learn how to use the context before and after the current utterance to improve the output."
   ]
  },
  {
   "cell_type": "markdown",
   "metadata": {
    "colab_type": "text",
    "id": "7qyPpNaK-2mb"
   },
   "source": [
    "## Define the model\n",
    "\n",
    "This model has an architecture of:\n",
    "\n",
    "- Word Embedding\n",
    "- CNN\n",
    "- Bidirectional LSTM\n",
    "- Fully-Connected output\n",
    "\n"
   ]
  },
  {
   "cell_type": "markdown",
   "metadata": {
    "colab_type": "text",
    "id": "DuJLqgjWqcIf"
   },
   "source": [
    "## CNN\n",
    "\n",
    "\n",
    "This is a classical CNN layer used to convolve over embedings tensor and gether useful information from it. The data is represented by hierarchy of features, which can be modelled using a CNN. We transform/reshape conv output to 2d matrix. Then we pass it to the max pooling layer that applies the max pool operation on windows of different sizes."
   ]
  },
  {
   "cell_type": "code",
   "execution_count": 0,
   "metadata": {
    "colab": {
     "base_uri": "https://localhost:8080/",
     "height": 141
    },
    "colab_type": "code",
    "id": "XA5INtFl-fM0",
    "outputId": "da6e6a76-3ece-40f7-ff99-60b4ecaed59e"
   },
   "outputs": [
    {
     "name": "stdout",
     "output_type": "stream",
     "text": [
      "WARNING:tensorflow:From /usr/local/lib/python3.6/dist-packages/tensorflow_core/python/keras/initializers.py:143: calling RandomNormal.__init__ (from tensorflow.python.ops.init_ops) with dtype is deprecated and will be removed in a future version.\n",
      "Instructions for updating:\n",
      "Call initializer instance with the dtype argument instead of passing it to the constructor\n"
     ]
    },
    {
     "name": "stderr",
     "output_type": "stream",
     "text": [
      "WARNING:tensorflow:From /usr/local/lib/python3.6/dist-packages/tensorflow_core/python/keras/initializers.py:143: calling RandomNormal.__init__ (from tensorflow.python.ops.init_ops) with dtype is deprecated and will be removed in a future version.\n",
      "Instructions for updating:\n",
      "Call initializer instance with the dtype argument instead of passing it to the constructor\n"
     ]
    }
   ],
   "source": [
    "from tensorflow.compat.v1.keras.models import Model\n",
    "from tensorflow.compat.v1.keras.layers import Input, Embedding, Reshape, Conv2D, BatchNormalization, MaxPool2D, Concatenate, Flatten, Dense, Dropout, TimeDistributed\n",
    "filter_sizes = [3,4,5]\n",
    "num_filters = 64\n",
    "drop = 0.2\n",
    "VOCAB_SIZE = len(wordvectors) # 43,731\n",
    "MAX_LENGTH = len(max(sentences, key=len))\n",
    "EMBED_SIZE = 100 # arbitary\n",
    "HIDDEN_SIZE = len(unique_tags) \n",
    "\n",
    "# CNN model\n",
    "inputs = Input(shape=(MAX_LENGTH, ), dtype='int32')\n",
    "embedding = Embedding(input_dim=VOCAB_SIZE+1, output_dim=EMBED_SIZE, input_length=MAX_LENGTH)(inputs)\n",
    "reshape = Reshape((MAX_LENGTH, EMBED_SIZE, 1))(embedding)\n",
    "\n",
    "# 3 convolutions\n",
    "conv_0 = Conv2D(num_filters, kernel_size=(filter_sizes[0], EMBED_SIZE), strides=1, padding='valid', kernel_initializer='normal', activation='relu')(reshape)\n",
    "bn_0 = BatchNormalization()(conv_0)\n",
    "conv_1 = Conv2D(num_filters, kernel_size=(filter_sizes[1], EMBED_SIZE), strides=1, padding='valid', kernel_initializer='normal', activation='relu')(reshape)\n",
    "bn_1 = BatchNormalization()(conv_1)\n",
    "conv_2 = Conv2D(num_filters, kernel_size=(filter_sizes[2], EMBED_SIZE), strides=1, padding='valid', kernel_initializer='normal', activation='relu')(reshape)\n",
    "bn_2 = BatchNormalization()(conv_2)\n",
    "\n",
    "# maxpool for 3 layers\n",
    "maxpool_0 = MaxPool2D(pool_size=(MAX_LENGTH - filter_sizes[0] + 1, 1), padding='valid')(bn_0)\n",
    "maxpool_1 = MaxPool2D(pool_size=(MAX_LENGTH - filter_sizes[1] + 1, 1), padding='valid')(bn_1)\n",
    "maxpool_2 = MaxPool2D(pool_size=(MAX_LENGTH - filter_sizes[2] + 1, 1), padding='valid')(bn_2)\n",
    "\n",
    "# concatenate tensors\n",
    "conc = Concatenate()([maxpool_0, maxpool_1, maxpool_2])\n",
    "# flatten concatenated tensors\n",
    "flat = TimeDistributed(Flatten())(conc)\n",
    "# dense layer (dense_1)\n",
    "s = np.shape(flat)\n",
    "dense_1 = Dense(100, activation='relu')(flat)\n",
    "# dropout_1\n",
    "dropout_1 = Dropout(drop)(dense_1)"
   ]
  },
  {
   "cell_type": "markdown",
   "metadata": {
    "colab_type": "text",
    "id": "wDuERMw7-rAV"
   },
   "source": [
    "## BLSTM\n",
    "\n",
    "This is used to create LSTM layers. The data we’re working with has temporal properties which we want to model as well — hence the use of a LSTM. You should create a BiLSTM."
   ]
  },
  {
   "cell_type": "code",
   "execution_count": 0,
   "metadata": {
    "colab": {},
    "colab_type": "code",
    "id": "pFGp2EWI-fM7"
   },
   "outputs": [],
   "source": [
    "from tensorflow.compat.v1.keras.layers import Bidirectional, LSTM\n",
    "# BLSTM model\n",
    "ds = np.shape(dropout_1)\n",
    "\n",
    "# Bidirectional 1u\n",
    "bi_1 = Bidirectional(LSTM(100, return_sequences=True))(dropout_1)\n",
    "\n",
    "# Bidirectional 2\n",
    "b1s = np.shape(bi_1)\n",
    "bi_2 = Bidirectional(LSTM(100))(bi_1)\n",
    "\n",
    "# Dense layer (dense_2)\n",
    "b2s = np.shape(bi_2)\n",
    "dense_2 = Dense(100, activation='relu')(bi_2)\n",
    "\n",
    "# dropout_2\n",
    "dropout_2 = Dropout(drop)(dense_2)\n"
   ]
  },
  {
   "cell_type": "markdown",
   "metadata": {
    "colab_type": "text",
    "id": "7wluAkx6AQUb"
   },
   "source": [
    "Concatenate 2 last layers and create the output layer"
   ]
  },
  {
   "cell_type": "code",
   "execution_count": 0,
   "metadata": {
    "colab": {
     "base_uri": "https://localhost:8080/",
     "height": 1000
    },
    "colab_type": "code",
    "id": "kzrhgkX2-fNE",
    "outputId": "aa6d7a0a-e8b7-4fd0-a4b0-319fa8391261"
   },
   "outputs": [
    {
     "name": "stdout",
     "output_type": "stream",
     "text": [
      "Model: \"model\"\n",
      "__________________________________________________________________________________________________\n",
      "Layer (type)                    Output Shape         Param #     Connected to                     \n",
      "==================================================================================================\n",
      "input_1 (InputLayer)            [(None, 137)]        0                                            \n",
      "__________________________________________________________________________________________________\n",
      "embedding_1 (Embedding)         (None, 137, 100)     4373200     input_1[0][0]                    \n",
      "__________________________________________________________________________________________________\n",
      "reshape (Reshape)               (None, 137, 100, 1)  0           embedding_1[0][0]                \n",
      "__________________________________________________________________________________________________\n",
      "conv2d (Conv2D)                 (None, 135, 1, 64)   19264       reshape[0][0]                    \n",
      "__________________________________________________________________________________________________\n",
      "conv2d_1 (Conv2D)               (None, 134, 1, 64)   25664       reshape[0][0]                    \n",
      "__________________________________________________________________________________________________\n",
      "conv2d_2 (Conv2D)               (None, 133, 1, 64)   32064       reshape[0][0]                    \n",
      "__________________________________________________________________________________________________\n",
      "batch_normalization (BatchNorma (None, 135, 1, 64)   256         conv2d[0][0]                     \n",
      "__________________________________________________________________________________________________\n",
      "batch_normalization_1 (BatchNor (None, 134, 1, 64)   256         conv2d_1[0][0]                   \n",
      "__________________________________________________________________________________________________\n",
      "batch_normalization_2 (BatchNor (None, 133, 1, 64)   256         conv2d_2[0][0]                   \n",
      "__________________________________________________________________________________________________\n",
      "max_pooling2d (MaxPooling2D)    (None, 1, 1, 64)     0           batch_normalization[0][0]        \n",
      "__________________________________________________________________________________________________\n",
      "max_pooling2d_1 (MaxPooling2D)  (None, 1, 1, 64)     0           batch_normalization_1[0][0]      \n",
      "__________________________________________________________________________________________________\n",
      "max_pooling2d_2 (MaxPooling2D)  (None, 1, 1, 64)     0           batch_normalization_2[0][0]      \n",
      "__________________________________________________________________________________________________\n",
      "concatenate (Concatenate)       (None, 1, 1, 192)    0           max_pooling2d[0][0]              \n",
      "                                                                 max_pooling2d_1[0][0]            \n",
      "                                                                 max_pooling2d_2[0][0]            \n",
      "__________________________________________________________________________________________________\n",
      "time_distributed (TimeDistribut (None, 1, 192)       0           concatenate[0][0]                \n",
      "__________________________________________________________________________________________________\n",
      "dense_1 (Dense)                 (None, 1, 100)       19300       time_distributed[0][0]           \n",
      "__________________________________________________________________________________________________\n",
      "dropout (Dropout)               (None, 1, 100)       0           dense_1[0][0]                    \n",
      "__________________________________________________________________________________________________\n",
      "bidirectional_2 (Bidirectional) (None, 1, 200)       160800      dropout[0][0]                    \n",
      "__________________________________________________________________________________________________\n",
      "bidirectional_3 (Bidirectional) (None, 200)          240800      bidirectional_2[0][0]            \n",
      "__________________________________________________________________________________________________\n",
      "dense_2 (Dense)                 (None, 100)          20100       bidirectional_3[0][0]            \n",
      "__________________________________________________________________________________________________\n",
      "flatten_1 (Flatten)             (None, 100)          0           dropout[0][0]                    \n",
      "__________________________________________________________________________________________________\n",
      "dropout_1 (Dropout)             (None, 100)          0           dense_2[0][0]                    \n",
      "__________________________________________________________________________________________________\n",
      "concatenate_1 (Concatenate)     (None, 200)          0           flatten_1[0][0]                  \n",
      "                                                                 dropout_1[0][0]                  \n",
      "__________________________________________________________________________________________________\n",
      "dense_3 (Dense)                 (None, 43)           8643        concatenate_1[0][0]              \n",
      "==================================================================================================\n",
      "Total params: 4,900,603\n",
      "Trainable params: 4,900,219\n",
      "Non-trainable params: 384\n",
      "__________________________________________________________________________________________________\n"
     ]
    }
   ],
   "source": [
    "# concatenate 2 final layers\n",
    "dropout_1_flat = Flatten()(dropout_1)\n",
    "final_conc = Concatenate()([dropout_1_flat,dropout_2])\n",
    "# output\n",
    "output = Dense(43, activation='softmax')(final_conc)\n",
    "\n",
    "cnn_model = Model(inputs=[inputs], outputs=[output])\n",
    "cnn_model.compile(optimizer = 'adam', loss='categorical_crossentropy', metrics=['accuracy'])\n",
    "cnn_model.summary()"
   ]
  },
  {
   "cell_type": "code",
   "execution_count": 0,
   "metadata": {
    "colab": {
     "base_uri": "https://localhost:8080/",
     "height": 450
    },
    "colab_type": "code",
    "id": "3Jneg-GD-fNJ",
    "outputId": "e3a30eee-b4a3-4895-8065-36b07a32462a"
   },
   "outputs": [
    {
     "name": "stdout",
     "output_type": "stream",
     "text": [
      "Train on 140000 samples, validate on 27704 samples\n",
      "Epoch 1/4\n",
      "140000/140000 [==============================] - 9s 67us/sample - loss: 0.4912 - acc: 0.8454 - val_loss: 1.0355 - val_acc: 0.7015\n",
      "Epoch 2/4\n",
      "140000/140000 [==============================] - 9s 67us/sample - loss: 0.4389 - acc: 0.8596 - val_loss: 1.1532 - val_acc: 0.6917\n",
      "Epoch 3/4\n",
      "140000/140000 [==============================] - 9s 68us/sample - loss: 0.4017 - acc: 0.8693 - val_loss: 1.2731 - val_acc: 0.6952\n",
      "Epoch 4/4\n",
      "140000/140000 [==============================] - 9s 67us/sample - loss: 0.3810 - acc: 0.8754 - val_loss: 1.3132 - val_acc: 0.6913\n"
     ]
    },
    {
     "data": {
      "image/png": "[encoded data removed]",
      "text/plain": [
       "<Figure size 432x288 with 1 Axes>"
      ]
     },
     "metadata": {
      "needs_background": "light",
      "tags": []
     },
     "output_type": "display_data"
    }
   ],
   "source": [
    "# Train the model - using validation \n",
    "cnn_history = cnn_model.fit(x=train_input, y=train_labels, validation_data=(val_input,val_labels), epochs=4, verbose=1, batch_size=1000)\n",
    "\n",
    "\n",
    "acc = cnn_history.history['acc']\n",
    "val_acc = cnn_history.history['val_acc']\n",
    "loss = cnn_history.history['loss']\n",
    "val_loss = cnn_history.history['val_loss']\n",
    "\n",
    "epochs = range(1, len(acc) + 1)\n",
    "\n",
    "plt.plot(epochs, acc, 'bo', label='Training Accuracy')\n",
    "plt.plot(epochs, val_acc, 'b', label='Validation Accuracy')\n",
    "plt.title('Training and validation Accuracy')\n",
    "plt.xlabel('Epochs')\n",
    "plt.ylabel('Accuracy')\n",
    "plt.legend()\n",
    "\n",
    "plt.show()"
   ]
  },
  {
   "cell_type": "code",
   "execution_count": 0,
   "metadata": {
    "colab": {
     "base_uri": "https://localhost:8080/",
     "height": 34
    },
    "colab_type": "code",
    "id": "MSMRSX1u-fNO",
    "outputId": "27120468-ed62-4b59-c2ba-301a5a5582eb"
   },
   "outputs": [
    {
     "name": "stdout",
     "output_type": "stream",
     "text": [
      "55902/55902 [==============================] - 3s 53us/sample - loss: 1.3202 - acc: 0.6920\n"
     ]
    }
   ],
   "source": [
    "score = cnn_model.evaluate(test_sentences_X, y_test, batch_size=100)\n",
    "label_pred = model.predict(test_sentences_X, batch_size=100)"
   ]
  },
  {
   "cell_type": "code",
   "execution_count": 0,
   "metadata": {
    "colab": {
     "base_uri": "https://localhost:8080/",
     "height": 34
    },
    "colab_type": "code",
    "id": "3qFMsXNS-fNS",
    "outputId": "55730e4b-c9f5-403c-c000-bf8b67acb8d7"
   },
   "outputs": [
    {
     "name": "stdout",
     "output_type": "stream",
     "text": [
      "Overall Accuracy: 69.20324563980103\n"
     ]
    }
   ],
   "source": [
    "print(\"Overall Accuracy:\", score[1]*100)"
   ]
  },
  {
   "cell_type": "code",
   "execution_count": 0,
   "metadata": {
    "colab": {
     "base_uri": "https://localhost:8080/",
     "height": 973
    },
    "colab_type": "code",
    "id": "wfPTAdCuC1NF",
    "outputId": "29761df2-dfbe-40ff-f20c-2aa55b3f8055"
   },
   "outputs": [
    {
     "name": "stdout",
     "output_type": "stream",
     "text": [
      "              precision    recall  f1-score   support\n",
      "\n",
      "           0       0.01      0.08      0.01       261\n",
      "           1       0.00      0.00      0.00       775\n",
      "           2       0.00      0.00      0.00        73\n",
      "           3       0.00      0.00      0.00       220\n",
      "           4       0.00      0.00      0.00        20\n",
      "           5       0.00      0.00      0.00       188\n",
      "           6       0.00      0.00      0.00       917\n",
      "           7       0.00      0.00      0.00       189\n",
      "           8       0.00      0.00      0.00       239\n",
      "           9       0.00      0.00      0.00     18909\n",
      "          10       0.00      0.00      0.00       169\n",
      "          11       0.00      0.01      0.00      1216\n",
      "          12       0.00      0.00      0.00       147\n",
      "          13       0.00      0.00      0.00        78\n",
      "          14       0.01      0.57      0.01       296\n",
      "          15       0.00      0.00      0.00        19\n",
      "          16       0.00      0.00      0.00        49\n",
      "          17       0.00      0.00      0.00        23\n",
      "          18       0.00      0.00      0.00      1169\n",
      "          19       0.00      0.00      0.00       265\n",
      "          20       0.01      0.00      0.00      2824\n",
      "          21       0.00      0.00      0.00        33\n",
      "          22       0.00      0.00      0.00      3924\n",
      "          23       0.00      0.00      0.00        25\n",
      "          24       0.00      0.00      0.00       327\n",
      "          25       0.00      0.10      0.00        31\n",
      "          26       0.00      0.00      0.00        51\n",
      "          27       0.00      0.00      0.00      4723\n",
      "          28       0.00      0.00      0.00        27\n",
      "          29       0.00      0.00      0.00        67\n",
      "          30       0.00      0.00      0.00       137\n",
      "          31       0.00      0.00      0.00       626\n",
      "          32       0.00      0.00      0.00       462\n",
      "          33       0.00      0.00      0.00        60\n",
      "          34       0.00      0.00      0.00        76\n",
      "          35       0.00      0.00      0.00        25\n",
      "          36       0.00      0.00      0.00        18\n",
      "          37       0.00      0.00      0.00      9508\n",
      "          38       0.00      0.00      0.00       152\n",
      "          39       0.00      0.00      0.00       338\n",
      "          40       0.00      0.00      0.00       293\n",
      "          41       0.00      0.00      0.00       217\n",
      "          42       0.00      0.00      0.00      6736\n",
      "\n",
      "    accuracy                           0.00     55902\n",
      "   macro avg       0.00      0.02      0.00     55902\n",
      "weighted avg       0.00      0.00      0.00     55902\n",
      "\n",
      "Summarize/reformulate Accuracy: 0.0\n",
      "Signal-non-understanding Accuracy: 0.0\n"
     ]
    },
    {
     "name": "stderr",
     "output_type": "stream",
     "text": [
      "/usr/local/lib/python3.6/dist-packages/sklearn/metrics/_classification.py:1272: UndefinedMetricWarning: Precision and F-score are ill-defined and being set to 0.0 in labels with no predicted samples. Use `zero_division` parameter to control this behavior.\n",
      "  _warn_prf(average, modifier, msg_start, len(result))\n"
     ]
    }
   ],
   "source": [
    "cnn_matrix = sklearn.metrics.confusion_matrix(y_test.argmax(axis=1), label_pred.argmax(axis=1))\n",
    "bf_index = 19\n",
    "br_index = 29\n",
    "cnn_class_report = sklearn.metrics.classification_report(y_test.argmax(axis=1), label_pred.argmax(axis=1))\n",
    "print(cnn_class_report)\n",
    "# Calculate Accuracies for \"br\" and \"bf\"\n",
    "print('Summarize/reformulate Accuracy: {}'.format(cnn_matrix[bf_index][bf_index]/sum(cnn_matrix[bf_index])))\n",
    "print('Signal-non-understanding Accuracy: {}'.format((cnn_matrix[br_index][br_index]/sum(cnn_matrix[br_index]))))"
   ]
  },
  {
   "cell_type": "markdown",
   "metadata": {
    "colab_type": "text",
    "id": "RKMmrfuisKGJ"
   },
   "source": [
    "**Report** your overall accuracy. Did context help disambiguate and better predict the minority classes ('br' and 'bf')? What are frequent errors? Show one positive example where adding context changed the prediction.\n",
    "\n",
    "\n"
   ]
  },
  {
   "cell_type": "markdown",
   "metadata": {
    "colab_type": "text",
    "id": "QmO6hVsWTaNr"
   },
   "source": [
    "### Minority Classes\n",
    "\n"
   ]
  },
  {
   "cell_type": "markdown",
   "metadata": {
    "colab_type": "text",
    "id": "gUZt48JgrE34"
   },
   "source": [
    "# Advanced:  Bert-Based Model for Dialogue Act Tagging"
   ]
  },
  {
   "cell_type": "markdown",
   "metadata": {
    "colab_type": "text",
    "id": "zE63Q5guuPdA"
   },
   "source": [
    "In the last section we want to use BERT and leverage contextual word embeddings, following on from the last lab you've \n",
    "just done. This is an advanced part of the assignment and worth 10 marks (20%) in total. You could use your BERT-based text classifier here (instead of the CNN utterance-level classifier) and see if a pre-trained BERT language model helps. The domain difference from conversational data is one possible downside to using BERT. Explore some techniques to efficiently transfer the knowledge from conversational data and to improve model performance on DA tagging."
   ]
  },
  {
   "cell_type": "code",
   "execution_count": 0,
   "metadata": {
    "colab": {},
    "colab_type": "code",
    "id": "Q_fiV-Wlk4yd"
   },
   "outputs": [],
   "source": [
    "import tensorflow as tf\n",
    "import pandas as pd\n",
    "import tensorflow_hub as hub\n",
    "import os\n",
    "import re\n",
    "import numpy as np\n",
    "from tokenization import FullTokenizer\n",
    "from tqdm import tqdm_notebook\n",
    "from tensorflow.keras import backend as K\n",
    "import sklearn\n",
    "# Initialize session\n",
    "sess = tf.Session()\n",
    "# Params for bert model and tokenization\n",
    "bert_path = \"https://tfhub.dev/google/bert_uncased_L-12_H-768_A-12/1\"\n",
    "max_seq_length = 256\n",
    "labels = reduced_df['act_tag']\n",
    "train_text, test_text, train_label, test_label = train_test_split(np.array(sentences), labels)\n"
   ]
  },
  {
   "cell_type": "code",
   "execution_count": 0,
   "metadata": {
    "colab": {
     "base_uri": "https://localhost:8080/",
     "height": 185,
     "referenced_widgets": [
      "0a238332e38d4ea58f814d874dc2a156",
      "f5bfeac91df5420d9ceb757bd4e13811",
      "2369e3336b0a49769f175a189ac14d23",
      "f3528762220042a8b210058707cb10a6",
      "02510cbe5f7f4d11b678db72f72c4cb4",
      "dec787a2f91f4b7383dc5f6f8077d3ca",
      "fc6acda69ce64e339ee3095ef8ad0268",
      "1f76b789fcc849d6b1d75b5e59e95f9e",
      "ff7960e11aaf40b088f7a5c2649aae93",
      "4aee85c0f744445e89467d44340d60c3",
      "84d435a0b8e84169a3618692a2420788",
      "bb640f5b752e4014a6ea15473b6c7227",
      "c40dc0d6186f469aa27037f6c2116c06",
      "63a78c695ca14ee3a68f5a6a21b32a2a",
      "8d9249a15bfd4f03bbac5a24dbd93acd",
      "56adfb368704444688e9625814443fc4"
     ]
    },
    "colab_type": "code",
    "id": "KUD7JW8yqGPV",
    "outputId": "b1036c57-0d34-4fa6-9e27-1d6ebd8a7ee6"
   },
   "outputs": [
    {
     "name": "stdout",
     "output_type": "stream",
     "text": [
      "INFO:tensorflow:Saver not created because there are no variables in the graph to restore\n"
     ]
    },
    {
     "name": "stderr",
     "output_type": "stream",
     "text": [
      "INFO:tensorflow:Saver not created because there are no variables in the graph to restore\n",
      "/usr/local/lib/python3.6/dist-packages/ipykernel_launcher.py:76: TqdmDeprecationWarning: This function will be removed in tqdm==5.0.0\n",
      "Please use `tqdm.notebook.tqdm` instead of `tqdm.tqdm_notebook`\n"
     ]
    },
    {
     "data": {
      "application/vnd.jupyter.widget-view+json": {
       "model_id": "0a238332e38d4ea58f814d874dc2a156",
       "version_major": 2,
       "version_minor": 0
      },
      "text/plain": [
       "HBox(children=(IntProgress(value=0, description='Converting examples to features', max=167704, style=ProgressS…"
      ]
     },
     "metadata": {
      "tags": []
     },
     "output_type": "display_data"
    },
    {
     "name": "stdout",
     "output_type": "stream",
     "text": [
      "\n"
     ]
    },
    {
     "data": {
      "application/vnd.jupyter.widget-view+json": {
       "model_id": "ff7960e11aaf40b088f7a5c2649aae93",
       "version_major": 2,
       "version_minor": 0
      },
      "text/plain": [
       "HBox(children=(IntProgress(value=0, description='Converting examples to features', max=55902, style=ProgressSt…"
      ]
     },
     "metadata": {
      "tags": []
     },
     "output_type": "display_data"
    },
    {
     "name": "stdout",
     "output_type": "stream",
     "text": [
      "\n"
     ]
    }
   ],
   "source": [
    "class PaddingInputExample(object):\n",
    "    \"\"\"Fake example so the num input examples is a multiple of the batch size.\n",
    "  \n",
    "  \"\"\"\n",
    "\n",
    "\n",
    "class InputExample(object):\n",
    "\n",
    "    def __init__(self, guid, text_a, text_b=None, label=None):\n",
    "        \"\"\"Constructs a InputExample.\n",
    "    \"\"\"\n",
    "        self.guid = guid\n",
    "        self.text_a = text_a\n",
    "        self.text_b = text_b\n",
    "        self.label = label\n",
    "\n",
    "def create_tokenizer_from_hub_module():\n",
    "\n",
    "    bert_module =  hub.Module(bert_path)\n",
    "    tokenization_info = bert_module(signature=\"tokenization_info\", as_dict=True)\n",
    "    vocab_file, do_lower_case = sess.run(\n",
    "        [\n",
    "            tokenization_info[\"vocab_file\"],\n",
    "            tokenization_info[\"do_lower_case\"],\n",
    "        ]\n",
    "    )\n",
    "\n",
    "    return FullTokenizer(vocab_file=vocab_file, do_lower_case=do_lower_case)\n",
    "\n",
    "def convert_single_example(tokenizer, example, max_seq_length=256):\n",
    "    \"\"\"Converts a single `InputExample` into a single `InputFeatures`.\"\"\"\n",
    "\n",
    "    if isinstance(example, PaddingInputExample):\n",
    "        input_ids = [0] * max_seq_length\n",
    "        input_mask = [0] * max_seq_length\n",
    "        segment_ids = [0] * max_seq_length\n",
    "        label = 0\n",
    "        return input_ids, input_mask, segment_ids, label\n",
    "\n",
    "    tokens_a = tokenizer.tokenize(example.text_a)\n",
    "    if len(tokens_a) > max_seq_length - 2:\n",
    "        tokens_a = tokens_a[0 : (max_seq_length - 2)]\n",
    "\n",
    "    tokens = []\n",
    "    segment_ids = []\n",
    "    tokens.append(\"[CLS]\")\n",
    "    segment_ids.append(0)\n",
    "    for token in tokens_a:\n",
    "        tokens.append(token)\n",
    "        segment_ids.append(0)\n",
    "    tokens.append(\"[SEP]\")\n",
    "    segment_ids.append(0)\n",
    "\n",
    "    input_ids = tokenizer.convert_tokens_to_ids(tokens)\n",
    "\n",
    "    # The mask has 1 for real tokens and 0 for padding tokens. Only real\n",
    "    # tokens are attended to.\n",
    "    input_mask = [1] * len(input_ids)\n",
    "\n",
    "    # Zero-pad up to the sequence length.\n",
    "    while len(input_ids) < max_seq_length:\n",
    "        input_ids.append(0)\n",
    "        input_mask.append(0)\n",
    "        segment_ids.append(0)\n",
    "\n",
    "    assert len(input_ids) == max_seq_length\n",
    "    assert len(input_mask) == max_seq_length\n",
    "    assert len(segment_ids) == max_seq_length\n",
    "\n",
    "    return input_ids, input_mask, segment_ids, example.label\n",
    "\n",
    "def convert_examples_to_features(tokenizer, examples, max_seq_length=256):\n",
    "    \"\"\"Convert a set of `InputExample`s to a list of `InputFeatures`.\"\"\"\n",
    "\n",
    "    input_ids, input_masks, segment_ids, labels = [], [], [], []\n",
    "    for example in tqdm_notebook(examples, desc=\"Converting examples to features\"):\n",
    "        input_id, input_mask, segment_id, label = convert_single_example(\n",
    "            tokenizer, example, max_seq_length\n",
    "        )\n",
    "        input_ids.append(input_id)\n",
    "        input_masks.append(input_mask)\n",
    "        segment_ids.append(segment_id)\n",
    "        labels.append(label)\n",
    "    return (\n",
    "        np.array(input_ids),\n",
    "        np.array(input_masks),\n",
    "        np.array(segment_ids),\n",
    "        np.array(labels).reshape(-1, 1),\n",
    "    )\n",
    "\n",
    "def convert_text_to_examples(texts, labels):\n",
    "    \"\"\"Create InputExamples\"\"\"\n",
    "    InputExamples = []\n",
    "    for text, label in zip(texts, labels):\n",
    "        InputExamples.append(\n",
    "            InputExample(guid=None, text_a=\" \".join(text), text_b=None, label=label)\n",
    "        )\n",
    "    return InputExamples\n",
    "\n",
    "# Task 1\n",
    "# Instantiate tokenizer\n",
    "tokenizer = create_tokenizer_from_hub_module()\n",
    "# Convert data to InputExample format\n",
    "InputExamplesTrain=convert_text_to_examples(train_text,train_label)\n",
    "InputExamplesTest=convert_text_to_examples(test_text,test_label)\n",
    "# Convert to features\n",
    "(train_input_ids, train_input_masks, train_segment_ids, train_labels) = convert_examples_to_features(tokenizer, InputExamplesTrain)\n",
    "(test_input_ids, test_input_masks, test_segment_ids, test_labels) = convert_examples_to_features(tokenizer, InputExamplesTest)\n",
    "\n",
    "train_labels = sklearn.preprocessing.OneHotEncoder().fit_transform(train_labels)\n",
    "test_labels = sklearn.preprocessing.OneHotEncoder().fit_transform(test_labels)\n",
    "# End of Task 1"
   ]
  },
  {
   "cell_type": "code",
   "execution_count": 0,
   "metadata": {
    "colab": {},
    "colab_type": "code",
    "id": "C_9CINCAqHvz"
   },
   "outputs": [],
   "source": [
    "class BertLayer(tf.keras.layers.Layer):\n",
    "    def __init__(\n",
    "        self,\n",
    "        n_fine_tune_layers=10,\n",
    "        pooling=\"first\",\n",
    "        bert_path=\"https://tfhub.dev/google/bert_uncased_L-12_H-768_A-12/1\",\n",
    "        **kwargs,\n",
    "    ):\n",
    "        self.n_fine_tune_layers = n_fine_tune_layers\n",
    "        self.trainable = True\n",
    "        self.output_size = 768\n",
    "        self.pooling = pooling\n",
    "        self.bert_path = bert_path\n",
    "        if self.pooling not in [\"first\", \"mean\"]:\n",
    "            raise NameError(\n",
    "                f\"Undefined pooling type (must be either first or mean, but is {self.pooling}\"\n",
    "            )\n",
    "\n",
    "        super(BertLayer, self).__init__(**kwargs)\n",
    "\n",
    "    def build(self, input_shape):\n",
    "        self.bert = hub.Module(\n",
    "            self.bert_path, trainable=self.trainable, name=f\"{self.name}_module\"\n",
    "        )\n",
    "\n",
    "        # Remove unused layers\n",
    "        trainable_vars = self.bert.variables\n",
    "        if self.pooling == \"first\":\n",
    "            trainable_vars = [var for var in trainable_vars if not \"/cls/\" in var.name]\n",
    "            trainable_layers = [\"pooler/dense\"]\n",
    "\n",
    "        elif self.pooling == \"mean\":\n",
    "            trainable_vars = [\n",
    "                var\n",
    "                for var in trainable_vars\n",
    "                if not \"/cls/\" in var.name and not \"/pooler/\" in var.name\n",
    "            ]\n",
    "            trainable_layers = []\n",
    "        else:\n",
    "            raise NameError(\n",
    "                f\"Undefined pooling type (must be either first or mean, but is {self.pooling}\"\n",
    "            )\n",
    "\n",
    "        # Select how many layers to fine tune\n",
    "        for i in range(self.n_fine_tune_layers):\n",
    "            trainable_layers.append(f\"encoder/layer_{str(11 - i)}\")\n",
    "\n",
    "        # Update trainable vars to contain only the specified layers\n",
    "        trainable_vars = [\n",
    "            var\n",
    "            for var in trainable_vars\n",
    "            if any([l in var.name for l in trainable_layers])\n",
    "        ]\n",
    "\n",
    "        # Add to trainable weights\n",
    "        for var in trainable_vars:\n",
    "            self._trainable_weights.append(var)\n",
    "\n",
    "        for var in self.bert.variables:\n",
    "            if var not in self._trainable_weights:\n",
    "                self._non_trainable_weights.append(var)\n",
    "\n",
    "        super(BertLayer, self).build(input_shape)\n",
    "\n",
    "    def call(self, inputs):\n",
    "        inputs = [K.cast(x, dtype=\"int32\") for x in inputs]\n",
    "        input_ids, input_mask, segment_ids = inputs\n",
    "        bert_inputs = dict(\n",
    "            input_ids=input_ids, input_mask=input_mask, segment_ids=segment_ids\n",
    "        )\n",
    "        if self.pooling == \"first\":\n",
    "            pooled = self.bert(inputs=bert_inputs, signature=\"tokens\", as_dict=True)[\n",
    "                \"pooled_output\"\n",
    "            ]\n",
    "        elif self.pooling == \"mean\":\n",
    "            result = self.bert(inputs=bert_inputs, signature=\"tokens\", as_dict=True)[\n",
    "                \"sequence_output\"\n",
    "            ]\n",
    "\n",
    "            mul_mask = lambda x, m: x * tf.expand_dims(m, axis=-1)\n",
    "            masked_reduce_mean = lambda x, m: tf.reduce_sum(mul_mask(x, m), axis=1) / (\n",
    "                    tf.reduce_sum(m, axis=1, keepdims=True) + 1e-10)\n",
    "            input_mask = tf.cast(input_mask, tf.float32)\n",
    "            pooled = masked_reduce_mean(result, input_mask)\n",
    "        else:\n",
    "            raise NameError(f\"Undefined pooling type (must be either first or mean, but is {self.pooling}\")\n",
    "\n",
    "        return pooled\n",
    "\n",
    "    def compute_output_shape(self, input_shape):\n",
    "        return (input_shape[0], self.output_size)"
   ]
  },
  {
   "cell_type": "code",
   "execution_count": 0,
   "metadata": {
    "colab": {
     "base_uri": "https://localhost:8080/",
     "height": 52
    },
    "colab_type": "code",
    "id": "wk5xt4lqqMkN",
    "outputId": "6e481b25-690c-431f-d191-984c5719732e"
   },
   "outputs": [
    {
     "name": "stdout",
     "output_type": "stream",
     "text": [
      "INFO:tensorflow:Saver not created because there are no variables in the graph to restore\n"
     ]
    },
    {
     "name": "stderr",
     "output_type": "stream",
     "text": [
      "INFO:tensorflow:Saver not created because there are no variables in the graph to restore\n"
     ]
    }
   ],
   "source": [
    "# Task 2\n",
    "# Build model\n",
    "\n",
    "input_ids = tf.keras.layers.Input((max_seq_length,), dtype='float32', name='IDInput')\n",
    "input_masks = tf.keras.layers.Input((max_seq_length,), dtype='float32', name='MASKSInput')\n",
    "input_segment_ids = tf.keras.layers.Input((max_seq_length,), dtype='float32', name='SEGMENTIDInput')\n",
    "major_input = [input_ids, input_masks, input_segment_ids]\n",
    "bert = BertLayer(n_fine_tune_layers=1)(major_input)\n",
    "output = tf.keras.layers.Dense(43, activation='softmax')(bert)\n",
    "\n",
    "model = tf.keras.models.Model(inputs=[major_input], outputs = [output])\n",
    "\n",
    "model.compile(optimizer='adam', loss='categorical_crossentropy', metrics=['accuracy'])\n",
    "# End of Task 2\n",
    "\n",
    "\n",
    "def initialize_vars(sess):\n",
    "    sess.run(tf.local_variables_initializer())\n",
    "    sess.run(tf.global_variables_initializer())\n",
    "    sess.run(tf.tables_initializer())\n",
    "    K.set_session(sess)"
   ]
  },
  {
   "cell_type": "code",
   "execution_count": 0,
   "metadata": {
    "colab": {
     "base_uri": "https://localhost:8080/",
     "height": 52
    },
    "colab_type": "code",
    "id": "OhATJRQRqVkN",
    "outputId": "1f5b796d-62fd-47f7-c7c3-ace1fc90c43c"
   },
   "outputs": [
    {
     "name": "stdout",
     "output_type": "stream",
     "text": [
      "Train on 167704 samples, validate on 55902 samples\n",
      "167704/167704 [==============================] - 8556s 51ms/sample - loss: 0.9997 - acc: 0.6988 - val_loss: 0.8836 - val_acc: 0.7261\n"
     ]
    }
   ],
   "source": [
    "\n",
    "# Instantiate variables\n",
    "initialize_vars(sess)\n",
    "\n",
    "#print(type(train_input_ids), type(train_input_masks), type(train_segment_ids), type(train_labels))\n",
    "#print(np.shape(train_input_ids), np.shape(train_input_masks), np.shape(train_segment_ids), np.shape(train_labels))\n",
    "\n",
    "bert_model_hist = model.fit([train_input_ids, train_input_masks, train_segment_ids], train_labels,validation_data=([test_input_ids, test_input_masks, test_segment_ids], test_labels), epochs=1, batch_size=32)"
   ]
  },
  {
   "cell_type": "code",
   "execution_count": 0,
   "metadata": {
    "colab": {
     "base_uri": "https://localhost:8080/",
     "height": 52
    },
    "colab_type": "code",
    "id": "Zlfji56_uthw",
    "outputId": "b9f2dae6-389f-40e4-a84d-ca38d6d62b20"
   },
   "outputs": [
    {
     "name": "stdout",
     "output_type": "stream",
     "text": [
      "55902/55902 [==============================] - 1940s 35ms/sample - loss: 0.8836 - acc: 0.7261\n",
      "Overall Accuracy: 72.60921001434326\n"
     ]
    }
   ],
   "source": [
    "score = model.evaluate([test_input_ids, test_input_masks, test_segment_ids], test_labels, batch_size=32)\n",
    "label_pred = model.predict([test_input_ids, test_input_masks, test_segment_ids], batch_size=32)\n",
    "print(\"Overall Accuracy:\", score[1]*100)"
   ]
  },
  {
   "cell_type": "code",
   "execution_count": 0,
   "metadata": {
    "colab": {
     "base_uri": "https://localhost:8080/",
     "height": 1000
    },
    "colab_type": "code",
    "id": "YHzVEeb6EMM2",
    "outputId": "19f1443f-5815-4e67-dc00-7dbb70861836"
   },
   "outputs": [
    {
     "name": "stdout",
     "output_type": "stream",
     "text": [
      "2312175\n",
      "              precision    recall  f1-score   support\n",
      "\n",
      "           0       0.83      0.74      0.78      3922\n",
      "           1       0.75      0.71      0.73      4592\n",
      "           2       0.00      0.00      0.00       181\n",
      "           3       0.36      0.33      0.35        27\n",
      "           4       0.86      0.36      0.50       152\n",
      "           5       0.00      0.00      0.00       252\n",
      "           6       0.62      0.26      0.36      2755\n",
      "           7       0.00      0.00      0.00        23\n",
      "           8       0.63      0.13      0.22       180\n",
      "           9       0.00      0.00      0.00        94\n",
      "          10       0.00      0.00      0.00        53\n",
      "          11       0.75      0.94      0.84      9435\n",
      "          12       0.12      0.14      0.13       175\n",
      "          13       0.78      0.61      0.69      1211\n",
      "          14       0.00      0.00      0.00        21\n",
      "          15       0.00      0.00      0.00       248\n",
      "          16       0.80      0.70      0.74       250\n",
      "          17       0.38      0.57      0.45       320\n",
      "          18       0.42      0.52      0.47        92\n",
      "          19       0.55      0.30      0.39        20\n",
      "          20       0.83      0.51      0.63       682\n",
      "          21       0.27      0.20      0.23       291\n",
      "          22       0.62      0.66      0.64        61\n",
      "          23       0.35      0.52      0.42        25\n",
      "          24       0.75      0.69      0.72       288\n",
      "          25       0.00      0.00      0.00       197\n",
      "          26       0.00      0.00      0.00        79\n",
      "          27       0.56      0.72      0.63       355\n",
      "          28       0.00      0.00      0.00        65\n",
      "          29       0.31      0.08      0.12       783\n",
      "          30       0.17      0.03      0.05        38\n",
      "          31       0.50      0.02      0.04       138\n",
      "          32       0.91      0.31      0.46       170\n",
      "          33       0.00      0.00      0.00        51\n",
      "          34       0.62      0.80      0.70       493\n",
      "          35       0.00      0.00      0.00        17\n",
      "          36       0.70      0.85      0.77      1214\n",
      "          37       0.43      0.01      0.02       277\n",
      "          38       0.75      0.88      0.81     18930\n",
      "          39       0.59      0.53      0.56      6760\n",
      "          40       0.00      0.00      0.00        29\n",
      "          41       0.00      0.00      0.00        29\n",
      "          42       0.97      0.98      0.98       927\n",
      "\n",
      "    accuracy                           0.73     55902\n",
      "   macro avg       0.40      0.33      0.34     55902\n",
      "weighted avg       0.70      0.73      0.70     55902\n",
      "\n"
     ]
    },
    {
     "name": "stderr",
     "output_type": "stream",
     "text": [
      "/usr/local/lib/python3.6/dist-packages/sklearn/metrics/_classification.py:1272: UndefinedMetricWarning: Precision and F-score are ill-defined and being set to 0.0 in labels with no predicted samples. Use `zero_division` parameter to control this behavior.\n",
      "  _warn_prf(average, modifier, msg_start, len(result))\n"
     ]
    },
    {
     "ename": "NameError",
     "evalue": "ignored",
     "output_type": "error",
     "traceback": [
      "\u001b[0;31m---------------------------------------------------------------------------\u001b[0m",
      "\u001b[0;31mNameError\u001b[0m                                 Traceback (most recent call last)",
      "\u001b[0;32m<ipython-input-76-ef31f69fe57c>\u001b[0m in \u001b[0;36m<module>\u001b[0;34m()\u001b[0m\n\u001b[1;32m      7\u001b[0m \u001b[0mprint\u001b[0m\u001b[0;34m(\u001b[0m\u001b[0mbert_class_report\u001b[0m\u001b[0;34m)\u001b[0m\u001b[0;34m\u001b[0m\u001b[0;34m\u001b[0m\u001b[0m\n\u001b[1;32m      8\u001b[0m \u001b[0;31m# Calculate Accuracies for \"br\" and \"bf\"\u001b[0m\u001b[0;34m\u001b[0m\u001b[0;34m\u001b[0m\u001b[0;34m\u001b[0m\u001b[0m\n\u001b[0;32m----> 9\u001b[0;31m \u001b[0mprint\u001b[0m\u001b[0;34m(\u001b[0m\u001b[0;34m'Summarize/reformulate Accuracy: {}'\u001b[0m\u001b[0;34m.\u001b[0m\u001b[0mformat\u001b[0m\u001b[0;34m(\u001b[0m\u001b[0mbert_matrix\u001b[0m\u001b[0;34m[\u001b[0m\u001b[0mbf_index\u001b[0m\u001b[0;34m]\u001b[0m\u001b[0;34m[\u001b[0m\u001b[0mbf_index\u001b[0m\u001b[0;34m]\u001b[0m\u001b[0;34m/\u001b[0m\u001b[0msum\u001b[0m\u001b[0;34m(\u001b[0m\u001b[0mbert_matrix\u001b[0m\u001b[0;34m[\u001b[0m\u001b[0mbf_index\u001b[0m\u001b[0;34m]\u001b[0m\u001b[0;34m)\u001b[0m\u001b[0;34m)\u001b[0m\u001b[0;34m)\u001b[0m\u001b[0;34m\u001b[0m\u001b[0;34m\u001b[0m\u001b[0m\n\u001b[0m\u001b[1;32m     10\u001b[0m \u001b[0mprint\u001b[0m\u001b[0;34m(\u001b[0m\u001b[0;34m'Signal-non-understanding Accuracy: {}'\u001b[0m\u001b[0;34m.\u001b[0m\u001b[0mformat\u001b[0m\u001b[0;34m(\u001b[0m\u001b[0;34m(\u001b[0m\u001b[0mbert_matrix\u001b[0m\u001b[0;34m[\u001b[0m\u001b[0mbr_index\u001b[0m\u001b[0;34m]\u001b[0m\u001b[0;34m[\u001b[0m\u001b[0mbr_index\u001b[0m\u001b[0;34m]\u001b[0m\u001b[0;34m/\u001b[0m\u001b[0msum\u001b[0m\u001b[0;34m(\u001b[0m\u001b[0mbert_matrix\u001b[0m\u001b[0;34m[\u001b[0m\u001b[0mbr_index\u001b[0m\u001b[0;34m]\u001b[0m\u001b[0;34m)\u001b[0m\u001b[0;34m)\u001b[0m\u001b[0;34m)\u001b[0m\u001b[0;34m)\u001b[0m\u001b[0;34m\u001b[0m\u001b[0;34m\u001b[0m\u001b[0m\n",
      "\u001b[0;31mNameError\u001b[0m: name 'bert_matrix' is not defined"
     ]
    }
   ],
   "source": [
    "\n",
    "#print(label_pred.argmax())\n",
    "#bert_matrix = sklearn.metrics.confusion_matrix(test_label.argmax(), label_pred.argmax(axis=1))\n",
    "bf_index = 19 #rerun cell\n",
    "br_index = 29\n",
    "bert_class_report = sklearn.metrics.classification_report(test_labels.argmax(axis=1), label_pred.argmax(axis=1))\n",
    "print(bert_class_report)\n",
    "# Calculate Accuracies for \"br\" and \"bf\"\n",
    "#print('Summarize/reformulate Accuracy: {}'.format(bert_matrix[bf_index][bf_index]/sum(bert_matrix[bf_index])))\n",
    "#print('Signal-non-understanding Accuracy: {}'.format((bert_matrix[br_index][br_index]/sum(bert_matrix[br_index]))))"
   ]
  },
  {
   "cell_type": "code",
   "execution_count": 0,
   "metadata": {
    "colab": {
     "base_uri": "https://localhost:8080/",
     "height": 1000
    },
    "colab_type": "code",
    "id": "yu9i9-mcEazL",
    "outputId": "c14c3e05-68d1-4089-c504-c68052d12590"
   },
   "outputs": [
    {
     "name": "stdout",
     "output_type": "stream",
     "text": [
      "['<Throat_clearing>', '[', 'I', 'guess,', '+', 'I', 'guess', '', ']', 'by', 'what', 'you', 'said', '', '[', \"you're,\", '+', '', 'you', '', \"don't\", ']', 'feel', 'your,', '', '', '{F', 'uh,', '}', 'privacy', 'has', 'been', '[', 'inva-,', '+', 'invaded', ']', 'anytime', 'recently?', '/']\n",
      "Label:\n",
      "  (0, 39)\t1.0\n",
      "Prdicted:\n",
      "38\n",
      "--------------------------------------------------\n",
      "--------------------------------------------------\n",
      "--------------------------------------------------\n",
      "['No,', '', '/']\n",
      "Label:\n",
      "  (0, 38)\t1.0\n",
      "Prdicted:\n",
      "38\n",
      "--------------------------------------------------\n",
      "--------------------------------------------------\n",
      "--------------------------------------------------\n",
      "['not', 'really.', '', '/']\n",
      "Label:\n",
      "  (0, 38)\t1.0\n",
      "Prdicted:\n",
      "0\n",
      "--------------------------------------------------\n",
      "--------------------------------------------------\n",
      "--------------------------------------------------\n",
      "['{F', 'Uh,', '}', '[', '[', '', '{F', 'u-,', '}', 'th-,', '', '+', '{F', 'uh,', '}', 'th-,', ']', '+', 'the', ']', 'only', 'thing', 'that', 'annoys', 'me', 'is', 'when,', '{F', 'uh,', '}', 'people', 'call', 'and', '[', 'they,', '+', '{F', 'uh,', '}', 'you', ']', 'have', 'solicitation', 'calls.', '/']\n",
      "Label:\n",
      "  (0, 28)\t1.0\n",
      "Prdicted:\n",
      "38\n",
      "--------------------------------------------------\n",
      "--------------------------------------------------\n",
      "--------------------------------------------------\n",
      "['Uh-huh.', '/']\n",
      "Label:\n",
      "  (0, 34)\t1.0\n",
      "Prdicted:\n",
      "34\n",
      "--------------------------------------------------\n",
      "--------------------------------------------------\n",
      "--------------------------------------------------\n",
      "[\"That's\", 'the', 'only', 'thing', 'that', 'bothers', 'me.', '', '', '/']\n",
      "Label:\n",
      "  (0, 38)\t1.0\n",
      "Prdicted:\n",
      "38\n",
      "--------------------------------------------------\n",
      "--------------------------------------------------\n",
      "--------------------------------------------------\n",
      "[\"That's\", 'not', 'really', 'invading', 'my', 'privacy', '<laughter>.', '/']\n",
      "Label:\n",
      "  (0, 29)\t1.0\n",
      "Prdicted:\n",
      "11\n",
      "--------------------------------------------------\n",
      "--------------------------------------------------\n",
      "--------------------------------------------------\n",
      "['Right.', '/']\n",
      "Label:\n",
      "  (0, 11)\t1.0\n",
      "Prdicted:\n",
      "11\n",
      "--------------------------------------------------\n",
      "--------------------------------------------------\n",
      "--------------------------------------------------\n",
      "['{F', 'Uh,', '}', '<<pause>>', 'do', 'you', 'feel', 'that', 'yours', 'is', 'invaded?', '/']\n",
      "Label:\n",
      "  (0, 11)\t1.0\n",
      "Prdicted:\n",
      "11\n",
      "--------------------------------------------------\n",
      "--------------------------------------------------\n",
      "--------------------------------------------------\n",
      "['{F', 'Uh,', '}', 'no', '', '/']\n",
      "Label:\n",
      "  (0, 39)\t1.0\n",
      "Prdicted:\n",
      "39\n",
      "--------------------------------------------------\n",
      "--------------------------------------------------\n",
      "--------------------------------------------------\n",
      "['I', \"wouldn't\", 'call', 'it', 'invading', 'my', 'privacy', 'by', 'any', 'means.', '', '/']\n",
      "Label:\n",
      "  (0, 6)\t1.0\n",
      "Prdicted:\n",
      "29\n",
      "--------------------------------------------------\n",
      "--------------------------------------------------\n",
      "--------------------------------------------------\n",
      "['{F', 'Uh,', '}', '{D', 'you', 'know,', '}', 'I', 'would,', '-', '/']\n",
      "Label:\n",
      "  (0, 11)\t1.0\n",
      "Prdicted:\n",
      "11\n",
      "--------------------------------------------------\n",
      "--------------------------------------------------\n",
      "--------------------------------------------------\n",
      "['[', 'there,', '+', \"there's\", '', ']', 'a', 'lot', 'of', 'times', 'though,', '{F', 'uh,', '}', 'you', 'get', 'those', 'calls', '[', 'and,', '+', ']', '', '{D', 'you', 'know,', '}', 'when', \"you're\", 'sitting', 'at', 'home', 'wanting', 'to', 'relax', '[', 'or,', '+', 'or', ']', 'whatnot', '', '/']\n",
      "Label:\n",
      "  (0, 1)\t1.0\n",
      "Prdicted:\n",
      "1\n",
      "--------------------------------------------------\n",
      "--------------------------------------------------\n",
      "--------------------------------------------------\n",
      "['{C', 'and,', '}', '{D', 'you', 'know,', '}', 'next', 'thing', 'you', 'know,', '{F', 'uh,', '}', 'someone', 'calls', 'and', 'wants', 'to', 'sell', 'you', 'this', 'or', '', 'that', '', '/']\n",
      "Label:\n",
      "  (0, 11)\t1.0\n",
      "Prdicted:\n",
      "11\n",
      "--------------------------------------------------\n",
      "--------------------------------------------------\n",
      "--------------------------------------------------\n",
      "['{C', 'and', '}', \"it's\", 'real', 'hard', '[', 'to,', '+', 'to', '', ']', 'tell', 'them,', '{D', 'you', 'know,', '}', 'that', \"you're\", 'not', 'interested.', '', '/']\n",
      "Label:\n",
      "  (0, 38)\t1.0\n",
      "Prdicted:\n",
      "39\n",
      "--------------------------------------------------\n",
      "--------------------------------------------------\n",
      "--------------------------------------------------\n"
     ]
    }
   ],
   "source": [
    "for i in range(15):\n",
    "  print(sentences[i])\n",
    "  print('Label:')\n",
    "  print(test_labels[i])\n",
    "  print('Prdicted:')\n",
    "  print(np.array(label_pred[i]).argmax())\n",
    "  print('--------------------------------------------------')\n",
    "  print('--------------------------------------------------')\n",
    "  print('--------------------------------------------------')"
   ]
  },
  {
   "cell_type": "code",
   "execution_count": 0,
   "metadata": {
    "colab": {},
    "colab_type": "code",
    "id": "MWOHRDGSpcfL"
   },
   "outputs": [],
   "source": []
  }
 ],
 "metadata": {
  "accelerator": "GPU",
  "colab": {
   "collapsed_sections": [],
   "machine_shape": "hm",
   "name": "Lab 11 Dialogue Act Tagging.ipynb",
   "provenance": [],
   "toc_visible": true
  },
  "kernelspec": {
   "display_name": "Python 3",
   "language": "python",
   "name": "python3"
  },
  "language_info": {
   "codemirror_mode": {
    "name": "ipython",
    "version": 3
   },
   "file_extension": ".py",
   "mimetype": "text/x-python",
   "name": "python",
   "nbconvert_exporter": "python",
   "pygments_lexer": "ipython3",
   "version": "3.7.6"
  },
  "widgets": {
   "application/vnd.jupyter.widget-state+json": {
    "02510cbe5f7f4d11b678db72f72c4cb4": {
     "model_module": "@jupyter-widgets/controls",
     "model_name": "ProgressStyleModel",
     "state": {
      "_model_module": "@jupyter-widgets/controls",
      "_model_module_version": "1.5.0",
      "_model_name": "ProgressStyleModel",
      "_view_count": null,
      "_view_module": "@jupyter-widgets/base",
      "_view_module_version": "1.2.0",
      "_view_name": "StyleView",
      "bar_color": null,
      "description_width": "initial"
     }
    },
    "0a238332e38d4ea58f814d874dc2a156": {
     "model_module": "@jupyter-widgets/controls",
     "model_name": "HBoxModel",
     "state": {
      "_dom_classes": [],
      "_model_module": "@jupyter-widgets/controls",
      "_model_module_version": "1.5.0",
      "_model_name": "HBoxModel",
      "_view_count": null,
      "_view_module": "@jupyter-widgets/controls",
      "_view_module_version": "1.5.0",
      "_view_name": "HBoxView",
      "box_style": "",
      "children": [
       "IPY_MODEL_2369e3336b0a49769f175a189ac14d23",
       "IPY_MODEL_f3528762220042a8b210058707cb10a6"
      ],
      "layout": "IPY_MODEL_f5bfeac91df5420d9ceb757bd4e13811"
     }
    },
    "1f76b789fcc849d6b1d75b5e59e95f9e": {
     "model_module": "@jupyter-widgets/base",
     "model_name": "LayoutModel",
     "state": {
      "_model_module": "@jupyter-widgets/base",
      "_model_module_version": "1.2.0",
      "_model_name": "LayoutModel",
      "_view_count": null,
      "_view_module": "@jupyter-widgets/base",
      "_view_module_version": "1.2.0",
      "_view_name": "LayoutView",
      "align_content": null,
      "align_items": null,
      "align_self": null,
      "border": null,
      "bottom": null,
      "display": null,
      "flex": null,
      "flex_flow": null,
      "grid_area": null,
      "grid_auto_columns": null,
      "grid_auto_flow": null,
      "grid_auto_rows": null,
      "grid_column": null,
      "grid_gap": null,
      "grid_row": null,
      "grid_template_areas": null,
      "grid_template_columns": null,
      "grid_template_rows": null,
      "height": null,
      "justify_content": null,
      "justify_items": null,
      "left": null,
      "margin": null,
      "max_height": null,
      "max_width": null,
      "min_height": null,
      "min_width": null,
      "object_fit": null,
      "object_position": null,
      "order": null,
      "overflow": null,
      "overflow_x": null,
      "overflow_y": null,
      "padding": null,
      "right": null,
      "top": null,
      "visibility": null,
      "width": null
     }
    },
    "2369e3336b0a49769f175a189ac14d23": {
     "model_module": "@jupyter-widgets/controls",
     "model_name": "IntProgressModel",
     "state": {
      "_dom_classes": [],
      "_model_module": "@jupyter-widgets/controls",
      "_model_module_version": "1.5.0",
      "_model_name": "IntProgressModel",
      "_view_count": null,
      "_view_module": "@jupyter-widgets/controls",
      "_view_module_version": "1.5.0",
      "_view_name": "ProgressView",
      "bar_style": "success",
      "description": "Converting examples to features: 100%",
      "description_tooltip": null,
      "layout": "IPY_MODEL_dec787a2f91f4b7383dc5f6f8077d3ca",
      "max": 167704,
      "min": 0,
      "orientation": "horizontal",
      "style": "IPY_MODEL_02510cbe5f7f4d11b678db72f72c4cb4",
      "value": 167704
     }
    },
    "4aee85c0f744445e89467d44340d60c3": {
     "model_module": "@jupyter-widgets/base",
     "model_name": "LayoutModel",
     "state": {
      "_model_module": "@jupyter-widgets/base",
      "_model_module_version": "1.2.0",
      "_model_name": "LayoutModel",
      "_view_count": null,
      "_view_module": "@jupyter-widgets/base",
      "_view_module_version": "1.2.0",
      "_view_name": "LayoutView",
      "align_content": null,
      "align_items": null,
      "align_self": null,
      "border": null,
      "bottom": null,
      "display": null,
      "flex": null,
      "flex_flow": null,
      "grid_area": null,
      "grid_auto_columns": null,
      "grid_auto_flow": null,
      "grid_auto_rows": null,
      "grid_column": null,
      "grid_gap": null,
      "grid_row": null,
      "grid_template_areas": null,
      "grid_template_columns": null,
      "grid_template_rows": null,
      "height": null,
      "justify_content": null,
      "justify_items": null,
      "left": null,
      "margin": null,
      "max_height": null,
      "max_width": null,
      "min_height": null,
      "min_width": null,
      "object_fit": null,
      "object_position": null,
      "order": null,
      "overflow": null,
      "overflow_x": null,
      "overflow_y": null,
      "padding": null,
      "right": null,
      "top": null,
      "visibility": null,
      "width": null
     }
    },
    "56adfb368704444688e9625814443fc4": {
     "model_module": "@jupyter-widgets/base",
     "model_name": "LayoutModel",
     "state": {
      "_model_module": "@jupyter-widgets/base",
      "_model_module_version": "1.2.0",
      "_model_name": "LayoutModel",
      "_view_count": null,
      "_view_module": "@jupyter-widgets/base",
      "_view_module_version": "1.2.0",
      "_view_name": "LayoutView",
      "align_content": null,
      "align_items": null,
      "align_self": null,
      "border": null,
      "bottom": null,
      "display": null,
      "flex": null,
      "flex_flow": null,
      "grid_area": null,
      "grid_auto_columns": null,
      "grid_auto_flow": null,
      "grid_auto_rows": null,
      "grid_column": null,
      "grid_gap": null,
      "grid_row": null,
      "grid_template_areas": null,
      "grid_template_columns": null,
      "grid_template_rows": null,
      "height": null,
      "justify_content": null,
      "justify_items": null,
      "left": null,
      "margin": null,
      "max_height": null,
      "max_width": null,
      "min_height": null,
      "min_width": null,
      "object_fit": null,
      "object_position": null,
      "order": null,
      "overflow": null,
      "overflow_x": null,
      "overflow_y": null,
      "padding": null,
      "right": null,
      "top": null,
      "visibility": null,
      "width": null
     }
    },
    "63a78c695ca14ee3a68f5a6a21b32a2a": {
     "model_module": "@jupyter-widgets/base",
     "model_name": "LayoutModel",
     "state": {
      "_model_module": "@jupyter-widgets/base",
      "_model_module_version": "1.2.0",
      "_model_name": "LayoutModel",
      "_view_count": null,
      "_view_module": "@jupyter-widgets/base",
      "_view_module_version": "1.2.0",
      "_view_name": "LayoutView",
      "align_content": null,
      "align_items": null,
      "align_self": null,
      "border": null,
      "bottom": null,
      "display": null,
      "flex": null,
      "flex_flow": null,
      "grid_area": null,
      "grid_auto_columns": null,
      "grid_auto_flow": null,
      "grid_auto_rows": null,
      "grid_column": null,
      "grid_gap": null,
      "grid_row": null,
      "grid_template_areas": null,
      "grid_template_columns": null,
      "grid_template_rows": null,
      "height": null,
      "justify_content": null,
      "justify_items": null,
      "left": null,
      "margin": null,
      "max_height": null,
      "max_width": null,
      "min_height": null,
      "min_width": null,
      "object_fit": null,
      "object_position": null,
      "order": null,
      "overflow": null,
      "overflow_x": null,
      "overflow_y": null,
      "padding": null,
      "right": null,
      "top": null,
      "visibility": null,
      "width": null
     }
    },
    "84d435a0b8e84169a3618692a2420788": {
     "model_module": "@jupyter-widgets/controls",
     "model_name": "IntProgressModel",
     "state": {
      "_dom_classes": [],
      "_model_module": "@jupyter-widgets/controls",
      "_model_module_version": "1.5.0",
      "_model_name": "IntProgressModel",
      "_view_count": null,
      "_view_module": "@jupyter-widgets/controls",
      "_view_module_version": "1.5.0",
      "_view_name": "ProgressView",
      "bar_style": "success",
      "description": "Converting examples to features: 100%",
      "description_tooltip": null,
      "layout": "IPY_MODEL_63a78c695ca14ee3a68f5a6a21b32a2a",
      "max": 55902,
      "min": 0,
      "orientation": "horizontal",
      "style": "IPY_MODEL_c40dc0d6186f469aa27037f6c2116c06",
      "value": 55902
     }
    },
    "8d9249a15bfd4f03bbac5a24dbd93acd": {
     "model_module": "@jupyter-widgets/controls",
     "model_name": "DescriptionStyleModel",
     "state": {
      "_model_module": "@jupyter-widgets/controls",
      "_model_module_version": "1.5.0",
      "_model_name": "DescriptionStyleModel",
      "_view_count": null,
      "_view_module": "@jupyter-widgets/base",
      "_view_module_version": "1.2.0",
      "_view_name": "StyleView",
      "description_width": ""
     }
    },
    "bb640f5b752e4014a6ea15473b6c7227": {
     "model_module": "@jupyter-widgets/controls",
     "model_name": "HTMLModel",
     "state": {
      "_dom_classes": [],
      "_model_module": "@jupyter-widgets/controls",
      "_model_module_version": "1.5.0",
      "_model_name": "HTMLModel",
      "_view_count": null,
      "_view_module": "@jupyter-widgets/controls",
      "_view_module_version": "1.5.0",
      "_view_name": "HTMLView",
      "description": "",
      "description_tooltip": null,
      "layout": "IPY_MODEL_56adfb368704444688e9625814443fc4",
      "placeholder": "​",
      "style": "IPY_MODEL_8d9249a15bfd4f03bbac5a24dbd93acd",
      "value": " 55902/55902 [00:12&lt;00:00, 4357.26it/s]"
     }
    },
    "c40dc0d6186f469aa27037f6c2116c06": {
     "model_module": "@jupyter-widgets/controls",
     "model_name": "ProgressStyleModel",
     "state": {
      "_model_module": "@jupyter-widgets/controls",
      "_model_module_version": "1.5.0",
      "_model_name": "ProgressStyleModel",
      "_view_count": null,
      "_view_module": "@jupyter-widgets/base",
      "_view_module_version": "1.2.0",
      "_view_name": "StyleView",
      "bar_color": null,
      "description_width": "initial"
     }
    },
    "dec787a2f91f4b7383dc5f6f8077d3ca": {
     "model_module": "@jupyter-widgets/base",
     "model_name": "LayoutModel",
     "state": {
      "_model_module": "@jupyter-widgets/base",
      "_model_module_version": "1.2.0",
      "_model_name": "LayoutModel",
      "_view_count": null,
      "_view_module": "@jupyter-widgets/base",
      "_view_module_version": "1.2.0",
      "_view_name": "LayoutView",
      "align_content": null,
      "align_items": null,
      "align_self": null,
      "border": null,
      "bottom": null,
      "display": null,
      "flex": null,
      "flex_flow": null,
      "grid_area": null,
      "grid_auto_columns": null,
      "grid_auto_flow": null,
      "grid_auto_rows": null,
      "grid_column": null,
      "grid_gap": null,
      "grid_row": null,
      "grid_template_areas": null,
      "grid_template_columns": null,
      "grid_template_rows": null,
      "height": null,
      "justify_content": null,
      "justify_items": null,
      "left": null,
      "margin": null,
      "max_height": null,
      "max_width": null,
      "min_height": null,
      "min_width": null,
      "object_fit": null,
      "object_position": null,
      "order": null,
      "overflow": null,
      "overflow_x": null,
      "overflow_y": null,
      "padding": null,
      "right": null,
      "top": null,
      "visibility": null,
      "width": null
     }
    },
    "f3528762220042a8b210058707cb10a6": {
     "model_module": "@jupyter-widgets/controls",
     "model_name": "HTMLModel",
     "state": {
      "_dom_classes": [],
      "_model_module": "@jupyter-widgets/controls",
      "_model_module_version": "1.5.0",
      "_model_name": "HTMLModel",
      "_view_count": null,
      "_view_module": "@jupyter-widgets/controls",
      "_view_module_version": "1.5.0",
      "_view_name": "HTMLView",
      "description": "",
      "description_tooltip": null,
      "layout": "IPY_MODEL_1f76b789fcc849d6b1d75b5e59e95f9e",
      "placeholder": "​",
      "style": "IPY_MODEL_fc6acda69ce64e339ee3095ef8ad0268",
      "value": " 167704/167704 [00:39&lt;00:00, 4259.90it/s]"
     }
    },
    "f5bfeac91df5420d9ceb757bd4e13811": {
     "model_module": "@jupyter-widgets/base",
     "model_name": "LayoutModel",
     "state": {
      "_model_module": "@jupyter-widgets/base",
      "_model_module_version": "1.2.0",
      "_model_name": "LayoutModel",
      "_view_count": null,
      "_view_module": "@jupyter-widgets/base",
      "_view_module_version": "1.2.0",
      "_view_name": "LayoutView",
      "align_content": null,
      "align_items": null,
      "align_self": null,
      "border": null,
      "bottom": null,
      "display": null,
      "flex": null,
      "flex_flow": null,
      "grid_area": null,
      "grid_auto_columns": null,
      "grid_auto_flow": null,
      "grid_auto_rows": null,
      "grid_column": null,
      "grid_gap": null,
      "grid_row": null,
      "grid_template_areas": null,
      "grid_template_columns": null,
      "grid_template_rows": null,
      "height": null,
      "justify_content": null,
      "justify_items": null,
      "left": null,
      "margin": null,
      "max_height": null,
      "max_width": null,
      "min_height": null,
      "min_width": null,
      "object_fit": null,
      "object_position": null,
      "order": null,
      "overflow": null,
      "overflow_x": null,
      "overflow_y": null,
      "padding": null,
      "right": null,
      "top": null,
      "visibility": null,
      "width": null
     }
    },
    "fc6acda69ce64e339ee3095ef8ad0268": {
     "model_module": "@jupyter-widgets/controls",
     "model_name": "DescriptionStyleModel",
     "state": {
      "_model_module": "@jupyter-widgets/controls",
      "_model_module_version": "1.5.0",
      "_model_name": "DescriptionStyleModel",
      "_view_count": null,
      "_view_module": "@jupyter-widgets/base",
      "_view_module_version": "1.2.0",
      "_view_name": "StyleView",
      "description_width": ""
     }
    },
    "ff7960e11aaf40b088f7a5c2649aae93": {
     "model_module": "@jupyter-widgets/controls",
     "model_name": "HBoxModel",
     "state": {
      "_dom_classes": [],
      "_model_module": "@jupyter-widgets/controls",
      "_model_module_version": "1.5.0",
      "_model_name": "HBoxModel",
      "_view_count": null,
      "_view_module": "@jupyter-widgets/controls",
      "_view_module_version": "1.5.0",
      "_view_name": "HBoxView",
      "box_style": "",
      "children": [
       "IPY_MODEL_84d435a0b8e84169a3618692a2420788",
       "IPY_MODEL_bb640f5b752e4014a6ea15473b6c7227"
      ],
      "layout": "IPY_MODEL_4aee85c0f744445e89467d44340d60c3"
     }
    }
   }
  }
 },
 "nbformat": 4,
 "nbformat_minor": 1
}
